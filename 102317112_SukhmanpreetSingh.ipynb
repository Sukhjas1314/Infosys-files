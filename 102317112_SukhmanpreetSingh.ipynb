{
 "cells": [
  {
   "cell_type": "code",
   "execution_count": null,
   "id": "96224958",
   "metadata": {},
   "outputs": [
    {
     "ename": "",
     "evalue": "",
     "output_type": "error",
     "traceback": [
      "\u001b[1;31mRunning cells with '/usr/local/bin/python3' requires the ipykernel package.\n",
      "\u001b[1;31mRun the following command to install 'ipykernel' into the Python environment. \n",
      "\u001b[1;31mCommand: '/usr/local/bin/python3 -m pip install ipykernel -U --user --force-reinstall'"
     ]
    }
   ],
   "source": [
    "                #Using the previously defined libraries in anaconda jupiter like pandas and matplotlib \n",
    "import pandas as pd\n",
    "import matplotlib.pyplot as plt\n",
    "\n",
    "                #Creating the dataframe of temperatures on respective dates of two cities\n",
    "temp_data={\n",
    "    'Date   ' : pd.date_range(start='2023-01-01',end='2023-01-10'),\n",
    "    'City_A' : [25.5,26.2,24.8,23.5,22.9,27.0,26.5,25.8,24.0,23.2],\n",
    "    'City_B' : [22.0,21.5,23.8,25.0,24.5,22.5,21.0,23.2,24.5,25.0],\n",
    "}\n",
    "temperature_df=pd.DataFrame(temp_data)\n",
    "\n",
    "                #To display the dataframe of temperature of two cities on different dates(days)\n",
    "print(\"\\n\")\n",
    "print(temperature_df)\n",
    "\n",
    "                #To find the average temperature of the two cities\n",
    "avg_temp_city=temperature_df.mean(axis=0)\n",
    "print(\"\\n\\nThe average temperature of each city is: \")\n",
    "print(avg_temp_city)\n",
    "\n",
    "                #To find the maximum temperature of the city A and the date of the maximum temperature and the temperature in city B on that day\n",
    "max_temp_city_A = temperature_df[temperature_df['City_A'] == temperature_df['City_A'].max()]\n",
    "print(\"\\n\\nDate with the highest temperature in City A:\")\n",
    "print(max_temp_city_A)\n",
    "print(\"\\n\\n\")\n",
    "\n",
    "                #To display the graph of the following dataframe between the temperature of the two cities and the date\n",
    "plt.figure(figsize=(10, 7))\n",
    "\n",
    "                #Visualisation using bar graph\n",
    "bar_width = 0.4           \n",
    "index = temperature_df.index\n",
    "               #Plotting bar graph with thge following specifdications for city A and city B\n",
    "plt.bar(index - bar_width/2, temperature_df['City_A'], bar_width, color = 'black', label='City A')\n",
    "plt.bar(index + bar_width/2, temperature_df['City_B'], bar_width, color = 'magenta', label='City B')\n",
    "               #Labels of the bar graph and the titles etc.\n",
    "plt.xlabel('Date(Y-M-D)')\n",
    "plt.ylabel('Temperature(°C)')\n",
    "plt.title('Temperature Trends of two cities')\n",
    "plt.xticks(index, temperature_df['Date   '].dt.strftime('%Y-%m-%d'),rotation=30)\n",
    "plt.legend()\n",
    "              #Displaying the bar graph\n",
    "plt.show()"
   ]
  },
  {
   "cell_type": "code",
   "execution_count": null,
   "id": "1b84c745",
   "metadata": {},
   "outputs": [
    {
     "ename": "",
     "evalue": "",
     "output_type": "error",
     "traceback": [
      "\u001b[1;31mRunning cells with '/usr/local/bin/python3' requires the ipykernel package.\n",
      "\u001b[1;31mRun the following command to install 'ipykernel' into the Python environment. \n",
      "\u001b[1;31mCommand: '/usr/local/bin/python3 -m pip install ipykernel -U --user --force-reinstall'"
     ]
    }
   ],
   "source": []
  }
 ],
 "metadata": {
  "kernelspec": {
   "display_name": "Python 3 (ipykernel)",
   "language": "python",
   "name": "python3"
  },
  "language_info": {
   "codemirror_mode": {
    "name": "ipython",
    "version": 3
   },
   "file_extension": ".py",
   "mimetype": "text/x-python",
   "name": "python",
   "nbconvert_exporter": "python",
   "pygments_lexer": "ipython3",
   "version": "3.12.1"
  }
 },
 "nbformat": 4,
 "nbformat_minor": 5
}
