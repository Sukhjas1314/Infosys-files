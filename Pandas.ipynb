{
 "cells": [
  {
   "cell_type": "code",
   "execution_count": 4,
   "id": "5590fb73",
   "metadata": {},
   "outputs": [
    {
     "name": "stdout",
     "output_type": "stream",
     "text": [
      "0    1\n",
      "1    7\n",
      "2    4\n",
      "dtype: int64\n"
     ]
    }
   ],
   "source": [
    "import pandas as pd\n",
    "myvar = pd.Series([1,7,4])\n",
    "print(myvar)"
   ]
  },
  {
   "cell_type": "code",
   "execution_count": 5,
   "id": "d8755ee5",
   "metadata": {},
   "outputs": [
    {
     "data": {
      "text/plain": [
       "4"
      ]
     },
     "execution_count": 5,
     "metadata": {},
     "output_type": "execute_result"
    }
   ],
   "source": [
    "myvar[2]"
   ]
  },
  {
   "cell_type": "code",
   "execution_count": 7,
   "id": "9f710bee",
   "metadata": {},
   "outputs": [
    {
     "name": "stdout",
     "output_type": "stream",
     "text": [
      "         Calories  Duration\n",
      "Running       420        50\n",
      "Cycling       380        40\n",
      "Gymming       390        45\n"
     ]
    }
   ],
   "source": [
    "import pandas as pd\n",
    "data = {\n",
    "    \"Calories\" : [420,380,390],\n",
    "    \"Duration\" : [50,40,45]\n",
    "}\n",
    "df = pd.DataFrame(data, index = [\"Running\",\"Cycling\",\"Gymmingb\"])\n",
    "print(df)"
   ]
  },
  {
   "cell_type": "code",
   "execution_count": 10,
   "id": "4b86fbf5",
   "metadata": {},
   "outputs": [
    {
     "data": {
      "text/html": [
       "<div>\n",
       "<style scoped>\n",
       "    .dataframe tbody tr th:only-of-type {\n",
       "        vertical-align: middle;\n",
       "    }\n",
       "\n",
       "    .dataframe tbody tr th {\n",
       "        vertical-align: top;\n",
       "    }\n",
       "\n",
       "    .dataframe thead th {\n",
       "        text-align: right;\n",
       "    }\n",
       "</style>\n",
       "<table border=\"1\" class=\"dataframe\">\n",
       "  <thead>\n",
       "    <tr style=\"text-align: right;\">\n",
       "      <th></th>\n",
       "      <th>Calories</th>\n",
       "      <th>Duration</th>\n",
       "    </tr>\n",
       "  </thead>\n",
       "  <tbody>\n",
       "    <tr>\n",
       "      <th>Running</th>\n",
       "      <td>420</td>\n",
       "      <td>50</td>\n",
       "    </tr>\n",
       "    <tr>\n",
       "      <th>Cycling</th>\n",
       "      <td>380</td>\n",
       "      <td>40</td>\n",
       "    </tr>\n",
       "    <tr>\n",
       "      <th>Gymming</th>\n",
       "      <td>390</td>\n",
       "      <td>45</td>\n",
       "    </tr>\n",
       "  </tbody>\n",
       "</table>\n",
       "</div>"
      ],
      "text/plain": [
       "         Calories  Duration\n",
       "Running       420        50\n",
       "Cycling       380        40\n",
       "Gymming       390        45"
      ]
     },
     "execution_count": 10,
     "metadata": {},
     "output_type": "execute_result"
    }
   ],
   "source": [
    "df[[\"Calories\",\"Duration\"]]"
   ]
  },
  {
   "cell_type": "code",
   "execution_count": 13,
   "id": "9e1bc1a6",
   "metadata": {},
   "outputs": [
    {
     "data": {
      "text/html": [
       "<div>\n",
       "<style scoped>\n",
       "    .dataframe tbody tr th:only-of-type {\n",
       "        vertical-align: middle;\n",
       "    }\n",
       "\n",
       "    .dataframe tbody tr th {\n",
       "        vertical-align: top;\n",
       "    }\n",
       "\n",
       "    .dataframe thead th {\n",
       "        text-align: right;\n",
       "    }\n",
       "</style>\n",
       "<table border=\"1\" class=\"dataframe\">\n",
       "  <thead>\n",
       "    <tr style=\"text-align: right;\">\n",
       "      <th></th>\n",
       "      <th>Calories</th>\n",
       "      <th>Duration</th>\n",
       "    </tr>\n",
       "  </thead>\n",
       "  <tbody>\n",
       "    <tr>\n",
       "      <th>Cycling</th>\n",
       "      <td>380</td>\n",
       "      <td>40</td>\n",
       "    </tr>\n",
       "    <tr>\n",
       "      <th>Running</th>\n",
       "      <td>420</td>\n",
       "      <td>50</td>\n",
       "    </tr>\n",
       "  </tbody>\n",
       "</table>\n",
       "</div>"
      ],
      "text/plain": [
       "         Calories  Duration\n",
       "Cycling       380        40\n",
       "Running       420        50"
      ]
     },
     "execution_count": 13,
     "metadata": {},
     "output_type": "execute_result"
    }
   ],
   "source": [
    "df.loc[[\"Cycling\",\"Running\"]]"
   ]
  },
  {
   "cell_type": "code",
   "execution_count": 14,
   "id": "ff1aef56",
   "metadata": {},
   "outputs": [
    {
     "data": {
      "text/plain": [
       "Calories    390\n",
       "Duration     45\n",
       "Name: Gymming, dtype: int64"
      ]
     },
     "execution_count": 14,
     "metadata": {},
     "output_type": "execute_result"
    }
   ],
   "source": [
    "df.iloc[2]"
   ]
  },
  {
   "cell_type": "code",
   "execution_count": 69,
   "id": "ff73b485",
   "metadata": {},
   "outputs": [
    {
     "name": "stdout",
     "output_type": "stream",
     "text": [
      "   Roll No.       Name  Marks\n",
      "0         1    Sukhman    100\n",
      "1         2      Daksh     95\n",
      "2         3     Harith     97\n",
      "3         4     Jashan     99\n",
      "4         5     Gaurav     93\n",
      "5         6  Harvinder     90\n",
      "6         7    Sarthak     93\n",
      "7         8    Gungeet     95\n",
      "8         9     Swayam     90\n",
      "9        10    Pritish     92\n"
     ]
    }
   ],
   "source": [
    "df = pd.read_csv(\"Sample file.csv\")\n",
    "print(df)"
   ]
  },
  {
   "cell_type": "code",
   "execution_count": 66,
   "id": "e428bbbd",
   "metadata": {},
   "outputs": [
    {
     "name": "stdout",
     "output_type": "stream",
     "text": [
      "    Roll No.       Name  Marks\n",
      "6          6  Harvinder     90\n",
      "7          7    Sarthak     93\n",
      "8          8    Gungeet     95\n",
      "9          9     Swayam     90\n",
      "10        10    Pritish     92\n"
     ]
    }
   ],
   "source": [
    "print(df.tail())"
   ]
  },
  {
   "cell_type": "code",
   "execution_count": 50,
   "id": "90f3bc10",
   "metadata": {},
   "outputs": [
    {
     "name": "stdout",
     "output_type": "stream",
     "text": [
      "Index(['Roll No.', 'Name', 'Marks'], dtype='object')\n"
     ]
    }
   ],
   "source": [
    "print(df.columns)"
   ]
  },
  {
   "cell_type": "code",
   "execution_count": 45,
   "id": "850ca480",
   "metadata": {},
   "outputs": [
    {
     "name": "stdout",
     "output_type": "stream",
     "text": [
      "   Roll No.     Name  Marks\n",
      "1         1  Sukhman    100\n",
      "2         2    Daksh     95\n",
      "3         3   Harith     97\n",
      "4         4   Jashan     99\n",
      "5         5   Gaurav     93\n"
     ]
    }
   ],
   "source": [
    "print(df.head())"
   ]
  },
  {
   "cell_type": "code",
   "execution_count": 49,
   "id": "4ff7f53e",
   "metadata": {},
   "outputs": [
    {
     "name": "stdout",
     "output_type": "stream",
     "text": [
      "RangeIndex(start=1, stop=11, step=1)\n"
     ]
    }
   ],
   "source": [
    "print(df.index)"
   ]
  },
  {
   "cell_type": "code",
   "execution_count": 36,
   "id": "65d3a1e8",
   "metadata": {},
   "outputs": [
    {
     "name": "stdout",
     "output_type": "stream",
     "text": [
      "(10, 3)\n"
     ]
    }
   ],
   "source": [
    "print(df.shape)"
   ]
  },
  {
   "cell_type": "code",
   "execution_count": 46,
   "id": "570a0e2e",
   "metadata": {},
   "outputs": [
    {
     "name": "stdout",
     "output_type": "stream",
     "text": [
      "       Roll No.       Marks\n",
      "count  10.00000   10.000000\n",
      "mean    5.50000   94.400000\n",
      "std     3.02765    3.470511\n",
      "min     1.00000   90.000000\n",
      "25%     3.25000   92.250000\n",
      "50%     5.50000   94.000000\n",
      "75%     7.75000   96.500000\n",
      "max    10.00000  100.000000\n"
     ]
    }
   ],
   "source": [
    "print(df.describe())"
   ]
  },
  {
   "cell_type": "code",
   "execution_count": 47,
   "id": "14544ce4",
   "metadata": {},
   "outputs": [
    {
     "name": "stdout",
     "output_type": "stream",
     "text": [
      "<class 'pandas.core.frame.DataFrame'>\n",
      "RangeIndex: 10 entries, 1 to 10\n",
      "Data columns (total 3 columns):\n",
      " #   Column    Non-Null Count  Dtype \n",
      "---  ------    --------------  ----- \n",
      " 0   Roll No.  10 non-null     int64 \n",
      " 1   Name      10 non-null     object\n",
      " 2   Marks     10 non-null     int64 \n",
      "dtypes: int64(2), object(1)\n",
      "memory usage: 372.0+ bytes\n",
      "None\n"
     ]
    }
   ],
   "source": [
    "print(df.info())"
   ]
  },
  {
   "cell_type": "code",
   "execution_count": 48,
   "id": "7bd855b8",
   "metadata": {},
   "outputs": [
    {
     "name": "stdout",
     "output_type": "stream",
     "text": [
      "Roll No.     int64\n",
      "Name        object\n",
      "Marks        int64\n",
      "dtype: object\n"
     ]
    }
   ],
   "source": [
    "print(df.dtypes)"
   ]
  },
  {
   "cell_type": "code",
   "execution_count": 101,
   "id": "2d6fbcfd",
   "metadata": {},
   "outputs": [
    {
     "name": "stdout",
     "output_type": "stream",
     "text": [
      "   Roll No.       Name  Marks\n",
      "0         1    Sukhman  100.0\n",
      "1         2      Daksh   95.0\n",
      "2         3     Harith   97.0\n",
      "3         4     Jashan   99.0\n",
      "4         5     Gaurav    NaN\n",
      "5         6  Harvinder   90.0\n",
      "6         7    Sarthak   93.0\n",
      "7         8    Gungeet   95.0\n",
      "8         9     Swayam   90.0\n",
      "9        10    Pritish   92.0\n"
     ]
    }
   ],
   "source": [
    "df = pd.read_csv(\"Sample_file.csv\")\n",
    "print(df)"
   ]
  },
  {
   "cell_type": "code",
   "execution_count": 99,
   "id": "bf0c1712",
   "metadata": {},
   "outputs": [
    {
     "name": "stdout",
     "output_type": "stream",
     "text": [
      "<class 'pandas.core.frame.DataFrame'>\n",
      "RangeIndex: 10 entries, 0 to 9\n",
      "Data columns (total 2 columns):\n",
      " #   Column    Non-Null Count  Dtype \n",
      "---  ------    --------------  ----- \n",
      " 0   Roll No.  10 non-null     int64 \n",
      " 1   Name      10 non-null     object\n",
      "dtypes: int64(1), object(1)\n",
      "memory usage: 292.0+ bytes\n"
     ]
    }
   ],
   "source": [
    "df.info()"
   ]
  },
  {
   "cell_type": "code",
   "execution_count": 103,
   "id": "90b4e0fd",
   "metadata": {},
   "outputs": [
    {
     "name": "stdout",
     "output_type": "stream",
     "text": [
      "   Roll No.       Name  Marks\n",
      "0         1    Sukhman  100.0\n",
      "1         2      Daksh   95.0\n",
      "2         3     Harith   97.0\n",
      "3         4     Jashan   99.0\n",
      "5         6  Harvinder   90.0\n",
      "6         7    Sarthak   93.0\n",
      "7         8    Gungeet   95.0\n",
      "8         9     Swayam   90.0\n",
      "9        10    Pritish   92.0\n"
     ]
    }
   ],
   "source": [
    "df = df.dropna(axis = 0)\n",
    "print(df)"
   ]
  },
  {
   "cell_type": "code",
   "execution_count": 105,
   "id": "d1848910",
   "metadata": {},
   "outputs": [
    {
     "name": "stdout",
     "output_type": "stream",
     "text": [
      "   Roll No.       Name  Marks\n",
      "0         1    Sukhman  100.0\n",
      "1         2      Daksh   95.0\n",
      "2         3     Harith   97.0\n",
      "3         4     Jashan   99.0\n",
      "4         5     Gaurav   95.0\n",
      "5         6  Harvinder   90.0\n",
      "6         7    Sarthak   93.0\n",
      "7         8    Gungeet   95.0\n",
      "8         9     Swayam   90.0\n",
      "9        10    Pritish   92.0\n"
     ]
    }
   ],
   "source": [
    "df = pd.read_csv(\"Sample_file.csv\")\n",
    "df = df.fillna(95)\n",
    "print(df)"
   ]
  },
  {
   "cell_type": "code",
   "execution_count": 107,
   "id": "3c3476df",
   "metadata": {},
   "outputs": [
    {
     "name": "stdout",
     "output_type": "stream",
     "text": [
      "   Roll No.     Name  Marks\n",
      "0         1  Sukhman  100.0\n",
      "1         2    Daksh   95.0\n",
      "2         3   Harith   97.0\n",
      "3         4   Jashan   99.0\n",
      "4         5   Gaurav   95.0\n",
      "7         8  Gungeet   95.0\n"
     ]
    }
   ],
   "source": [
    "print(df.loc[df[\"Marks\"] >= 95])"
   ]
  },
  {
   "cell_type": "code",
   "execution_count": 110,
   "id": "f97b50ba",
   "metadata": {},
   "outputs": [
    {
     "name": "stdout",
     "output_type": "stream",
     "text": [
      "5    Harvinder\n",
      "Name: Name, dtype: object\n"
     ]
    }
   ],
   "source": [
    "print(df.loc[df[\"Roll No.\"] == 6][\"Name\"])"
   ]
  },
  {
   "cell_type": "code",
   "execution_count": 111,
   "id": "3897e844",
   "metadata": {},
   "outputs": [
    {
     "name": "stdout",
     "output_type": "stream",
     "text": [
      "0      Sukhman\n",
      "5    Harvinder\n",
      "8       Swayam\n",
      "9      Pritish\n",
      "Name: Name, dtype: object\n"
     ]
    }
   ],
   "source": [
    "print(df.loc[df[\"Marks\"] % 2 == 0][\"Name\"])"
   ]
  }
 ],
 "metadata": {
  "kernelspec": {
   "display_name": "Python 3 (ipykernel)",
   "language": "python",
   "name": "python3"
  },
  "language_info": {
   "codemirror_mode": {
    "name": "ipython",
    "version": 3
   },
   "file_extension": ".py",
   "mimetype": "text/x-python",
   "name": "python",
   "nbconvert_exporter": "python",
   "pygments_lexer": "ipython3",
   "version": "3.11.5"
  }
 },
 "nbformat": 4,
 "nbformat_minor": 5
}
