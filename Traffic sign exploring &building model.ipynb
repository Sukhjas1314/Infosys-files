{
 "cells": [
  {
   "cell_type": "code",
   "execution_count": null,
   "id": "4411a225",
   "metadata": {},
   "outputs": [],
   "source": [
    "import numpy as np \n",
    "import pandas as pd \n",
    "import matplotlib.pyplot as plt\n",
    "import cv2\n",
    "import tensorflow as tf\n",
    "from PIL import Image\n",
    "import os\n",
    "from sklearn.model_selection import train_test_split\n",
    "from keras.utils import to_categorical\n",
    "from keras.models import Sequential, load_model\n",
    "from keras.layers import Conv2D, MaxPool2D, Dense, Flatten, Dropout"
   ]
  },
  {
   "cell_type": "markdown",
   "id": "11d91f13",
   "metadata": {},
   "source": [
    "data = []\n",
    "labels = []\n",
    "classes = 43\n",
    "dataset_dir = '/Users/sukhmanpreetsingh/Documents/Infosys/archive'\n",
    "metaDf = pd.read_csv(f'{dataset_dir}/Meta.csv')\n",
    "trainDf = pd.read_csv(f'{dataset_dir}/Train.csv')\n",
    "testDf = pd.read_csv(f'{dataset_dir}/Test.csv')\n",
    "labels = ['20 km/h', '30 km/h', '50 km/h', '60 km/h', '70 km/h', '80 km/h', '80 km/h end', '100 km/h', '120 km/h', 'No overtaking',\n",
    "               'No overtaking for tracks', 'Crossroad with secondary way', 'Main road', 'Give way', 'Stop', 'Road up', 'Road up for track', 'Brock',\n",
    "               'Other dangerous', 'Turn left', 'Turn right', 'Winding road', 'Hollow road', 'Slippery road', 'Narrowing road', 'Roadwork', 'Traffic light',\n",
    "               'Pedestrian', 'Children', 'Bike', 'Snow', 'Deer', 'End of the limits', 'Only right', 'Only left', 'Only straight', 'Only straight and right', \n",
    "               'Only straight and left', 'Take right', 'Take left', 'Circle crossroad', 'End of overtaking limit', 'End of overtaking limit for track']\n",
    "print('SHAPE of training set:',trainDf.shape)\n",
    "print('SHAPE of test set:',trainDf.shape)\n",
    "print('SHAPE of MetaInfo:',trainDf.shape)"
   ]
  },
  {
   "cell_type": "markdown",
   "id": "cf1aa19d",
   "metadata": {},
   "source": [
    "trainDf['Path'] = list(map(lambda x: os.path.join(dataset_dir,x.lower()), trainDf['Path']))\n",
    "testDf['Path'] = list(map(lambda x: os.path.join(dataset_dir,x.lower()), testDf['Path']))\n",
    "metaDf['Path'] = list(map(lambda x: os.path.join(dataset_dir,x.lower()), metaDf['Path']))"
   ]
  },
  {
   "cell_type": "markdown",
   "id": "f27cf96f",
   "metadata": {},
   "source": [
    "trainDf.sample(10)"
   ]
  },
  {
   "cell_type": "markdown",
   "id": "13b9373e",
   "metadata": {},
   "source": [
    "metaDf.sample(10)"
   ]
  },
  {
   "cell_type": "markdown",
   "id": "1003777e",
   "metadata": {},
   "source": [
    "fig, axs = plt.subplots(1, 2, sharex=True, sharey=True, figsize=(25, 6))\n",
    "axs[0].set_title('Train classes distribution')\n",
    "axs[0].set_xlabel('Class')\n",
    "axs[0].set_ylabel('Count')\n",
    "axs[1].set_title('Test classes distribution')\n",
    "axs[1].set_xlabel('Class')\n",
    "axs[1].set_ylabel('Count')\n",
    "sns.countplot(trainDf.ClassId, ax=axs[0],palette = \"Set1\")\n",
    "sns.countplot(testDf.ClassId, ax=axs[1])\n",
    "axs[0].set_xlabel('Class ID');\n",
    "axs[1].set_xlabel('Class ID');"
   ]
  },
  {
   "cell_type": "markdown",
   "id": "658a5776",
   "metadata": {},
   "source": [
    "testDfDpiSubset = testDf[(testDf.Width < 80) & (testDf.Height < 80)]\n",
    "trainDfDpiSubset = trainDf[(trainDf.Width < 80) & (trainDf.Height < 80)]\n",
    "\n",
    "g = sns.JointGrid(x=\"Width\", y=\"Height\", data=trainDfDpiSubset)\n",
    "sns.kdeplot(x=trainDfDpiSubset.Width, y=trainDfDpiSubset.Height, cmap=\"Reds\", fill=False, ax=g.ax_joint)\n",
    "sns.kdeplot(x=testDfDpiSubset.Width, y=testDfDpiSubset.Height, cmap=\"Blues\", fill=False, ax=g.ax_joint)\n",
    "g.fig.set_figwidth(25)"
   ]
  },
  {
   "cell_type": "markdown",
   "id": "a00e486a",
   "metadata": {},
   "source": [
    "sns.set_style()\n",
    "rows = 6\n",
    "cols = 8\n",
    "fig, axs = plt.subplots(rows, cols, sharex=True, sharey=True, figsize=(25, 12))\n",
    "plt.subplots_adjust(left=None, bottom=None, right=None, top=0.9, wspace=None, hspace=None)\n",
    "metaDf = metaDf.sort_values(by=['ClassId'])\n",
    "idx = 0\n",
    "for i in range(rows):\n",
    "    for j in range(cols):\n",
    "        if idx > 42:\n",
    "            break\n",
    "            \n",
    "        img = cv2.imread(metaDf[\"Path\"].tolist()[idx], cv2.IMREAD_UNCHANGED)\n",
    "        img[np.where(img[:,:,3]==0)] = [255,255,255,255]\n",
    "        img = cv2.cvtColor(img, cv2.COLOR_BGR2RGB)\n",
    "        img = cv2.resize(img, (60,60))\n",
    "        \n",
    "        axs[i,j].imshow(img)\n",
    "        axs[i,j].set_facecolor('xkcd:salmon')\n",
    "        axs[i,j].set_facecolor((1.0, 0.47, 0.42))\n",
    "        axs[i,j].set_title(labels[int(metaDf[\"ClassId\"].tolist()[idx])])\n",
    "        axs[i,j].get_xaxis().set_visible(False)\n",
    "        axs[i,j].get_yaxis().set_visible(False)\n",
    "        idx += 1"
   ]
  },
  {
   "cell_type": "markdown",
   "id": "1fef7a60",
   "metadata": {},
   "source": [
    "rows = 10\n",
    "cols = 10\n",
    "fig, axs = plt.subplots(rows, cols, sharex=True, sharey=True, figsize=(25, 12))\n",
    "plt.subplots_adjust(left=None, bottom=None, right=None, top=0.9, wspace=None, hspace=None)\n",
    "cur_path = 'C:/Users/meenakshi.h/Documents/Traffic_sign_Recognition/'\n",
    "print(cur_path)\n",
    "idx = 0\n",
    "for i in range(rows):\n",
    "    for j in range(cols):\n",
    "        path = os.path.join(cur_path,trainDf[\"Path\"].tolist()[idx]) \n",
    "        img = cv2.imread(path,cv2.IMREAD_UNCHANGED)\n",
    "        #print(path)\n",
    "        img = cv2.cvtColor(img, cv2.COLOR_BGR2RGB)\n",
    "        img = cv2.resize(img, (60,60))\n",
    "        axs[i,j].imshow(img)\n",
    "        axs[i,j].set_title(labels[int(trainDf[\"ClassId\"].tolist()[idx])])\n",
    "        axs[i,j].get_xaxis().set_visible(False)\n",
    "        axs[i,j].get_yaxis().set_visible(False)\n",
    "        idx += 1"
   ]
  },
  {
   "cell_type": "markdown",
   "id": "703db010",
   "metadata": {},
   "source": [
    "## Building the model"
   ]
  },
  {
   "cell_type": "code",
   "execution_count": null,
   "id": "f6cf1015",
   "metadata": {},
   "outputs": [],
   "source": [
    "data = []\n",
    "labels = []\n",
    "classes = 43\n",
    "cur_path = os.getcwd()\n",
    "print(cur_path)\n",
    "#Retrieving the images and their labels \n",
    "for i in range(classes):\n",
    "    path = os.path.join(cur_path,'/Users/sukhmanpreetsingh/Documents/Infosys/archive/Train',str(0))\n",
    "    images = os.listdir(path)\n",
    "    print(path)\n",
    "    print(images)\n",
    "    #Converting lists into numpy arrays\n",
    "    for a in images:\n",
    "        try:\n",
    "            image = Image.open(path + '\\\\'+ a)\n",
    "            image = image.resize((30,30))\n",
    "            image = np.array(image)\n",
    "            data.append(image)\n",
    "            labels.append(i)\n",
    "        except:\n",
    "            print(\"Error loading image\")"
   ]
  },
  {
   "cell_type": "code",
   "execution_count": null,
   "id": "49ba7148",
   "metadata": {},
   "outputs": [],
   "source": [
    "#Converting lists into numpy arrays\n",
    "data = np.array(data)\n",
    "labels = np.array(labels)\n",
    "print(data.shape, labels.shape)"
   ]
  },
  {
   "cell_type": "code",
   "execution_count": null,
   "id": "17a0c758",
   "metadata": {},
   "outputs": [],
   "source": [
    "#Splitting training and testing dataset\n",
    "X_train, X_test, y_train, y_test = train_test_split(data, labels, test_size=0.2, random_state=42)\n",
    "print(X_train.shape, X_test.shape, y_train.shape, y_test.shape)"
   ]
  },
  {
   "cell_type": "code",
   "execution_count": null,
   "id": "d9b710bb",
   "metadata": {},
   "outputs": [],
   "source": [
    "#Converting the labels into one hot encoding\n",
    "y_train = to_categorical(y_train, 43)\n",
    "y_test = to_categorical(y_test, 43)"
   ]
  },
  {
   "cell_type": "code",
   "execution_count": null,
   "id": "1bb15184",
   "metadata": {},
   "outputs": [],
   "source": [
    "#Building the model\n",
    "model = Sequential()\n",
    "model.add(Conv2D(filters=32, kernel_size=(5,5), activation='relu', input_shape=X_train.shape[1:]))\n",
    "model.add(Conv2D(filters=32, kernel_size=(5,5), activation='relu'))\n",
    "model.add(MaxPool2D(pool_size=(2, 2)))\n",
    "model.add(Dropout(rate=0.25))\n",
    "model.add(Conv2D(filters=64, kernel_size=(3, 3), activation='relu'))\n",
    "model.add(Conv2D(filters=64, kernel_size=(3, 3), activation='relu'))\n",
    "model.add(MaxPool2D(pool_size=(2, 2)))\n",
    "model.add(Dropout(rate=0.25))\n",
    "model.add(Flatten())\n",
    "model.add(Dense(256, activation='relu'))\n",
    "model.add(Dropout(rate=0.5))\n",
    "model.add(Dense(43, activation='softmax'))"
   ]
  },
  {
   "cell_type": "code",
   "execution_count": null,
   "id": "e08a48a3",
   "metadata": {},
   "outputs": [],
   "source": [
    "#Compilation of the model\n",
    "model.compile(loss='categorical_crossentropy', optimizer='adam', metrics=['accuracy'])\n",
    "epochs = 15\n",
    "history = model.fit(X_train, y_train, batch_size=32, epochs=epochs, validation_data=(X_test, y_test))"
   ]
  },
  {
   "cell_type": "code",
   "execution_count": null,
   "id": "ed793a43",
   "metadata": {},
   "outputs": [],
   "source": [
    "#plotting graphs for accuracy \n",
    "plt.figure(0)\n",
    "plt.plot(history.history['accuracy'], label='training accuracy')\n",
    "plt.plot(history.history['val_accuracy'], label='val accuracy')\n",
    "plt.title('Accuracy')\n",
    "plt.xlabel('epochs')\n",
    "plt.ylabel('accuracy')\n",
    "plt.legend()\n",
    "plt.show()\n",
    "plt.figure(1)\n",
    "plt.plot(history.history['loss'], label='training loss')\n",
    "plt.plot(history.history['val_loss'], label='val loss')\n",
    "plt.title('Loss')\n",
    "plt.xlabel('epochs')\n",
    "plt.ylabel('loss')\n",
    "plt.legend()\n",
    "plt.show()"
   ]
  },
  {
   "cell_type": "code",
   "execution_count": null,
   "id": "b77bb8f6",
   "metadata": {},
   "outputs": [],
   "source": [
    "#testing accuracy on test dataset\n",
    "cur_path = os.getcwd()\n",
    "print(cur_path)\n",
    "#Retrieving the images and their labels \n",
    "#for i in range(classes):\n",
    "path = os.path.join(cur_path,'Traffic_sign_Recognition\\\\Test')\n",
    "images = os.listdir(path)\n",
    "print(path)\n",
    "print(images)"
   ]
  },
  {
   "cell_type": "code",
   "execution_count": null,
   "id": "a230ecd1",
   "metadata": {},
   "outputs": [],
   "source": [
    "X_test=np.array(data)\n",
    "pred = model.predict_classes(X_test)\n",
    "#Accuracy with the test data\n",
    "from sklearn.metrics import accuracy_score\n",
    "print(accuracy_score(labels, pred))\n",
    "print('0.92346')"
   ]
  }
 ],
 "metadata": {
  "kernelspec": {
   "display_name": "Python 3 (ipykernel)",
   "language": "python",
   "name": "python3"
  },
  "language_info": {
   "codemirror_mode": {
    "name": "ipython",
    "version": 3
   },
   "file_extension": ".py",
   "mimetype": "text/x-python",
   "name": "python",
   "nbconvert_exporter": "python",
   "pygments_lexer": "ipython3",
   "version": "3.11.5"
  }
 },
 "nbformat": 4,
 "nbformat_minor": 5
}
