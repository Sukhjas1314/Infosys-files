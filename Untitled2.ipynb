{
 "cells": [
  {
   "cell_type": "code",
   "execution_count": 1,
   "id": "b0c8fd3a",
   "metadata": {},
   "outputs": [
    {
     "name": "stdout",
     "output_type": "stream",
     "text": [
      "0    10\n",
      "1    20\n",
      "2    30\n",
      "dtype: int64\n"
     ]
    }
   ],
   "source": [
    "import pandas as pd\n",
    "series1 = pd.Series([10,20,30])\n",
    "print(series1)"
   ]
  },
  {
   "cell_type": "code",
   "execution_count": 2,
   "id": "4fa3d22f",
   "metadata": {},
   "outputs": [
    {
     "name": "stdout",
     "output_type": "stream",
     "text": [
      "3       Arnab\n",
      "5    Samridhi\n",
      "1       Ramit\n",
      "2      Divyam\n",
      "4     Kritika\n",
      "dtype: object\n"
     ]
    }
   ],
   "source": [
    "series2 = pd.Series(['Arnab','Samridhi','Ramit','Divyam','Kritika'],index = [3,5,1,2,4])\n",
    "print(series2)"
   ]
  },
  {
   "cell_type": "code",
   "execution_count": 3,
   "id": "38854ae5",
   "metadata": {},
   "outputs": [
    {
     "name": "stdout",
     "output_type": "stream",
     "text": [
      "Feb    2\n",
      "Mar    3\n",
      "Apr    4\n",
      "dtype: int64\n"
     ]
    }
   ],
   "source": [
    "series3 = pd.Series([2,3,4],index = ['Feb','Mar','Apr'])\n",
    "print(series3)"
   ]
  },
  {
   "cell_type": "code",
   "execution_count": 4,
   "id": "a6baef5d",
   "metadata": {},
   "outputs": [
    {
     "name": "stdout",
     "output_type": "stream",
     "text": [
      "0    1\n",
      "1    2\n",
      "2    3\n",
      "3    4\n",
      "dtype: int64\n"
     ]
    }
   ],
   "source": [
    "import numpy as np\n",
    "import pandas as pd\n",
    "array1 = np.array([1,2,3,4])\n",
    "series = pd.Series(array1)\n",
    "print(series)"
   ]
  },
  {
   "cell_type": "code",
   "execution_count": 5,
   "id": "5fc63220",
   "metadata": {},
   "outputs": [
    {
     "name": "stdout",
     "output_type": "stream",
     "text": [
      "Jan    1\n",
      "Feb    2\n",
      "Mar    3\n",
      "Apr    4\n",
      "dtype: int64\n"
     ]
    }
   ],
   "source": [
    "series2 = pd.Series(array1,index = ['Jan','Feb','Mar','Apr'])\n",
    "print(series2)"
   ]
  },
  {
   "cell_type": "code",
   "execution_count": 6,
   "id": "aceb44c0",
   "metadata": {},
   "outputs": [
    {
     "name": "stdout",
     "output_type": "stream",
     "text": [
      "{'India': 'New Delhi', 'UK': 'London', 'Japan': 'Tokyo'}\n"
     ]
    }
   ],
   "source": [
    "dict1 = {'India': 'New Delhi','UK':'London','Japan':'Tokyo'}\n",
    "print(dict1)"
   ]
  },
  {
   "cell_type": "code",
   "execution_count": 7,
   "id": "92dc6a3f",
   "metadata": {},
   "outputs": [
    {
     "name": "stdout",
     "output_type": "stream",
     "text": [
      "India    New Delhi\n",
      "UK          London\n",
      "Japan        Tokyo\n",
      "dtype: object\n"
     ]
    }
   ],
   "source": [
    "series3 = pd.Series(dict1)\n",
    "print(series3)"
   ]
  },
  {
   "cell_type": "code",
   "execution_count": 8,
   "id": "9faa7a67",
   "metadata": {},
   "outputs": [
    {
     "name": "stdout",
     "output_type": "stream",
     "text": [
      "London\n"
     ]
    }
   ],
   "source": [
    "print(series3['UK'])"
   ]
  },
  {
   "cell_type": "code",
   "execution_count": 9,
   "id": "d8e10618",
   "metadata": {},
   "outputs": [
    {
     "data": {
      "text/plain": [
       "Japan        Tokyo\n",
       "India    New Delhi\n",
       "dtype: object"
      ]
     },
     "execution_count": 9,
     "metadata": {},
     "output_type": "execute_result"
    }
   ],
   "source": [
    "series3[[2,0]]"
   ]
  },
  {
   "cell_type": "code",
   "execution_count": 10,
   "id": "29ed36f4",
   "metadata": {},
   "outputs": [
    {
     "data": {
      "text/plain": [
       "10    New Delhi\n",
       "20       London\n",
       "30        Tokyo\n",
       "dtype: object"
      ]
     },
     "execution_count": 10,
     "metadata": {},
     "output_type": "execute_result"
    }
   ],
   "source": [
    "series3.index = [10,20,30]\n",
    "series3"
   ]
  },
  {
   "cell_type": "code",
   "execution_count": 11,
   "id": "b012433c",
   "metadata": {},
   "outputs": [
    {
     "data": {
      "text/plain": [
       "10    New Delhi\n",
       "20       London\n",
       "30        Tokyo\n",
       "dtype: object"
      ]
     },
     "execution_count": 11,
     "metadata": {},
     "output_type": "execute_result"
    }
   ],
   "source": [
    "series3[0:3]"
   ]
  },
  {
   "cell_type": "code",
   "execution_count": 12,
   "id": "12575fe0",
   "metadata": {},
   "outputs": [
    {
     "data": {
      "text/plain": [
       "30        Tokyo\n",
       "20       London\n",
       "10    New Delhi\n",
       "dtype: object"
      ]
     },
     "execution_count": 12,
     "metadata": {},
     "output_type": "execute_result"
    }
   ],
   "source": [
    "series3[::-1]"
   ]
  },
  {
   "cell_type": "code",
   "execution_count": 13,
   "id": "d03e50d1",
   "metadata": {},
   "outputs": [
    {
     "name": "stdout",
     "output_type": "stream",
     "text": [
      "10    New Delhi\n",
      "20       London\n",
      "30        Tokyo\n",
      "Name: Capitals, dtype: object\n"
     ]
    }
   ],
   "source": [
    "series3.name = 'Capitals'\n",
    "print(series3)"
   ]
  },
  {
   "cell_type": "code",
   "execution_count": 14,
   "id": "d8fbb9a7",
   "metadata": {},
   "outputs": [
    {
     "name": "stdout",
     "output_type": "stream",
     "text": [
      "Countries\n",
      "10    New Delhi\n",
      "20       London\n",
      "30        Tokyo\n",
      "Name: Capitals, dtype: object\n"
     ]
    }
   ],
   "source": [
    "series3.index.name = 'Countries'\n",
    "print(series3)"
   ]
  },
  {
   "cell_type": "code",
   "execution_count": 15,
   "id": "d906f0e1",
   "metadata": {},
   "outputs": [
    {
     "data": {
      "text/plain": [
       "array(['New Delhi', 'London', 'Tokyo'], dtype=object)"
      ]
     },
     "execution_count": 15,
     "metadata": {},
     "output_type": "execute_result"
    }
   ],
   "source": [
    "series3.values"
   ]
  },
  {
   "cell_type": "code",
   "execution_count": 16,
   "id": "5cae0df3",
   "metadata": {},
   "outputs": [
    {
     "data": {
      "text/plain": [
       "3"
      ]
     },
     "execution_count": 16,
     "metadata": {},
     "output_type": "execute_result"
    }
   ],
   "source": [
    "series3.size"
   ]
  },
  {
   "cell_type": "code",
   "execution_count": 17,
   "id": "c005ef6a",
   "metadata": {},
   "outputs": [
    {
     "data": {
      "text/plain": [
       "False"
      ]
     },
     "execution_count": 17,
     "metadata": {},
     "output_type": "execute_result"
    }
   ],
   "source": [
    "series.empty"
   ]
  },
  {
   "cell_type": "code",
   "execution_count": 18,
   "id": "e038e89e",
   "metadata": {},
   "outputs": [
    {
     "data": {
      "text/plain": [
       "0     10\n",
       "1     11\n",
       "2     12\n",
       "3     13\n",
       "4     14\n",
       "5     15\n",
       "6     16\n",
       "7     17\n",
       "8     18\n",
       "9     19\n",
       "10    20\n",
       "dtype: int64"
      ]
     },
     "execution_count": 18,
     "metadata": {},
     "output_type": "execute_result"
    }
   ],
   "source": [
    "series4 = pd.Series(np.arange(10,21,1))\n",
    "series4"
   ]
  },
  {
   "cell_type": "code",
   "execution_count": 19,
   "id": "37e1632f",
   "metadata": {},
   "outputs": [
    {
     "data": {
      "text/plain": [
       "0    10\n",
       "1    11\n",
       "2    12\n",
       "3    13\n",
       "4    14\n",
       "dtype: int64"
      ]
     },
     "execution_count": 19,
     "metadata": {},
     "output_type": "execute_result"
    }
   ],
   "source": [
    "series4.head()"
   ]
  },
  {
   "cell_type": "code",
   "execution_count": 20,
   "id": "f4c3cd5e",
   "metadata": {},
   "outputs": [
    {
     "data": {
      "text/plain": [
       "6     16\n",
       "7     17\n",
       "8     18\n",
       "9     19\n",
       "10    20\n",
       "dtype: int64"
      ]
     },
     "execution_count": 20,
     "metadata": {},
     "output_type": "execute_result"
    }
   ],
   "source": [
    "series4.tail()"
   ]
  },
  {
   "cell_type": "code",
   "execution_count": 21,
   "id": "cbec509e",
   "metadata": {},
   "outputs": [
    {
     "data": {
      "text/plain": [
       "11"
      ]
     },
     "execution_count": 21,
     "metadata": {},
     "output_type": "execute_result"
    }
   ],
   "source": [
    "series4.count()"
   ]
  },
  {
   "cell_type": "code",
   "execution_count": 22,
   "id": "323ad70b",
   "metadata": {},
   "outputs": [
    {
     "data": {
      "text/plain": [
       "a     -9.0\n",
       "b      NaN\n",
       "c    -47.0\n",
       "d      NaN\n",
       "e    105.0\n",
       "y      NaN\n",
       "z      NaN\n",
       "dtype: float64"
      ]
     },
     "execution_count": 22,
     "metadata": {},
     "output_type": "execute_result"
    }
   ],
   "source": [
    "seriesA = pd.Series([1,2,3,4,5],index = ['a','b','c','d','e'])\n",
    "seriesB = pd.Series([10,20,-10,-50,100],index = ['z','y','a','c','e'])\n",
    "seriesA + seriesB"
   ]
  },
  {
   "cell_type": "code",
   "execution_count": 23,
   "id": "201d85ba",
   "metadata": {},
   "outputs": [
    {
     "data": {
      "text/plain": [
       "a    11.0\n",
       "b     NaN\n",
       "c    53.0\n",
       "d     NaN\n",
       "e   -95.0\n",
       "y     NaN\n",
       "z     NaN\n",
       "dtype: float64"
      ]
     },
     "execution_count": 23,
     "metadata": {},
     "output_type": "execute_result"
    }
   ],
   "source": [
    "seriesA -seriesB"
   ]
  },
  {
   "cell_type": "code",
   "execution_count": 24,
   "id": "c6240b2a",
   "metadata": {},
   "outputs": [
    {
     "data": {
      "text/plain": [
       "a     -9.0\n",
       "b      2.0\n",
       "c    -47.0\n",
       "d      4.0\n",
       "e    105.0\n",
       "y     20.0\n",
       "z     10.0\n",
       "dtype: float64"
      ]
     },
     "execution_count": 24,
     "metadata": {},
     "output_type": "execute_result"
    }
   ],
   "source": [
    "seriesA.add(seriesB,fill_value = 0)"
   ]
  },
  {
   "cell_type": "code",
   "execution_count": 25,
   "id": "5de76e60",
   "metadata": {},
   "outputs": [
    {
     "data": {
      "text/plain": [
       "a    11.0\n",
       "b     2.0\n",
       "c    53.0\n",
       "d     4.0\n",
       "e   -95.0\n",
       "y   -20.0\n",
       "z   -10.0\n",
       "dtype: float64"
      ]
     },
     "execution_count": 25,
     "metadata": {},
     "output_type": "execute_result"
    }
   ],
   "source": [
    "seriesA.sub(seriesB,fill_value = 0)"
   ]
  },
  {
   "cell_type": "code",
   "execution_count": 26,
   "id": "613eb532",
   "metadata": {},
   "outputs": [
    {
     "data": {
      "text/plain": [
       "a    -10.0\n",
       "b      2.0\n",
       "c   -150.0\n",
       "d      4.0\n",
       "e    500.0\n",
       "y     20.0\n",
       "z     10.0\n",
       "dtype: float64"
      ]
     },
     "execution_count": 26,
     "metadata": {},
     "output_type": "execute_result"
    }
   ],
   "source": [
    "seriesA.mul(seriesB,fill_value=1)"
   ]
  },
  {
   "cell_type": "code",
   "execution_count": 27,
   "id": "15cab152",
   "metadata": {},
   "outputs": [
    {
     "data": {
      "text/plain": [
       "a   -0.10\n",
       "b    2.00\n",
       "c   -0.06\n",
       "d    4.00\n",
       "e    0.05\n",
       "y    0.05\n",
       "z    0.10\n",
       "dtype: float64"
      ]
     },
     "execution_count": 27,
     "metadata": {},
     "output_type": "execute_result"
    }
   ],
   "source": [
    "seriesA.div(seriesB,fill_value = 1)"
   ]
  },
  {
   "cell_type": "code",
   "execution_count": 3,
   "id": "5ba17ee7",
   "metadata": {
    "scrolled": true
   },
   "outputs": [
    {
     "data": {
      "text/html": [
       "<div>\n",
       "<style scoped>\n",
       "    .dataframe tbody tr th:only-of-type {\n",
       "        vertical-align: middle;\n",
       "    }\n",
       "\n",
       "    .dataframe tbody tr th {\n",
       "        vertical-align: top;\n",
       "    }\n",
       "\n",
       "    .dataframe thead th {\n",
       "        text-align: right;\n",
       "    }\n",
       "</style>\n",
       "<table border=\"1\" class=\"dataframe\">\n",
       "  <thead>\n",
       "    <tr style=\"text-align: right;\">\n",
       "      <th></th>\n",
       "      <th>0</th>\n",
       "      <th>1</th>\n",
       "      <th>2</th>\n",
       "      <th>3</th>\n",
       "    </tr>\n",
       "  </thead>\n",
       "  <tbody>\n",
       "    <tr>\n",
       "      <th>0</th>\n",
       "      <td>10</td>\n",
       "      <td>20</td>\n",
       "      <td>30</td>\n",
       "      <td>NaN</td>\n",
       "    </tr>\n",
       "    <tr>\n",
       "      <th>1</th>\n",
       "      <td>100</td>\n",
       "      <td>200</td>\n",
       "      <td>300</td>\n",
       "      <td>NaN</td>\n",
       "    </tr>\n",
       "    <tr>\n",
       "      <th>2</th>\n",
       "      <td>-10</td>\n",
       "      <td>-20</td>\n",
       "      <td>-30</td>\n",
       "      <td>-40.0</td>\n",
       "    </tr>\n",
       "  </tbody>\n",
       "</table>\n",
       "</div>"
      ],
      "text/plain": [
       "     0    1    2     3\n",
       "0   10   20   30   NaN\n",
       "1  100  200  300   NaN\n",
       "2  -10  -20  -30 -40.0"
      ]
     },
     "execution_count": 3,
     "metadata": {},
     "output_type": "execute_result"
    }
   ],
   "source": [
    "import pandas as pd\n",
    "import numpy as np\n",
    "array1 = np.array([10,20,30])\n",
    "array2 = np.array([100,200,300])\n",
    "array3 = np.array([-10,-20,-30,-40])\n",
    "df = pd.DataFrame([array1,array2,array3])\n",
    "df"
   ]
  },
  {
   "cell_type": "code",
   "execution_count": 29,
   "id": "16fec3ed",
   "metadata": {
    "scrolled": true
   },
   "outputs": [
    {
     "data": {
      "text/html": [
       "<div>\n",
       "<style scoped>\n",
       "    .dataframe tbody tr th:only-of-type {\n",
       "        vertical-align: middle;\n",
       "    }\n",
       "\n",
       "    .dataframe tbody tr th {\n",
       "        vertical-align: top;\n",
       "    }\n",
       "\n",
       "    .dataframe thead th {\n",
       "        text-align: right;\n",
       "    }\n",
       "</style>\n",
       "<table border=\"1\" class=\"dataframe\">\n",
       "  <thead>\n",
       "    <tr style=\"text-align: right;\">\n",
       "      <th></th>\n",
       "      <th>a</th>\n",
       "      <th>b</th>\n",
       "      <th>c</th>\n",
       "    </tr>\n",
       "  </thead>\n",
       "  <tbody>\n",
       "    <tr>\n",
       "      <th>0</th>\n",
       "      <td>10</td>\n",
       "      <td>20</td>\n",
       "      <td>NaN</td>\n",
       "    </tr>\n",
       "    <tr>\n",
       "      <th>1</th>\n",
       "      <td>5</td>\n",
       "      <td>10</td>\n",
       "      <td>20.0</td>\n",
       "    </tr>\n",
       "  </tbody>\n",
       "</table>\n",
       "</div>"
      ],
      "text/plain": [
       "    a   b     c\n",
       "0  10  20   NaN\n",
       "1   5  10  20.0"
      ]
     },
     "execution_count": 29,
     "metadata": {},
     "output_type": "execute_result"
    }
   ],
   "source": [
    "listDict = [{'a' : 10,'b':20},{'a':5,'b':10,'c':20}]\n",
    "dFDict = pd.DataFrame(listDict)\n",
    "dFDict"
   ]
  },
  {
   "cell_type": "code",
   "execution_count": 30,
   "id": "f662b161",
   "metadata": {},
   "outputs": [
    {
     "data": {
      "text/html": [
       "<div>\n",
       "<style scoped>\n",
       "    .dataframe tbody tr th:only-of-type {\n",
       "        vertical-align: middle;\n",
       "    }\n",
       "\n",
       "    .dataframe tbody tr th {\n",
       "        vertical-align: top;\n",
       "    }\n",
       "\n",
       "    .dataframe thead th {\n",
       "        text-align: right;\n",
       "    }\n",
       "</style>\n",
       "<table border=\"1\" class=\"dataframe\">\n",
       "  <thead>\n",
       "    <tr style=\"text-align: right;\">\n",
       "      <th></th>\n",
       "      <th>State</th>\n",
       "      <th>GArea</th>\n",
       "      <th>VDF</th>\n",
       "    </tr>\n",
       "  </thead>\n",
       "  <tbody>\n",
       "    <tr>\n",
       "      <th>0</th>\n",
       "      <td>Assam</td>\n",
       "      <td>78434</td>\n",
       "      <td>2796.00</td>\n",
       "    </tr>\n",
       "    <tr>\n",
       "      <th>1</th>\n",
       "      <td>Delhi</td>\n",
       "      <td>1483</td>\n",
       "      <td>6.72</td>\n",
       "    </tr>\n",
       "    <tr>\n",
       "      <th>2</th>\n",
       "      <td>Kerala</td>\n",
       "      <td>38852</td>\n",
       "      <td>1663.00</td>\n",
       "    </tr>\n",
       "  </tbody>\n",
       "</table>\n",
       "</div>"
      ],
      "text/plain": [
       "    State  GArea      VDF\n",
       "0   Assam  78434  2796.00\n",
       "1   Delhi   1483     6.72\n",
       "2  Kerala  38852  1663.00"
      ]
     },
     "execution_count": 30,
     "metadata": {},
     "output_type": "execute_result"
    }
   ],
   "source": [
    "dictForest = {\n",
    "    'State' : ['Assam','Delhi','Kerala'],\n",
    "    'GArea' : [78434,1483,38852],\n",
    "    'VDF' : [2796,6.72,1663]\n",
    "}\n",
    "dframeForest = pd.DataFrame(dictForest)\n",
    "dframeForest"
   ]
  },
  {
   "cell_type": "code",
   "execution_count": 31,
   "id": "c59bedb9",
   "metadata": {},
   "outputs": [
    {
     "ename": "NameError",
     "evalue": "name 'rdframeForest1' is not defined",
     "output_type": "error",
     "traceback": [
      "\u001b[0;31m---------------------------------------------------------------------------\u001b[0m",
      "\u001b[0;31mNameError\u001b[0m                                 Traceback (most recent call last)",
      "Cell \u001b[0;32mIn[31], line 2\u001b[0m\n\u001b[1;32m      1\u001b[0m dframeForest1 \u001b[38;5;241m=\u001b[39m pd\u001b[38;5;241m.\u001b[39mDataFrame(dictForest,columns \u001b[38;5;241m=\u001b[39m [\u001b[38;5;124m'\u001b[39m\u001b[38;5;124mState\u001b[39m\u001b[38;5;124m'\u001b[39m,\u001b[38;5;124m'\u001b[39m\u001b[38;5;124mVDF\u001b[39m\u001b[38;5;124m'\u001b[39m,\u001b[38;5;124m'\u001b[39m\u001b[38;5;124mGArea\u001b[39m\u001b[38;5;124m'\u001b[39m])\n\u001b[0;32m----> 2\u001b[0m rdframeForest1\n",
      "\u001b[0;31mNameError\u001b[0m: name 'rdframeForest1' is not defined"
     ]
    }
   ],
   "source": [
    "dframeForest1 = pd.DataFrame(dictForest,columns = ['State','VDF','GArea'])\n",
    "rdframeForest1"
   ]
  },
  {
   "cell_type": "code",
   "execution_count": 4,
   "id": "bf6264ea",
   "metadata": {},
   "outputs": [
    {
     "data": {
      "text/html": [
       "<div>\n",
       "<style scoped>\n",
       "    .dataframe tbody tr th:only-of-type {\n",
       "        vertical-align: middle;\n",
       "    }\n",
       "\n",
       "    .dataframe tbody tr th {\n",
       "        vertical-align: top;\n",
       "    }\n",
       "\n",
       "    .dataframe thead th {\n",
       "        text-align: right;\n",
       "    }\n",
       "</style>\n",
       "<table border=\"1\" class=\"dataframe\">\n",
       "  <thead>\n",
       "    <tr style=\"text-align: right;\">\n",
       "      <th></th>\n",
       "      <th>Arnab</th>\n",
       "      <th>Ramit</th>\n",
       "      <th>Samridhi</th>\n",
       "      <th>Riya</th>\n",
       "      <th>Mallika</th>\n",
       "    </tr>\n",
       "  </thead>\n",
       "  <tbody>\n",
       "    <tr>\n",
       "      <th>Maths</th>\n",
       "      <td>90</td>\n",
       "      <td>92</td>\n",
       "      <td>89</td>\n",
       "      <td>81</td>\n",
       "      <td>94</td>\n",
       "    </tr>\n",
       "    <tr>\n",
       "      <th>Science</th>\n",
       "      <td>91</td>\n",
       "      <td>81</td>\n",
       "      <td>91</td>\n",
       "      <td>71</td>\n",
       "      <td>95</td>\n",
       "    </tr>\n",
       "    <tr>\n",
       "      <th>Hindi</th>\n",
       "      <td>97</td>\n",
       "      <td>96</td>\n",
       "      <td>88</td>\n",
       "      <td>67</td>\n",
       "      <td>99</td>\n",
       "    </tr>\n",
       "  </tbody>\n",
       "</table>\n",
       "</div>"
      ],
      "text/plain": [
       "         Arnab  Ramit  Samridhi  Riya  Mallika\n",
       "Maths       90     92        89    81       94\n",
       "Science     91     81        91    71       95\n",
       "Hindi       97     96        88    67       99"
      ]
     },
     "execution_count": 4,
     "metadata": {},
     "output_type": "execute_result"
    }
   ],
   "source": [
    "Resultsheet = {\n",
    "    'Arnab' : pd.Series([90,91,97],index = ['Maths','Science','Hindi']),\n",
    "    'Ramit' : pd.Series([92,81,96],index = ['Maths','Science','Hindi']),\n",
    "    'Samridhi' : pd.Series([89,91,88],index = ['Maths','Science','Hindi']),\n",
    "    'Riya' : pd.Series([81,71,67],index = ['Maths','Science','Hindi']),\n",
    "    'Mallika' : pd.Series([94,95,99],index = ['Maths','Science','Hindi'])\n",
    "}\n",
    "ResultDf = pd.DataFrame(Resultsheet)\n",
    "ResultDf"
   ]
  },
  {
   "cell_type": "code",
   "execution_count": null,
   "id": "c82bffd9",
   "metadata": {},
   "outputs": [],
   "source": [
    "type(ResultDf.Arnab)"
   ]
  },
  {
   "cell_type": "code",
   "execution_count": null,
   "id": "bb45fe6a",
   "metadata": {},
   "outputs": [],
   "source": [
    "ResultDf['Preeti'] = [89,78,76]\n",
    "ResultDf"
   ]
  },
  {
   "cell_type": "code",
   "execution_count": null,
   "id": "8136abb5",
   "metadata": {},
   "outputs": [],
   "source": [
    "ResultDf['Ramit'] = [98,76,89]\n",
    "ResultDf"
   ]
  },
  {
   "cell_type": "code",
   "execution_count": null,
   "id": "a712c0f2",
   "metadata": {},
   "outputs": [],
   "source": [
    "ResultDf['Arnab'] = 90\n",
    "ResultDf"
   ]
  },
  {
   "cell_type": "code",
   "execution_count": null,
   "id": "f4b3e8bd",
   "metadata": {},
   "outputs": [],
   "source": [
    "ResultDf.loc['English'] = [85,86,83,80,90,89]\n",
    "ResultDf"
   ]
  },
  {
   "cell_type": "code",
   "execution_count": null,
   "id": "ec274385",
   "metadata": {},
   "outputs": [],
   "source": [
    "ResultDf"
   ]
  },
  {
   "cell_type": "code",
   "execution_count": null,
   "id": "40f11fd2",
   "metadata": {},
   "outputs": [],
   "source": [
    "# ResultDf.loc['Maths'] = 0\n",
    "# ResultDf"
   ]
  },
  {
   "cell_type": "code",
   "execution_count": null,
   "id": "82637442",
   "metadata": {},
   "outputs": [],
   "source": [
    "# ResultDf[:] = 0\n",
    "# ResultDf"
   ]
  },
  {
   "cell_type": "code",
   "execution_count": null,
   "id": "cf3db32b",
   "metadata": {},
   "outputs": [],
   "source": [
    "ResultDf\n"
   ]
  },
  {
   "cell_type": "code",
   "execution_count": null,
   "id": "a06f4676",
   "metadata": {},
   "outputs": [],
   "source": [
    "ResultDf = ResultDf.drop('Science',axis = 0)\n",
    "ResultDf"
   ]
  },
  {
   "cell_type": "code",
   "execution_count": null,
   "id": "82948f0e",
   "metadata": {},
   "outputs": [],
   "source": [
    "ResultDf = ResultDf.drop(['Samridhi','Ramit','Riya'],axis =1)\n",
    "ResultDf"
   ]
  },
  {
   "cell_type": "code",
   "execution_count": null,
   "id": "865f37cb",
   "metadata": {},
   "outputs": [],
   "source": [
    "ResultDf = ResultDf.drop('Hindi',axis = 0)\n",
    "ResultDf"
   ]
  },
  {
   "cell_type": "code",
   "execution_count": 5,
   "id": "ab08b96a",
   "metadata": {},
   "outputs": [
    {
     "data": {
      "text/html": [
       "<div>\n",
       "<style scoped>\n",
       "    .dataframe tbody tr th:only-of-type {\n",
       "        vertical-align: middle;\n",
       "    }\n",
       "\n",
       "    .dataframe tbody tr th {\n",
       "        vertical-align: top;\n",
       "    }\n",
       "\n",
       "    .dataframe thead th {\n",
       "        text-align: right;\n",
       "    }\n",
       "</style>\n",
       "<table border=\"1\" class=\"dataframe\">\n",
       "  <thead>\n",
       "    <tr style=\"text-align: right;\">\n",
       "      <th></th>\n",
       "      <th>Arnab</th>\n",
       "      <th>Ramit</th>\n",
       "      <th>Samridhi</th>\n",
       "      <th>Riya</th>\n",
       "      <th>Mallika</th>\n",
       "    </tr>\n",
       "  </thead>\n",
       "  <tbody>\n",
       "    <tr>\n",
       "      <th>Maths</th>\n",
       "      <td>90</td>\n",
       "      <td>92</td>\n",
       "      <td>89</td>\n",
       "      <td>81</td>\n",
       "      <td>94</td>\n",
       "    </tr>\n",
       "    <tr>\n",
       "      <th>Science</th>\n",
       "      <td>91</td>\n",
       "      <td>81</td>\n",
       "      <td>91</td>\n",
       "      <td>71</td>\n",
       "      <td>95</td>\n",
       "    </tr>\n",
       "    <tr>\n",
       "      <th>Hindi</th>\n",
       "      <td>97</td>\n",
       "      <td>96</td>\n",
       "      <td>88</td>\n",
       "      <td>67</td>\n",
       "      <td>99</td>\n",
       "    </tr>\n",
       "  </tbody>\n",
       "</table>\n",
       "</div>"
      ],
      "text/plain": [
       "         Arnab  Ramit  Samridhi  Riya  Mallika\n",
       "Maths       90     92        89    81       94\n",
       "Science     91     81        91    71       95\n",
       "Hindi       97     96        88    67       99"
      ]
     },
     "execution_count": 5,
     "metadata": {},
     "output_type": "execute_result"
    }
   ],
   "source": [
    "Resultsheet = {\n",
    "    'Arnab' : pd.Series([90,91,97],index = ['Maths','Science','Hindi']),\n",
    "    'Ramit' : pd.Series([92,81,96],index = ['Maths','Science','Hindi']),\n",
    "    'Samridhi' : pd.Series([89,91,88],index = ['Maths','Science','Hindi']),\n",
    "    'Riya' : pd.Series([81,71,67],index = ['Maths','Science','Hindi']),\n",
    "    'Mallika' : pd.Series([94,95,99],index = ['Maths','Science','Hindi'])\n",
    "}\n",
    "ResultDf = pd.DataFrame(Resultsheet)\n",
    "ResultDf"
   ]
  },
  {
   "cell_type": "code",
   "execution_count": 6,
   "id": "2e61597f",
   "metadata": {},
   "outputs": [
    {
     "data": {
      "text/html": [
       "<div>\n",
       "<style scoped>\n",
       "    .dataframe tbody tr th:only-of-type {\n",
       "        vertical-align: middle;\n",
       "    }\n",
       "\n",
       "    .dataframe tbody tr th {\n",
       "        vertical-align: top;\n",
       "    }\n",
       "\n",
       "    .dataframe thead th {\n",
       "        text-align: right;\n",
       "    }\n",
       "</style>\n",
       "<table border=\"1\" class=\"dataframe\">\n",
       "  <thead>\n",
       "    <tr style=\"text-align: right;\">\n",
       "      <th></th>\n",
       "      <th>Arnab</th>\n",
       "      <th>Ramit</th>\n",
       "      <th>Samridhi</th>\n",
       "      <th>Riya</th>\n",
       "      <th>Mallika</th>\n",
       "    </tr>\n",
       "  </thead>\n",
       "  <tbody>\n",
       "    <tr>\n",
       "      <th>Maths</th>\n",
       "      <td>90</td>\n",
       "      <td>92</td>\n",
       "      <td>89</td>\n",
       "      <td>81</td>\n",
       "      <td>94</td>\n",
       "    </tr>\n",
       "    <tr>\n",
       "      <th>Science</th>\n",
       "      <td>91</td>\n",
       "      <td>81</td>\n",
       "      <td>91</td>\n",
       "      <td>71</td>\n",
       "      <td>95</td>\n",
       "    </tr>\n",
       "    <tr>\n",
       "      <th>Hindi</th>\n",
       "      <td>97</td>\n",
       "      <td>96</td>\n",
       "      <td>88</td>\n",
       "      <td>67</td>\n",
       "      <td>99</td>\n",
       "    </tr>\n",
       "    <tr>\n",
       "      <th>English</th>\n",
       "      <td>95</td>\n",
       "      <td>86</td>\n",
       "      <td>95</td>\n",
       "      <td>80</td>\n",
       "      <td>95</td>\n",
       "    </tr>\n",
       "  </tbody>\n",
       "</table>\n",
       "</div>"
      ],
      "text/plain": [
       "         Arnab  Ramit  Samridhi  Riya  Mallika\n",
       "Maths       90     92        89    81       94\n",
       "Science     91     81        91    71       95\n",
       "Hindi       97     96        88    67       99\n",
       "English     95     86        95    80       95"
      ]
     },
     "execution_count": 6,
     "metadata": {},
     "output_type": "execute_result"
    }
   ],
   "source": [
    "ResultDf.loc['English'] = [95,86,95,80,95]\n",
    "ResultDf"
   ]
  },
  {
   "cell_type": "code",
   "execution_count": 7,
   "id": "29dd6e9b",
   "metadata": {},
   "outputs": [
    {
     "data": {
      "text/html": [
       "<div>\n",
       "<style scoped>\n",
       "    .dataframe tbody tr th:only-of-type {\n",
       "        vertical-align: middle;\n",
       "    }\n",
       "\n",
       "    .dataframe tbody tr th {\n",
       "        vertical-align: top;\n",
       "    }\n",
       "\n",
       "    .dataframe thead th {\n",
       "        text-align: right;\n",
       "    }\n",
       "</style>\n",
       "<table border=\"1\" class=\"dataframe\">\n",
       "  <thead>\n",
       "    <tr style=\"text-align: right;\">\n",
       "      <th></th>\n",
       "      <th>Arnab</th>\n",
       "      <th>Ramit</th>\n",
       "      <th>Samridhi</th>\n",
       "      <th>Riya</th>\n",
       "      <th>Mallika</th>\n",
       "    </tr>\n",
       "  </thead>\n",
       "  <tbody>\n",
       "    <tr>\n",
       "      <th>Sub1</th>\n",
       "      <td>90</td>\n",
       "      <td>92</td>\n",
       "      <td>89</td>\n",
       "      <td>81</td>\n",
       "      <td>94</td>\n",
       "    </tr>\n",
       "    <tr>\n",
       "      <th>Sub3</th>\n",
       "      <td>91</td>\n",
       "      <td>81</td>\n",
       "      <td>91</td>\n",
       "      <td>71</td>\n",
       "      <td>95</td>\n",
       "    </tr>\n",
       "    <tr>\n",
       "      <th>Sub4</th>\n",
       "      <td>97</td>\n",
       "      <td>96</td>\n",
       "      <td>88</td>\n",
       "      <td>67</td>\n",
       "      <td>99</td>\n",
       "    </tr>\n",
       "    <tr>\n",
       "      <th>Sub2</th>\n",
       "      <td>95</td>\n",
       "      <td>86</td>\n",
       "      <td>95</td>\n",
       "      <td>80</td>\n",
       "      <td>95</td>\n",
       "    </tr>\n",
       "  </tbody>\n",
       "</table>\n",
       "</div>"
      ],
      "text/plain": [
       "      Arnab  Ramit  Samridhi  Riya  Mallika\n",
       "Sub1     90     92        89    81       94\n",
       "Sub3     91     81        91    71       95\n",
       "Sub4     97     96        88    67       99\n",
       "Sub2     95     86        95    80       95"
      ]
     },
     "execution_count": 7,
     "metadata": {},
     "output_type": "execute_result"
    }
   ],
   "source": [
    "ResultDf = ResultDf.rename({'Maths':'Sub1','English':'Sub2','Science':'Sub3','Hindi':'Sub4'})\n",
    "ResultDf"
   ]
  },
  {
   "cell_type": "code",
   "execution_count": 8,
   "id": "44c70339",
   "metadata": {},
   "outputs": [
    {
     "data": {
      "text/html": [
       "<div>\n",
       "<style scoped>\n",
       "    .dataframe tbody tr th:only-of-type {\n",
       "        vertical-align: middle;\n",
       "    }\n",
       "\n",
       "    .dataframe tbody tr th {\n",
       "        vertical-align: top;\n",
       "    }\n",
       "\n",
       "    .dataframe thead th {\n",
       "        text-align: right;\n",
       "    }\n",
       "</style>\n",
       "<table border=\"1\" class=\"dataframe\">\n",
       "  <thead>\n",
       "    <tr style=\"text-align: right;\">\n",
       "      <th></th>\n",
       "      <th>Student1</th>\n",
       "      <th>Student2</th>\n",
       "      <th>Student3</th>\n",
       "      <th>Student4</th>\n",
       "      <th>Student5</th>\n",
       "    </tr>\n",
       "  </thead>\n",
       "  <tbody>\n",
       "    <tr>\n",
       "      <th>Sub1</th>\n",
       "      <td>90</td>\n",
       "      <td>92</td>\n",
       "      <td>89</td>\n",
       "      <td>81</td>\n",
       "      <td>94</td>\n",
       "    </tr>\n",
       "    <tr>\n",
       "      <th>Sub3</th>\n",
       "      <td>91</td>\n",
       "      <td>81</td>\n",
       "      <td>91</td>\n",
       "      <td>71</td>\n",
       "      <td>95</td>\n",
       "    </tr>\n",
       "    <tr>\n",
       "      <th>Sub4</th>\n",
       "      <td>97</td>\n",
       "      <td>96</td>\n",
       "      <td>88</td>\n",
       "      <td>67</td>\n",
       "      <td>99</td>\n",
       "    </tr>\n",
       "    <tr>\n",
       "      <th>Sub2</th>\n",
       "      <td>95</td>\n",
       "      <td>86</td>\n",
       "      <td>95</td>\n",
       "      <td>80</td>\n",
       "      <td>95</td>\n",
       "    </tr>\n",
       "  </tbody>\n",
       "</table>\n",
       "</div>"
      ],
      "text/plain": [
       "      Student1  Student2  Student3  Student4  Student5\n",
       "Sub1        90        92        89        81        94\n",
       "Sub3        91        81        91        71        95\n",
       "Sub4        97        96        88        67        99\n",
       "Sub2        95        86        95        80        95"
      ]
     },
     "execution_count": 8,
     "metadata": {},
     "output_type": "execute_result"
    }
   ],
   "source": [
    "ResultDf = ResultDf.rename({'Arnab':'Student1','Ramit':'Student2','Samridhi':'Student3','Riya':'Student4','Mallika':'Student5'},axis = 'columns')\n",
    "ResultDf"
   ]
  },
  {
   "cell_type": "code",
   "execution_count": 9,
   "id": "c8941d02",
   "metadata": {},
   "outputs": [
    {
     "data": {
      "text/html": [
       "<div>\n",
       "<style scoped>\n",
       "    .dataframe tbody tr th:only-of-type {\n",
       "        vertical-align: middle;\n",
       "    }\n",
       "\n",
       "    .dataframe tbody tr th {\n",
       "        vertical-align: top;\n",
       "    }\n",
       "\n",
       "    .dataframe thead th {\n",
       "        text-align: right;\n",
       "    }\n",
       "</style>\n",
       "<table border=\"1\" class=\"dataframe\">\n",
       "  <thead>\n",
       "    <tr style=\"text-align: right;\">\n",
       "      <th></th>\n",
       "      <th>Arnab</th>\n",
       "      <th>Ramit</th>\n",
       "      <th>Samridhi</th>\n",
       "      <th>Riya</th>\n",
       "      <th>Mallika</th>\n",
       "    </tr>\n",
       "  </thead>\n",
       "  <tbody>\n",
       "    <tr>\n",
       "      <th>Maths</th>\n",
       "      <td>90</td>\n",
       "      <td>92</td>\n",
       "      <td>89</td>\n",
       "      <td>81</td>\n",
       "      <td>94</td>\n",
       "    </tr>\n",
       "    <tr>\n",
       "      <th>Science</th>\n",
       "      <td>91</td>\n",
       "      <td>81</td>\n",
       "      <td>91</td>\n",
       "      <td>71</td>\n",
       "      <td>95</td>\n",
       "    </tr>\n",
       "    <tr>\n",
       "      <th>Hindi</th>\n",
       "      <td>97</td>\n",
       "      <td>96</td>\n",
       "      <td>88</td>\n",
       "      <td>67</td>\n",
       "      <td>99</td>\n",
       "    </tr>\n",
       "  </tbody>\n",
       "</table>\n",
       "</div>"
      ],
      "text/plain": [
       "         Arnab  Ramit  Samridhi  Riya  Mallika\n",
       "Maths       90     92        89    81       94\n",
       "Science     91     81        91    71       95\n",
       "Hindi       97     96        88    67       99"
      ]
     },
     "execution_count": 9,
     "metadata": {},
     "output_type": "execute_result"
    }
   ],
   "source": [
    "Resultsheet = {\n",
    "    'Arnab' : pd.Series([90,91,97],index = ['Maths','Science','Hindi']),\n",
    "    'Ramit' : pd.Series([92,81,96],index = ['Maths','Science','Hindi']),\n",
    "    'Samridhi' : pd.Series([89,91,88],index = ['Maths','Science','Hindi']),\n",
    "    'Riya' : pd.Series([81,71,67],index = ['Maths','Science','Hindi']),\n",
    "    'Mallika' : pd.Series([94,95,99],index = ['Maths','Science','Hindi'])\n",
    "}\n",
    "ResultDf = pd.DataFrame(Resultsheet)\n",
    "ResultDf"
   ]
  },
  {
   "cell_type": "code",
   "execution_count": 10,
   "id": "832a8eb0",
   "metadata": {},
   "outputs": [
    {
     "data": {
      "text/html": [
       "<div>\n",
       "<style scoped>\n",
       "    .dataframe tbody tr th:only-of-type {\n",
       "        vertical-align: middle;\n",
       "    }\n",
       "\n",
       "    .dataframe tbody tr th {\n",
       "        vertical-align: top;\n",
       "    }\n",
       "\n",
       "    .dataframe thead th {\n",
       "        text-align: right;\n",
       "    }\n",
       "</style>\n",
       "<table border=\"1\" class=\"dataframe\">\n",
       "  <thead>\n",
       "    <tr style=\"text-align: right;\">\n",
       "      <th></th>\n",
       "      <th>Arnab</th>\n",
       "      <th>Ramit</th>\n",
       "      <th>Samridhi</th>\n",
       "      <th>Riya</th>\n",
       "      <th>Mallika</th>\n",
       "    </tr>\n",
       "  </thead>\n",
       "  <tbody>\n",
       "    <tr>\n",
       "      <th>Maths</th>\n",
       "      <td>90</td>\n",
       "      <td>92</td>\n",
       "      <td>89</td>\n",
       "      <td>81</td>\n",
       "      <td>94</td>\n",
       "    </tr>\n",
       "    <tr>\n",
       "      <th>Science</th>\n",
       "      <td>91</td>\n",
       "      <td>81</td>\n",
       "      <td>91</td>\n",
       "      <td>71</td>\n",
       "      <td>95</td>\n",
       "    </tr>\n",
       "    <tr>\n",
       "      <th>Hindi</th>\n",
       "      <td>97</td>\n",
       "      <td>96</td>\n",
       "      <td>88</td>\n",
       "      <td>67</td>\n",
       "      <td>99</td>\n",
       "    </tr>\n",
       "    <tr>\n",
       "      <th>English</th>\n",
       "      <td>95</td>\n",
       "      <td>86</td>\n",
       "      <td>95</td>\n",
       "      <td>80</td>\n",
       "      <td>95</td>\n",
       "    </tr>\n",
       "  </tbody>\n",
       "</table>\n",
       "</div>"
      ],
      "text/plain": [
       "         Arnab  Ramit  Samridhi  Riya  Mallika\n",
       "Maths       90     92        89    81       94\n",
       "Science     91     81        91    71       95\n",
       "Hindi       97     96        88    67       99\n",
       "English     95     86        95    80       95"
      ]
     },
     "execution_count": 10,
     "metadata": {},
     "output_type": "execute_result"
    }
   ],
   "source": [
    "ResultDf.loc['English'] = [95,86,95,80,95]\n",
    "ResultDf"
   ]
  },
  {
   "cell_type": "code",
   "execution_count": 11,
   "id": "e660bb83",
   "metadata": {},
   "outputs": [
    {
     "data": {
      "text/plain": [
       "Arnab       91\n",
       "Ramit       81\n",
       "Samridhi    91\n",
       "Riya        71\n",
       "Mallika     95\n",
       "Name: Science, dtype: int64"
      ]
     },
     "execution_count": 11,
     "metadata": {},
     "output_type": "execute_result"
    }
   ],
   "source": [
    "ResultDf.loc['Science']\n"
   ]
  },
  {
   "cell_type": "code",
   "execution_count": 12,
   "id": "ad34d53d",
   "metadata": {},
   "outputs": [
    {
     "data": {
      "text/plain": [
       "Maths      90\n",
       "Science    91\n",
       "Hindi      97\n",
       "English    95\n",
       "Name: Arnab, dtype: int64"
      ]
     },
     "execution_count": 12,
     "metadata": {},
     "output_type": "execute_result"
    }
   ],
   "source": [
    "ResultDf.loc[:,'Arnab']"
   ]
  },
  {
   "cell_type": "code",
   "execution_count": 13,
   "id": "fb58ad3b",
   "metadata": {},
   "outputs": [
    {
     "data": {
      "text/html": [
       "<div>\n",
       "<style scoped>\n",
       "    .dataframe tbody tr th:only-of-type {\n",
       "        vertical-align: middle;\n",
       "    }\n",
       "\n",
       "    .dataframe tbody tr th {\n",
       "        vertical-align: top;\n",
       "    }\n",
       "\n",
       "    .dataframe thead th {\n",
       "        text-align: right;\n",
       "    }\n",
       "</style>\n",
       "<table border=\"1\" class=\"dataframe\">\n",
       "  <thead>\n",
       "    <tr style=\"text-align: right;\">\n",
       "      <th></th>\n",
       "      <th>Maths</th>\n",
       "      <th>Science</th>\n",
       "      <th>Hindi</th>\n",
       "      <th>English</th>\n",
       "    </tr>\n",
       "  </thead>\n",
       "  <tbody>\n",
       "    <tr>\n",
       "      <th>Arnab</th>\n",
       "      <td>90</td>\n",
       "      <td>91</td>\n",
       "      <td>97</td>\n",
       "      <td>95</td>\n",
       "    </tr>\n",
       "    <tr>\n",
       "      <th>Ramit</th>\n",
       "      <td>92</td>\n",
       "      <td>81</td>\n",
       "      <td>96</td>\n",
       "      <td>86</td>\n",
       "    </tr>\n",
       "    <tr>\n",
       "      <th>Samridhi</th>\n",
       "      <td>89</td>\n",
       "      <td>91</td>\n",
       "      <td>88</td>\n",
       "      <td>95</td>\n",
       "    </tr>\n",
       "    <tr>\n",
       "      <th>Riya</th>\n",
       "      <td>81</td>\n",
       "      <td>71</td>\n",
       "      <td>67</td>\n",
       "      <td>80</td>\n",
       "    </tr>\n",
       "    <tr>\n",
       "      <th>Mallika</th>\n",
       "      <td>94</td>\n",
       "      <td>95</td>\n",
       "      <td>99</td>\n",
       "      <td>95</td>\n",
       "    </tr>\n",
       "  </tbody>\n",
       "</table>\n",
       "</div>"
      ],
      "text/plain": [
       "          Maths  Science  Hindi  English\n",
       "Arnab        90       91     97       95\n",
       "Ramit        92       81     96       86\n",
       "Samridhi     89       91     88       95\n",
       "Riya         81       71     67       80\n",
       "Mallika      94       95     99       95"
      ]
     },
     "execution_count": 13,
     "metadata": {},
     "output_type": "execute_result"
    }
   ],
   "source": [
    "ResultDf.T"
   ]
  },
  {
   "cell_type": "code",
   "execution_count": 29,
   "id": "34f14152",
   "metadata": {},
   "outputs": [
    {
     "data": {
      "text/html": [
       "<div>\n",
       "<style scoped>\n",
       "    .dataframe tbody tr th:only-of-type {\n",
       "        vertical-align: middle;\n",
       "    }\n",
       "\n",
       "    .dataframe tbody tr th {\n",
       "        vertical-align: top;\n",
       "    }\n",
       "\n",
       "    .dataframe thead th {\n",
       "        text-align: right;\n",
       "    }\n",
       "</style>\n",
       "<table border=\"1\" class=\"dataframe\">\n",
       "  <thead>\n",
       "    <tr style=\"text-align: right;\">\n",
       "      <th></th>\n",
       "      <th>Name</th>\n",
       "      <th>UT</th>\n",
       "      <th>Maths</th>\n",
       "      <th>Science</th>\n",
       "      <th>S.St</th>\n",
       "      <th>Hindi</th>\n",
       "      <th>Eng</th>\n",
       "    </tr>\n",
       "  </thead>\n",
       "  <tbody>\n",
       "    <tr>\n",
       "      <th>0</th>\n",
       "      <td>Raman</td>\n",
       "      <td>1</td>\n",
       "      <td>22</td>\n",
       "      <td>21</td>\n",
       "      <td>18</td>\n",
       "      <td>20</td>\n",
       "      <td>21</td>\n",
       "    </tr>\n",
       "    <tr>\n",
       "      <th>1</th>\n",
       "      <td>Raman</td>\n",
       "      <td>2</td>\n",
       "      <td>21</td>\n",
       "      <td>20</td>\n",
       "      <td>17</td>\n",
       "      <td>22</td>\n",
       "      <td>24</td>\n",
       "    </tr>\n",
       "    <tr>\n",
       "      <th>2</th>\n",
       "      <td>Raman</td>\n",
       "      <td>3</td>\n",
       "      <td>14</td>\n",
       "      <td>19</td>\n",
       "      <td>15</td>\n",
       "      <td>24</td>\n",
       "      <td>23</td>\n",
       "    </tr>\n",
       "    <tr>\n",
       "      <th>3</th>\n",
       "      <td>Zuhaire</td>\n",
       "      <td>1</td>\n",
       "      <td>20</td>\n",
       "      <td>17</td>\n",
       "      <td>22</td>\n",
       "      <td>24</td>\n",
       "      <td>19</td>\n",
       "    </tr>\n",
       "    <tr>\n",
       "      <th>4</th>\n",
       "      <td>Zuhaire</td>\n",
       "      <td>2</td>\n",
       "      <td>23</td>\n",
       "      <td>15</td>\n",
       "      <td>21</td>\n",
       "      <td>25</td>\n",
       "      <td>15</td>\n",
       "    </tr>\n",
       "    <tr>\n",
       "      <th>5</th>\n",
       "      <td>Zuhaire</td>\n",
       "      <td>3</td>\n",
       "      <td>22</td>\n",
       "      <td>18</td>\n",
       "      <td>19</td>\n",
       "      <td>23</td>\n",
       "      <td>13</td>\n",
       "    </tr>\n",
       "    <tr>\n",
       "      <th>6</th>\n",
       "      <td>Ashravy</td>\n",
       "      <td>1</td>\n",
       "      <td>23</td>\n",
       "      <td>19</td>\n",
       "      <td>20</td>\n",
       "      <td>15</td>\n",
       "      <td>22</td>\n",
       "    </tr>\n",
       "    <tr>\n",
       "      <th>7</th>\n",
       "      <td>Ashravy</td>\n",
       "      <td>2</td>\n",
       "      <td>24</td>\n",
       "      <td>22</td>\n",
       "      <td>24</td>\n",
       "      <td>17</td>\n",
       "      <td>21</td>\n",
       "    </tr>\n",
       "    <tr>\n",
       "      <th>8</th>\n",
       "      <td>Ashravy</td>\n",
       "      <td>3</td>\n",
       "      <td>12</td>\n",
       "      <td>25</td>\n",
       "      <td>19</td>\n",
       "      <td>21</td>\n",
       "      <td>23</td>\n",
       "    </tr>\n",
       "    <tr>\n",
       "      <th>9</th>\n",
       "      <td>Mishti</td>\n",
       "      <td>1</td>\n",
       "      <td>15</td>\n",
       "      <td>22</td>\n",
       "      <td>25</td>\n",
       "      <td>22</td>\n",
       "      <td>22</td>\n",
       "    </tr>\n",
       "    <tr>\n",
       "      <th>10</th>\n",
       "      <td>Mishti</td>\n",
       "      <td>2</td>\n",
       "      <td>18</td>\n",
       "      <td>21</td>\n",
       "      <td>25</td>\n",
       "      <td>24</td>\n",
       "      <td>23</td>\n",
       "    </tr>\n",
       "    <tr>\n",
       "      <th>11</th>\n",
       "      <td>Mishti</td>\n",
       "      <td>3</td>\n",
       "      <td>17</td>\n",
       "      <td>18</td>\n",
       "      <td>20</td>\n",
       "      <td>25</td>\n",
       "      <td>20</td>\n",
       "    </tr>\n",
       "  </tbody>\n",
       "</table>\n",
       "</div>"
      ],
      "text/plain": [
       "       Name  UT  Maths  Science  S.St  Hindi  Eng\n",
       "0     Raman   1     22       21    18     20   21\n",
       "1     Raman   2     21       20    17     22   24\n",
       "2     Raman   3     14       19    15     24   23\n",
       "3   Zuhaire   1     20       17    22     24   19\n",
       "4   Zuhaire   2     23       15    21     25   15\n",
       "5   Zuhaire   3     22       18    19     23   13\n",
       "6   Ashravy   1     23       19    20     15   22\n",
       "7   Ashravy   2     24       22    24     17   21\n",
       "8   Ashravy   3     12       25    19     21   23\n",
       "9    Mishti   1     15       22    25     22   22\n",
       "10   Mishti   2     18       21    25     24   23\n",
       "11   Mishti   3     17       18    20     25   20"
      ]
     },
     "execution_count": 29,
     "metadata": {},
     "output_type": "execute_result"
    }
   ],
   "source": [
    "import pandas as pd\n",
    "import numpy as np\n",
    "marksUT = {'Name' :['Raman','Raman','Raman','Zuhaire','Zuhaire','Zuhaire','Ashravy','Ashravy','Ashravy','Mishti','Mishti','Mishti'],\n",
    "          'UT' : [1,2,3,1,2,3,1,2,3,1,2,3],\n",
    "          'Maths' : [22,21,14,20,23,22,23,24,12,15,18,17],\n",
    "          'Science' : [21,20,19,17,15,18,19,22,25,22,21,18],\n",
    "          'S.St' : [18,17,15,22,21,19,20,24,19,25,25,20],\n",
    "          'Hindi' : [20,22,24,24,25,23,15,17,21,22,24,25],\n",
    "          'Eng' : [21,24,23,19,15,13,22,21,23,22,23,20]\n",
    "          }\n",
    "df = pd.DataFrame(marksUT)\n",
    "df"
   ]
  },
  {
   "cell_type": "code",
   "execution_count": 17,
   "id": "4ac3fab7",
   "metadata": {},
   "outputs": [
    {
     "name": "stdout",
     "output_type": "stream",
     "text": [
      "Name       Zuhaire\n",
      "UT               3\n",
      "Maths           24\n",
      "Science         25\n",
      "S.St            25\n",
      "Hindi           25\n",
      "Eng             24\n",
      "dtype: object\n"
     ]
    }
   ],
   "source": [
    "print(df.max())"
   ]
  },
  {
   "cell_type": "code",
   "execution_count": 20,
   "id": "eac920f7",
   "metadata": {},
   "outputs": [
    {
     "name": "stdout",
     "output_type": "stream",
     "text": [
      "\n",
      "Result of Unit Test 2 : \n",
      "\n",
      "        Name  UT  Maths  Science  S.St  Hindi  Eng\n",
      "1     Raman   2     21       20    17     22   24\n",
      "4   Zuhaire   2     23       15    21     25   15\n",
      "7   Ashravy   2     24       22    24     17   21\n",
      "10   Mishti   2     18       21    25     24   23\n"
     ]
    }
   ],
   "source": [
    "dfUT2 = df[df.UT == 2]\n",
    "print('\\nResult of Unit Test 2 : \\n\\n',dfUT2)"
   ]
  },
  {
   "cell_type": "code",
   "execution_count": 21,
   "id": "2fe6bef1",
   "metadata": {},
   "outputs": [
    {
     "data": {
      "text/plain": [
       "Name       RamanRamanRamanZuhaireZuhaireZuhaireAshravyAsh...\n",
       "UT                                                        24\n",
       "Maths                                                    231\n",
       "Science                                                  237\n",
       "S.St                                                     245\n",
       "Hindi                                                    262\n",
       "Eng                                                      246\n",
       "dtype: object"
      ]
     },
     "execution_count": 21,
     "metadata": {},
     "output_type": "execute_result"
    }
   ],
   "source": [
    "df.sum()"
   ]
  },
  {
   "cell_type": "code",
   "execution_count": 22,
   "id": "a0d57259",
   "metadata": {},
   "outputs": [
    {
     "data": {
      "text/plain": [
       "Name       12\n",
       "UT         12\n",
       "Maths      12\n",
       "Science    12\n",
       "S.St       12\n",
       "Hindi      12\n",
       "Eng        12\n",
       "dtype: int64"
      ]
     },
     "execution_count": 22,
     "metadata": {},
     "output_type": "execute_result"
    }
   ],
   "source": [
    "df.count()"
   ]
  },
  {
   "cell_type": "code",
   "execution_count": 23,
   "id": "98238844",
   "metadata": {},
   "outputs": [
    {
     "data": {
      "text/plain": [
       "0     7\n",
       "1     7\n",
       "2     7\n",
       "3     7\n",
       "4     7\n",
       "5     7\n",
       "6     7\n",
       "7     7\n",
       "8     7\n",
       "9     7\n",
       "10    7\n",
       "11    7\n",
       "dtype: int64"
      ]
     },
     "execution_count": 23,
     "metadata": {},
     "output_type": "execute_result"
    }
   ],
   "source": [
    "df.count(axis=1)"
   ]
  },
  {
   "cell_type": "code",
   "execution_count": 27,
   "id": "59521187",
   "metadata": {},
   "outputs": [
    {
     "data": {
      "text/plain": [
       "Name       Zuhaire\n",
       "UT               3\n",
       "Maths           24\n",
       "Science         25\n",
       "S.St            25\n",
       "Hindi           25\n",
       "Eng             24\n",
       "dtype: object"
      ]
     },
     "execution_count": 27,
     "metadata": {},
     "output_type": "execute_result"
    }
   ],
   "source": [
    "df.max(axis=0)"
   ]
  }
 ],
 "metadata": {
  "kernelspec": {
   "display_name": "Python 3 (ipykernel)",
   "language": "python",
   "name": "python3"
  },
  "language_info": {
   "codemirror_mode": {
    "name": "ipython",
    "version": 3
   },
   "file_extension": ".py",
   "mimetype": "text/x-python",
   "name": "python",
   "nbconvert_exporter": "python",
   "pygments_lexer": "ipython3",
   "version": "3.11.5"
  }
 },
 "nbformat": 4,
 "nbformat_minor": 5
}
