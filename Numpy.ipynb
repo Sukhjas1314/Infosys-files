{
 "cells": [
  {
   "cell_type": "code",
   "execution_count": 44,
   "id": "59e6183f",
   "metadata": {},
   "outputs": [
    {
     "name": "stdout",
     "output_type": "stream",
     "text": [
      "[1 2 3 4 5 6 7 8 9]\n"
     ]
    }
   ],
   "source": [
    "import numpy as np\n",
    "arr = np.array([1,2,3,4,5,6,7,8,9])\n",
    "print(arr)"
   ]
  },
  {
   "cell_type": "code",
   "execution_count": 47,
   "id": "0a54f06e",
   "metadata": {},
   "outputs": [
    {
     "name": "stdout",
     "output_type": "stream",
     "text": [
      "int64\n"
     ]
    }
   ],
   "source": [
    "print(arr.dtype)"
   ]
  },
  {
   "cell_type": "code",
   "execution_count": 52,
   "id": "a583b1c4",
   "metadata": {},
   "outputs": [
    {
     "name": "stdout",
     "output_type": "stream",
     "text": [
      "[[1 2 3 4]\n",
      " [5 6 7 8]]\n"
     ]
    }
   ],
   "source": [
    "import numpy as np\n",
    "arr1 = np.array([[1,2,3,4],[5,6,7,8]])\n",
    "print(arr1)"
   ]
  },
  {
   "cell_type": "code",
   "execution_count": 54,
   "id": "09e1e5ad",
   "metadata": {},
   "outputs": [
    {
     "name": "stdout",
     "output_type": "stream",
     "text": [
      "3\n"
     ]
    }
   ],
   "source": [
    "print(arr1[0][2])"
   ]
  },
  {
   "cell_type": "code",
   "execution_count": 64,
   "id": "e28d01ef",
   "metadata": {},
   "outputs": [
    {
     "name": "stdout",
     "output_type": "stream",
     "text": [
      "[[ 1  2  3 10]\n",
      " [ 4  5  6 11]\n",
      " [ 7  8  9 12]]\n"
     ]
    }
   ],
   "source": [
    "import numpy as np\n",
    "calculator = np.array([[1,2,3,10],[4,5,6,11],[7,8,9,12]])\n",
    "print(calculator)"
   ]
  },
  {
   "cell_type": "code",
   "execution_count": 65,
   "id": "514138f4",
   "metadata": {},
   "outputs": [
    {
     "name": "stdout",
     "output_type": "stream",
     "text": [
      "[[ 1  4  7]\n",
      " [ 2  5  8]\n",
      " [ 3  6  9]\n",
      " [10 11 12]]\n"
     ]
    }
   ],
   "source": [
    "print(calculator.transpose())"
   ]
  },
  {
   "cell_type": "code",
   "execution_count": 66,
   "id": "b7ff9b76",
   "metadata": {},
   "outputs": [
    {
     "name": "stdout",
     "output_type": "stream",
     "text": [
      "(3, 4)\n"
     ]
    }
   ],
   "source": [
    "print(calculator.shape)"
   ]
  },
  {
   "cell_type": "code",
   "execution_count": 68,
   "id": "f3f4dadc",
   "metadata": {},
   "outputs": [
    {
     "name": "stdout",
     "output_type": "stream",
     "text": [
      "[[ 1  2  3 10  4  5]\n",
      " [ 6 11  7  8  9 12]]\n"
     ]
    }
   ],
   "source": [
    "arr1 = calculator.reshape(2,6)\n",
    "print(arr1)"
   ]
  },
  {
   "cell_type": "code",
   "execution_count": 76,
   "id": "bd5cad6f",
   "metadata": {},
   "outputs": [
    {
     "name": "stdout",
     "output_type": "stream",
     "text": [
      "[[ 1  2  3]\n",
      " [ 4  5  6]\n",
      " [ 7  8  9]\n",
      " [10 11 12]]\n"
     ]
    }
   ],
   "source": [
    "import numpy as np\n",
    "arr2 = np.array([[1,2,3],[4,5,6]])\n",
    "arr3 = np.array([[7,8,9],[10,11,12]])\n",
    "farr = np.concatenate((arr2,arr3),axis=0)\n",
    "print(farr)"
   ]
  },
  {
   "cell_type": "code",
   "execution_count": 81,
   "id": "87b8ca02",
   "metadata": {},
   "outputs": [
    {
     "name": "stdout",
     "output_type": "stream",
     "text": [
      "(array([0]), array([0]))\n"
     ]
    }
   ],
   "source": [
    "x = np.where(arr3 == 7)\n",
    "print(x)"
   ]
  },
  {
   "cell_type": "code",
   "execution_count": 86,
   "id": "9f837e0e",
   "metadata": {},
   "outputs": [
    {
     "name": "stdout",
     "output_type": "stream",
     "text": [
      "[ 1  3  5  6  8  9 10]\n"
     ]
    }
   ],
   "source": [
    "import numpy as np\n",
    "arr = np.array([1,2,3,4,5,2,4,3,4,2,2,3,5])\n",
    "x = np.where(arr%2 == 0)\n",
    "print(x[0])"
   ]
  },
  {
   "cell_type": "code",
   "execution_count": 88,
   "id": "26554695",
   "metadata": {},
   "outputs": [
    {
     "name": "stdout",
     "output_type": "stream",
     "text": [
      "[9 8 7 6 5 4 3 2 1]\n"
     ]
    }
   ],
   "source": [
    "import numpy as np\n",
    "arr = np.array([3,2,6,7,4,9,8,1,5])\n",
    "print(np.sort(arr)[::-1])"
   ]
  },
  {
   "cell_type": "code",
   "execution_count": 90,
   "id": "57c2d830",
   "metadata": {},
   "outputs": [
    {
     "name": "stdout",
     "output_type": "stream",
     "text": [
      "[[1 2 3 4]\n",
      " [5 6 7 8]]\n",
      "[[5 6 7 8]\n",
      " [1 2 3 4]]\n",
      "[[4 3 2 1]\n",
      " [8 7 6 5]]\n"
     ]
    }
   ],
   "source": [
    "import numpy as np\n",
    "arr1 = np.array([[1,2,3,4],[5,6,7,8]])\n",
    "print(arr1)\n",
    "\n",
    "print(arr1[::-1,:])\n",
    "print(arr1[:,::-1])"
   ]
  }
 ],
 "metadata": {
  "kernelspec": {
   "display_name": "Python 3 (ipykernel)",
   "language": "python",
   "name": "python3"
  },
  "language_info": {
   "codemirror_mode": {
    "name": "ipython",
    "version": 3
   },
   "file_extension": ".py",
   "mimetype": "text/x-python",
   "name": "python",
   "nbconvert_exporter": "python",
   "pygments_lexer": "ipython3",
   "version": "3.11.5"
  }
 },
 "nbformat": 4,
 "nbformat_minor": 5
}
