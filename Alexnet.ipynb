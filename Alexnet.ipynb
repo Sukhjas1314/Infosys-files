{
 "cells": [
  {
   "cell_type": "code",
   "execution_count": 1,
   "id": "e2f506a4",
   "metadata": {},
   "outputs": [
    {
     "name": "stdout",
     "output_type": "stream",
     "text": [
      "(60000, 28, 28)\n",
      "(10000, 28, 28)\n"
     ]
    }
   ],
   "source": [
    "#-------------------------------\n",
    "#AlexNet Demonstration\n",
    "#-------------------------------\n",
    "#Import keras\n",
    "import numpy as np\n",
    "from keras.datasets import mnist\n",
    "import matplotlib.pyplot as plt\n",
    "#--------------------------------------------------\n",
    "#Load data set\n",
    "(x_train, y_train), (x_test, y_test) = mnist.load_data()\n",
    "print(x_train.shape)\n",
    "print(x_test.shape)"
   ]
  },
  {
   "cell_type": "code",
   "execution_count": 2,
   "id": "bf46b823",
   "metadata": {},
   "outputs": [
    {
     "data": {
      "image/png": "[encoded data removed]",
      "text/plain": [
       "<Figure size 640x480 with 1 Axes>"
      ]
     },
     "metadata": {},
     "output_type": "display_data"
    },
    {
     "name": "stdout",
     "output_type": "stream",
     "text": [
      "Label for the element 200 : 1\n",
      "(60000, 784)\n",
      "(10000, 784)\n"
     ]
    }
   ],
   "source": [
    "element = 200\n",
    "plt.imshow(x_train[element])\n",
    "plt.show()\n",
    "print(\"Label for the element\", element,\":\", y_train[element])\n",
    "x_train = x_train.reshape((-1, 28*28))\n",
    "x_test = x_test.reshape((-1, 784))\n",
    "print(x_train.shape)\n",
    "print(x_test.shape)\n",
    "x_train = x_train / 255\n",
    "x_test = x_test / 255\n",
    "#-----------------------------------------------------------------------"
   ]
  },
  {
   "cell_type": "code",
   "execution_count": 3,
   "id": "29fb38d2",
   "metadata": {},
   "outputs": [],
   "source": [
    "from keras.models import Sequential\n",
    "from keras.utils import to_categorical\n",
    "from keras.layers import Dense, Dropout, Activation, Flatten\n",
    "from keras.layers import Conv2D, MaxPooling2D\n",
    "from keras.layers import BatchNormalization\n",
    "#-----------------------------------------------------------------------"
   ]
  },
  {
   "cell_type": "code",
   "execution_count": 4,
   "id": "9989a047",
   "metadata": {},
   "outputs": [
    {
     "name": "stderr",
     "output_type": "stream",
     "text": [
      "/Users/sukhmanpreetsingh/anaconda3/lib/python3.11/site-packages/keras/src/layers/convolutional/base_conv.py:113: UserWarning: Do not pass an `input_shape`/`input_dim` argument to a layer. When using Sequential models, prefer using an `Input(shape)` object as the first layer in the model instead.\n",
      "  super().__init__(activity_regularizer=activity_regularizer, **kwargs)\n"
     ]
    }
   ],
   "source": [
    "# creating model\n",
    "model = Sequential()  \n",
    "# 1st Convolutional Layer \n",
    "model.add(Conv2D(filters = 96, input_shape = (60000,784, 3),kernel_size = (11, 11), strides = (4, 4), padding = 'valid')) \n",
    "model.add(Activation('relu')) \n",
    "# Max-Pooling  \n",
    "model.add(MaxPooling2D(pool_size = (2, 2),strides = (2, 2), padding = 'valid')) \n",
    "# Batch Normalisation \n",
    "model.add(BatchNormalization())"
   ]
  },
  {
   "cell_type": "code",
   "execution_count": 5,
   "id": "128dadc5",
   "metadata": {},
   "outputs": [],
   "source": [
    "# 2nd Convolutional Layer \n",
    "model.add(Conv2D(filters = 256, kernel_size = (3, 3),strides = (1, 1), padding = 'valid')) \n",
    "model.add(Activation('relu')) \n",
    "# Max-Pooling \n",
    "model.add(MaxPooling2D(pool_size = (2, 2), strides = (2, 2),padding = 'valid')) \n",
    "# Batch Normalisation \n",
    "model.add(BatchNormalization()) "
   ]
  },
  {
   "cell_type": "code",
   "execution_count": 6,
   "id": "34b3a504",
   "metadata": {},
   "outputs": [],
   "source": [
    "# 3rd Convolutional Layer \n",
    "model.add(Conv2D(filters = 384, kernel_size = (3, 3),strides = (1, 1), padding = 'valid')) \n",
    "model.add(Activation('relu')) \n",
    "# Batch Normalisation \n",
    "model.add(BatchNormalization())"
   ]
  },
  {
   "cell_type": "code",
   "execution_count": 7,
   "id": "6500c452",
   "metadata": {},
   "outputs": [],
   "source": [
    "# 4th Convolutional Layer \n",
    "model.add(Conv2D(filters = 384, kernel_size = (3, 3),strides = (1, 1), padding = 'valid')) \n",
    "model.add(Activation('relu')) \n",
    "# Batch Normalisation \n",
    "model.add(BatchNormalization()) "
   ]
  },
  {
   "cell_type": "code",
   "execution_count": 8,
   "id": "ab96443f",
   "metadata": {},
   "outputs": [],
   "source": [
    "# 5th Convolutional Layer \n",
    "model.add(Conv2D(filters = 256, kernel_size = (3, 3),strides = (1, 1), padding = 'valid')) \n",
    "model.add(Activation('relu')) \n",
    "# Max-Pooling \n",
    "model.add(MaxPooling2D(pool_size = (2, 2), strides = (2, 2), padding = 'valid')) \n",
    "# Batch Normalisation \n",
    "model.add(BatchNormalization()) "
   ]
  },
  {
   "cell_type": "code",
   "execution_count": 9,
   "id": "3270d503",
   "metadata": {},
   "outputs": [],
   "source": [
    "# Flattening \n",
    "model.add(Flatten()) "
   ]
  },
  {
   "cell_type": "code",
   "execution_count": null,
   "id": "0e60f435",
   "metadata": {},
   "outputs": [
    {
     "name": "stderr",
     "output_type": "stream",
     "text": [
      "/Users/sukhmanpreetsingh/anaconda3/lib/python3.11/site-packages/keras/src/layers/core/dense.py:93: UserWarning: Do not pass an `input_shape`/`input_dim` argument to a layer. When using Sequential models, prefer using an `Input(shape)` object as the first layer in the model instead.\n",
      "  super().__init__(activity_regularizer=activity_regularizer, **kwargs)\n"
     ]
    }
   ],
   "source": [
    "# 1st Dense Layer \n",
    "model.add(Dense(4096, input_shape = (224*224*3, ))) \n",
    "model.add(Activation('relu')) \n",
    "# Add Dropout to prevent overfitting \n",
    "model.add(Dropout(0.4)) \n",
    "# Batch Normalisation \n",
    "model.add(BatchNormalization()) "
   ]
  },
  {
   "cell_type": "code",
   "execution_count": null,
   "id": "561488e7",
   "metadata": {},
   "outputs": [],
   "source": [
    "# 2nd Dense Layer \n",
    "model.add(Dense(4096)) \n",
    "model.add(Activation('relu')) \n",
    "# Add Dropout \n",
    "model.add(Dropout(0.4)) \n",
    "# Batch Normalisation \n",
    "model.add(BatchNormalization()) "
   ]
  },
  {
   "cell_type": "code",
   "execution_count": null,
   "id": "58d3bbaf",
   "metadata": {},
   "outputs": [],
   "source": [
    "# Output Softmax Layer \n",
    "model.add(Dense(10)) \n",
    "model.add(Activation('softmax'))\n",
    "#-----------------------------------------------------------------------"
   ]
  },
  {
   "cell_type": "code",
   "execution_count": null,
   "id": "dc0c6b96",
   "metadata": {},
   "outputs": [],
   "source": [
    "# compile the model\n",
    "model.compile(optimizer='Adam',loss='categorical_crossentropy',metrics=['accuracy'])\n",
    "y=to_categorical(y_train)\n",
    "#-----------------------------------------------------------------------"
   ]
  },
  {
   "cell_type": "code",
   "execution_count": null,
   "id": "b7b74c61",
   "metadata": {},
   "outputs": [],
   "source": [
    "# Fit the model\n",
    "model.fit(x=x_train,y=to_categorical(y_train),epochs=10,batch_size=64,shuffle=True)\n",
    "#-----------------------------------------------------------------------"
   ]
  },
  {
   "cell_type": "code",
   "execution_count": null,
   "id": "95de656c",
   "metadata": {},
   "outputs": [],
   "source": [
    "# Evaluate the model\n",
    "eval = model.evaluate(x_test, to_categorical(y_test))\n",
    "print('eval')\n",
    "#-----------------------------------------------------------------------"
   ]
  },
  {
   "cell_type": "code",
   "execution_count": null,
   "id": "9d75dda4",
   "metadata": {},
   "outputs": [],
   "source": [
    "# Predictions\n",
    "predictions = model.predict(x_test[0:100])\n",
    "predictions[0]\n",
    "np.argmax(predictions[0])\n",
    "plt.imshow(x_test[0].reshape(28,28))"
   ]
  },
  {
   "cell_type": "code",
   "execution_count": null,
   "id": "b0dd0752",
   "metadata": {},
   "outputs": [],
   "source": []
  }
 ],
 "metadata": {
  "kernelspec": {
   "display_name": "Python 3 (ipykernel)",
   "language": "python",
   "name": "python3"
  },
  "language_info": {
   "codemirror_mode": {
    "name": "ipython",
    "version": 3
   },
   "file_extension": ".py",
   "mimetype": "text/x-python",
   "name": "python",
   "nbconvert_exporter": "python",
   "pygments_lexer": "ipython3",
   "version": "3.11.5"
  }
 },
 "nbformat": 4,
 "nbformat_minor": 5
}
