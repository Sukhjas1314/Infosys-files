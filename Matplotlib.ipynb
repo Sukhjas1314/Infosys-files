{
 "cells": [
  {
   "cell_type": "code",
   "execution_count": 39,
   "id": "6e98f1f4",
   "metadata": {},
   "outputs": [
    {
     "data": {
      "text/html": [
       "<div>\n",
       "<style scoped>\n",
       "    .dataframe tbody tr th:only-of-type {\n",
       "        vertical-align: middle;\n",
       "    }\n",
       "\n",
       "    .dataframe tbody tr th {\n",
       "        vertical-align: top;\n",
       "    }\n",
       "\n",
       "    .dataframe thead th {\n",
       "        text-align: right;\n",
       "    }\n",
       "</style>\n",
       "<table border=\"1\" class=\"dataframe\">\n",
       "  <thead>\n",
       "    <tr style=\"text-align: right;\">\n",
       "      <th></th>\n",
       "      <th>Movie</th>\n",
       "      <th>Release Date</th>\n",
       "      <th>Release Month</th>\n",
       "      <th>Release Day</th>\n",
       "      <th>Release Year</th>\n",
       "      <th>Ownership</th>\n",
       "      <th>Domestic Box Office</th>\n",
       "      <th>Inflation Adjusted Domestic</th>\n",
       "      <th>International Box Office</th>\n",
       "      <th>Inflation Adjusted International</th>\n",
       "      <th>...</th>\n",
       "      <th>Inflation Adjusted Opening Weekend</th>\n",
       "      <th>Budget</th>\n",
       "      <th>Inflation Adjusted Budget</th>\n",
       "      <th>IMDb Score</th>\n",
       "      <th>Meta Score</th>\n",
       "      <th>Tomatometer</th>\n",
       "      <th>Rotten Tomato Audience Score</th>\n",
       "      <th>Run Time In Minutes</th>\n",
       "      <th>Phase</th>\n",
       "      <th>Director</th>\n",
       "    </tr>\n",
       "  </thead>\n",
       "  <tbody>\n",
       "    <tr>\n",
       "      <th>0</th>\n",
       "      <td>Iron Man</td>\n",
       "      <td>5/2/2008</td>\n",
       "      <td>May</td>\n",
       "      <td>2</td>\n",
       "      <td>2008</td>\n",
       "      <td>Marvel Studios</td>\n",
       "      <td>318604126</td>\n",
       "      <td>467231126</td>\n",
       "      <td>266567421</td>\n",
       "      <td>390919596</td>\n",
       "      <td>...</td>\n",
       "      <td>149756442</td>\n",
       "      <td>186000000</td>\n",
       "      <td>272767935</td>\n",
       "      <td>7.9</td>\n",
       "      <td>79</td>\n",
       "      <td>94</td>\n",
       "      <td>91</td>\n",
       "      <td>126</td>\n",
       "      <td>One</td>\n",
       "      <td>Jon Favreau</td>\n",
       "    </tr>\n",
       "    <tr>\n",
       "      <th>1</th>\n",
       "      <td>The Incredible Hulk</td>\n",
       "      <td>6/13/2008</td>\n",
       "      <td>June</td>\n",
       "      <td>13</td>\n",
       "      <td>2008</td>\n",
       "      <td>Marvel Studios</td>\n",
       "      <td>134806913</td>\n",
       "      <td>197704288</td>\n",
       "      <td>130766946</td>\n",
       "      <td>191779378</td>\n",
       "      <td>...</td>\n",
       "      <td>81268794</td>\n",
       "      <td>137500000</td>\n",
       "      <td>201653899</td>\n",
       "      <td>6.6</td>\n",
       "      <td>61</td>\n",
       "      <td>67</td>\n",
       "      <td>69</td>\n",
       "      <td>112</td>\n",
       "      <td>One</td>\n",
       "      <td>Louis Leterrier</td>\n",
       "    </tr>\n",
       "  </tbody>\n",
       "</table>\n",
       "<p>2 rows × 23 columns</p>\n",
       "</div>"
      ],
      "text/plain": [
       "                 Movie Release Date Release Month  Release Day  Release Year  \\\n",
       "0             Iron Man     5/2/2008           May            2          2008   \n",
       "1  The Incredible Hulk    6/13/2008          June           13          2008   \n",
       "\n",
       "        Ownership  Domestic Box Office  Inflation Adjusted Domestic  \\\n",
       "0  Marvel Studios            318604126                    467231126   \n",
       "1  Marvel Studios            134806913                    197704288   \n",
       "\n",
       "   International Box Office  Inflation Adjusted International  ...  \\\n",
       "0                 266567421                         390919596  ...   \n",
       "1                 130766946                         191779378  ...   \n",
       "\n",
       "   Inflation Adjusted Opening Weekend     Budget  Inflation Adjusted Budget  \\\n",
       "0                           149756442  186000000                  272767935   \n",
       "1                            81268794  137500000                  201653899   \n",
       "\n",
       "   IMDb Score  Meta Score  Tomatometer  Rotten Tomato Audience Score  \\\n",
       "0         7.9          79           94                            91   \n",
       "1         6.6          61           67                            69   \n",
       "\n",
       "   Run Time In Minutes  Phase         Director  \n",
       "0                  126    One      Jon Favreau  \n",
       "1                  112    One  Louis Leterrier  \n",
       "\n",
       "[2 rows x 23 columns]"
      ]
     },
     "execution_count": 39,
     "metadata": {},
     "output_type": "execute_result"
    }
   ],
   "source": [
    "import pandas as pd\n",
    "import numpy as np\n",
    "import matplotlib.pyplot as plt\n",
    "import seaborn as sns\n",
    "df = pd.read_csv(\"marvel_box_office.csv\")\n",
    "df.head(2)"
   ]
  },
  {
   "cell_type": "code",
   "execution_count": 40,
   "id": "c21a0a02",
   "metadata": {},
   "outputs": [
    {
     "data": {
      "text/html": [
       "<div>\n",
       "<style scoped>\n",
       "    .dataframe tbody tr th:only-of-type {\n",
       "        vertical-align: middle;\n",
       "    }\n",
       "\n",
       "    .dataframe tbody tr th {\n",
       "        vertical-align: top;\n",
       "    }\n",
       "\n",
       "    .dataframe thead th {\n",
       "        text-align: right;\n",
       "    }\n",
       "</style>\n",
       "<table border=\"1\" class=\"dataframe\">\n",
       "  <thead>\n",
       "    <tr style=\"text-align: right;\">\n",
       "      <th></th>\n",
       "      <th>Release Day</th>\n",
       "      <th>Release Year</th>\n",
       "      <th>Domestic Box Office</th>\n",
       "      <th>Inflation Adjusted Domestic</th>\n",
       "      <th>International Box Office</th>\n",
       "      <th>Inflation Adjusted International</th>\n",
       "      <th>Worldwide Box Office</th>\n",
       "      <th>Inflation Adjusted Worldwide</th>\n",
       "      <th>Opening Weekend</th>\n",
       "      <th>Inflation Adjusted Opening Weekend</th>\n",
       "      <th>Budget</th>\n",
       "      <th>Inflation Adjusted Budget</th>\n",
       "      <th>IMDb Score</th>\n",
       "      <th>Meta Score</th>\n",
       "      <th>Tomatometer</th>\n",
       "      <th>Rotten Tomato Audience Score</th>\n",
       "      <th>Run Time In Minutes</th>\n",
       "    </tr>\n",
       "  </thead>\n",
       "  <tbody>\n",
       "    <tr>\n",
       "      <th>count</th>\n",
       "      <td>68.000000</td>\n",
       "      <td>68.000000</td>\n",
       "      <td>6.800000e+01</td>\n",
       "      <td>6.800000e+01</td>\n",
       "      <td>6.800000e+01</td>\n",
       "      <td>6.800000e+01</td>\n",
       "      <td>6.800000e+01</td>\n",
       "      <td>6.800000e+01</td>\n",
       "      <td>6.800000e+01</td>\n",
       "      <td>6.800000e+01</td>\n",
       "      <td>6.800000e+01</td>\n",
       "      <td>6.800000e+01</td>\n",
       "      <td>68.000000</td>\n",
       "      <td>68.000000</td>\n",
       "      <td>68.000000</td>\n",
       "      <td>68.000000</td>\n",
       "      <td>68.000000</td>\n",
       "    </tr>\n",
       "    <tr>\n",
       "      <th>mean</th>\n",
       "      <td>10.632353</td>\n",
       "      <td>2013.470588</td>\n",
       "      <td>2.558344e+08</td>\n",
       "      <td>3.218747e+08</td>\n",
       "      <td>3.846553e+08</td>\n",
       "      <td>4.767281e+08</td>\n",
       "      <td>6.404897e+08</td>\n",
       "      <td>7.986028e+08</td>\n",
       "      <td>9.557376e+07</td>\n",
       "      <td>1.195975e+08</td>\n",
       "      <td>1.602176e+08</td>\n",
       "      <td>2.026611e+08</td>\n",
       "      <td>6.760294</td>\n",
       "      <td>58.147059</td>\n",
       "      <td>65.602941</td>\n",
       "      <td>73.279412</td>\n",
       "      <td>123.705882</td>\n",
       "    </tr>\n",
       "    <tr>\n",
       "      <th>std</th>\n",
       "      <td>8.262312</td>\n",
       "      <td>6.761327</td>\n",
       "      <td>1.833046e+08</td>\n",
       "      <td>2.148226e+08</td>\n",
       "      <td>3.315725e+08</td>\n",
       "      <td>3.847157e+08</td>\n",
       "      <td>5.021975e+08</td>\n",
       "      <td>5.822550e+08</td>\n",
       "      <td>6.661917e+07</td>\n",
       "      <td>7.658688e+07</td>\n",
       "      <td>7.357495e+07</td>\n",
       "      <td>8.615504e+07</td>\n",
       "      <td>1.036374</td>\n",
       "      <td>14.955920</td>\n",
       "      <td>26.084901</td>\n",
       "      <td>19.013621</td>\n",
       "      <td>17.455324</td>\n",
       "    </tr>\n",
       "    <tr>\n",
       "      <th>min</th>\n",
       "      <td>1.000000</td>\n",
       "      <td>1998.000000</td>\n",
       "      <td>8.050977e+06</td>\n",
       "      <td>1.180735e+07</td>\n",
       "      <td>2.106557e+06</td>\n",
       "      <td>3.089421e+06</td>\n",
       "      <td>1.015753e+07</td>\n",
       "      <td>1.489677e+07</td>\n",
       "      <td>4.271451e+06</td>\n",
       "      <td>6.264398e+06</td>\n",
       "      <td>3.300000e+07</td>\n",
       "      <td>5.133008e+07</td>\n",
       "      <td>3.800000</td>\n",
       "      <td>26.000000</td>\n",
       "      <td>9.000000</td>\n",
       "      <td>18.000000</td>\n",
       "      <td>92.000000</td>\n",
       "    </tr>\n",
       "    <tr>\n",
       "      <th>25%</th>\n",
       "      <td>4.000000</td>\n",
       "      <td>2008.000000</td>\n",
       "      <td>1.324619e+08</td>\n",
       "      <td>1.842276e+08</td>\n",
       "      <td>1.530624e+08</td>\n",
       "      <td>2.052692e+08</td>\n",
       "      <td>2.835040e+08</td>\n",
       "      <td>4.024320e+08</td>\n",
       "      <td>5.494407e+07</td>\n",
       "      <td>7.201086e+07</td>\n",
       "      <td>1.157500e+08</td>\n",
       "      <td>1.483416e+08</td>\n",
       "      <td>6.175000</td>\n",
       "      <td>47.750000</td>\n",
       "      <td>46.750000</td>\n",
       "      <td>63.750000</td>\n",
       "      <td>112.000000</td>\n",
       "    </tr>\n",
       "    <tr>\n",
       "      <th>50%</th>\n",
       "      <td>8.000000</td>\n",
       "      <td>2014.500000</td>\n",
       "      <td>2.147283e+08</td>\n",
       "      <td>2.635401e+08</td>\n",
       "      <td>3.236897e+08</td>\n",
       "      <td>4.060893e+08</td>\n",
       "      <td>5.638545e+08</td>\n",
       "      <td>7.206480e+08</td>\n",
       "      <td>8.530852e+07</td>\n",
       "      <td>1.062630e+08</td>\n",
       "      <td>1.600000e+08</td>\n",
       "      <td>2.017067e+08</td>\n",
       "      <td>6.900000</td>\n",
       "      <td>61.500000</td>\n",
       "      <td>74.500000</td>\n",
       "      <td>78.500000</td>\n",
       "      <td>124.000000</td>\n",
       "    </tr>\n",
       "    <tr>\n",
       "      <th>75%</th>\n",
       "      <td>16.250000</td>\n",
       "      <td>2019.000000</td>\n",
       "      <td>3.471916e+08</td>\n",
       "      <td>4.330062e+08</td>\n",
       "      <td>4.984303e+08</td>\n",
       "      <td>6.421052e+08</td>\n",
       "      <td>8.467223e+08</td>\n",
       "      <td>9.945546e+08</td>\n",
       "      <td>1.234355e+08</td>\n",
       "      <td>1.526219e+08</td>\n",
       "      <td>2.000000e+08</td>\n",
       "      <td>2.500000e+08</td>\n",
       "      <td>7.500000</td>\n",
       "      <td>69.000000</td>\n",
       "      <td>87.500000</td>\n",
       "      <td>87.000000</td>\n",
       "      <td>134.000000</td>\n",
       "    </tr>\n",
       "    <tr>\n",
       "      <th>max</th>\n",
       "      <td>30.000000</td>\n",
       "      <td>2024.000000</td>\n",
       "      <td>8.583730e+08</td>\n",
       "      <td>9.867541e+08</td>\n",
       "      <td>1.930539e+09</td>\n",
       "      <td>2.219277e+09</td>\n",
       "      <td>2.788912e+09</td>\n",
       "      <td>3.206031e+09</td>\n",
       "      <td>3.571150e+08</td>\n",
       "      <td>4.105263e+08</td>\n",
       "      <td>4.000000e+08</td>\n",
       "      <td>4.598253e+08</td>\n",
       "      <td>8.400000</td>\n",
       "      <td>88.000000</td>\n",
       "      <td>96.000000</td>\n",
       "      <td>98.000000</td>\n",
       "      <td>181.000000</td>\n",
       "    </tr>\n",
       "  </tbody>\n",
       "</table>\n",
       "</div>"
      ],
      "text/plain": [
       "       Release Day  Release Year  Domestic Box Office  \\\n",
       "count    68.000000     68.000000         6.800000e+01   \n",
       "mean     10.632353   2013.470588         2.558344e+08   \n",
       "std       8.262312      6.761327         1.833046e+08   \n",
       "min       1.000000   1998.000000         8.050977e+06   \n",
       "25%       4.000000   2008.000000         1.324619e+08   \n",
       "50%       8.000000   2014.500000         2.147283e+08   \n",
       "75%      16.250000   2019.000000         3.471916e+08   \n",
       "max      30.000000   2024.000000         8.583730e+08   \n",
       "\n",
       "       Inflation Adjusted Domestic  International Box Office  \\\n",
       "count                 6.800000e+01              6.800000e+01   \n",
       "mean                  3.218747e+08              3.846553e+08   \n",
       "std                   2.148226e+08              3.315725e+08   \n",
       "min                   1.180735e+07              2.106557e+06   \n",
       "25%                   1.842276e+08              1.530624e+08   \n",
       "50%                   2.635401e+08              3.236897e+08   \n",
       "75%                   4.330062e+08              4.984303e+08   \n",
       "max                   9.867541e+08              1.930539e+09   \n",
       "\n",
       "       Inflation Adjusted International  Worldwide Box Office  \\\n",
       "count                      6.800000e+01          6.800000e+01   \n",
       "mean                       4.767281e+08          6.404897e+08   \n",
       "std                        3.847157e+08          5.021975e+08   \n",
       "min                        3.089421e+06          1.015753e+07   \n",
       "25%                        2.052692e+08          2.835040e+08   \n",
       "50%                        4.060893e+08          5.638545e+08   \n",
       "75%                        6.421052e+08          8.467223e+08   \n",
       "max                        2.219277e+09          2.788912e+09   \n",
       "\n",
       "       Inflation Adjusted Worldwide  Opening Weekend  \\\n",
       "count                  6.800000e+01     6.800000e+01   \n",
       "mean                   7.986028e+08     9.557376e+07   \n",
       "std                    5.822550e+08     6.661917e+07   \n",
       "min                    1.489677e+07     4.271451e+06   \n",
       "25%                    4.024320e+08     5.494407e+07   \n",
       "50%                    7.206480e+08     8.530852e+07   \n",
       "75%                    9.945546e+08     1.234355e+08   \n",
       "max                    3.206031e+09     3.571150e+08   \n",
       "\n",
       "       Inflation Adjusted Opening Weekend        Budget  \\\n",
       "count                        6.800000e+01  6.800000e+01   \n",
       "mean                         1.195975e+08  1.602176e+08   \n",
       "std                          7.658688e+07  7.357495e+07   \n",
       "min                          6.264398e+06  3.300000e+07   \n",
       "25%                          7.201086e+07  1.157500e+08   \n",
       "50%                          1.062630e+08  1.600000e+08   \n",
       "75%                          1.526219e+08  2.000000e+08   \n",
       "max                          4.105263e+08  4.000000e+08   \n",
       "\n",
       "       Inflation Adjusted Budget  IMDb Score  Meta Score  Tomatometer  \\\n",
       "count               6.800000e+01   68.000000   68.000000    68.000000   \n",
       "mean                2.026611e+08    6.760294   58.147059    65.602941   \n",
       "std                 8.615504e+07    1.036374   14.955920    26.084901   \n",
       "min                 5.133008e+07    3.800000   26.000000     9.000000   \n",
       "25%                 1.483416e+08    6.175000   47.750000    46.750000   \n",
       "50%                 2.017067e+08    6.900000   61.500000    74.500000   \n",
       "75%                 2.500000e+08    7.500000   69.000000    87.500000   \n",
       "max                 4.598253e+08    8.400000   88.000000    96.000000   \n",
       "\n",
       "       Rotten Tomato Audience Score  Run Time In Minutes  \n",
       "count                     68.000000            68.000000  \n",
       "mean                      73.279412           123.705882  \n",
       "std                       19.013621            17.455324  \n",
       "min                       18.000000            92.000000  \n",
       "25%                       63.750000           112.000000  \n",
       "50%                       78.500000           124.000000  \n",
       "75%                       87.000000           134.000000  \n",
       "max                       98.000000           181.000000  "
      ]
     },
     "execution_count": 40,
     "metadata": {},
     "output_type": "execute_result"
    }
   ],
   "source": [
    "df.describe()"
   ]
  },
  {
   "cell_type": "code",
   "execution_count": 41,
   "id": "b571eee9",
   "metadata": {},
   "outputs": [
    {
     "data": {
      "text/plain": [
       "Movie                                  0\n",
       "Release Date                           0\n",
       "Release Month                          0\n",
       "Release Day                            0\n",
       "Release Year                           0\n",
       "Ownership                              0\n",
       "Domestic Box Office                    0\n",
       "Inflation Adjusted Domestic            0\n",
       "International Box Office               0\n",
       "Inflation Adjusted International       0\n",
       "Worldwide Box Office                   0\n",
       "Inflation Adjusted Worldwide           0\n",
       "Opening Weekend                        0\n",
       "Inflation Adjusted Opening Weekend     0\n",
       "Budget                                 0\n",
       "Inflation Adjusted Budget              0\n",
       "IMDb Score                             0\n",
       "Meta Score                             0\n",
       "Tomatometer                            0\n",
       "Rotten Tomato Audience Score           0\n",
       "Run Time In Minutes                    0\n",
       "Phase                                 35\n",
       "Director                               0\n",
       "dtype: int64"
      ]
     },
     "execution_count": 41,
     "metadata": {},
     "output_type": "execute_result"
    }
   ],
   "source": [
    "df.isnull().sum()"
   ]
  },
  {
   "cell_type": "code",
   "execution_count": 22,
   "id": "5637402a",
   "metadata": {},
   "outputs": [
    {
     "data": {
      "text/plain": [
       "(68, 23)"
      ]
     },
     "execution_count": 22,
     "metadata": {},
     "output_type": "execute_result"
    }
   ],
   "source": [
    "df.shape"
   ]
  },
  {
   "cell_type": "code",
   "execution_count": 24,
   "id": "afff34cb",
   "metadata": {},
   "outputs": [
    {
     "data": {
      "text/plain": [
       "Index(['Movie', 'Release Date', 'Release Month', 'Release Day', 'Release Year',\n",
       "       'Ownership', 'Domestic Box Office', 'Inflation Adjusted Domestic',\n",
       "       'International Box Office', 'Inflation Adjusted International',\n",
       "       'Worldwide Box Office', 'Inflation Adjusted Worldwide',\n",
       "       'Opening Weekend', 'Inflation Adjusted Opening Weekend', 'Budget',\n",
       "       'Inflation Adjusted Budget', 'IMDb Score', 'Meta Score', 'Tomatometer',\n",
       "       'Rotten Tomato Audience Score', 'Run Time In Minutes', 'Phase',\n",
       "       'Director'],\n",
       "      dtype='object')"
      ]
     },
     "execution_count": 24,
     "metadata": {},
     "output_type": "execute_result"
    }
   ],
   "source": [
    "df.columns"
   ]
  },
  {
   "cell_type": "code",
   "execution_count": 42,
   "id": "5e195aed",
   "metadata": {},
   "outputs": [
    {
     "data": {
      "text/plain": [
       "Movie                                       Iron Man\n",
       "Release Date                                5/2/2008\n",
       "Release Month                                    May\n",
       "Release Day                                        2\n",
       "Release Year                                    2008\n",
       "Ownership                             Marvel Studios\n",
       "Domestic Box Office                        318604126\n",
       "Inflation Adjusted Domestic                467231126\n",
       "International Box Office                   266567421\n",
       "Inflation Adjusted International           390919596\n",
       "Worldwide Box Office                       585171547\n",
       "Inflation Adjusted Worldwide               858150722\n",
       "Opening Weekend                            102118668\n",
       "Inflation Adjusted Opening Weekend         149756442\n",
       "Budget                                     186000000\n",
       "Inflation Adjusted Budget                  272767935\n",
       "IMDb Score                                       7.9\n",
       "Meta Score                                        79\n",
       "Tomatometer                                       94\n",
       "Rotten Tomato Audience Score                      91\n",
       "Run Time In Minutes                              126\n",
       "Phase                                            One\n",
       "Director                                 Jon Favreau\n",
       "Name: 0, dtype: object"
      ]
     },
     "execution_count": 42,
     "metadata": {},
     "output_type": "execute_result"
    }
   ],
   "source": [
    "df.iloc[0,:]"
   ]
  },
  {
   "cell_type": "code",
   "execution_count": 43,
   "id": "c3ea2237",
   "metadata": {},
   "outputs": [
    {
     "data": {
      "text/html": [
       "<div>\n",
       "<style scoped>\n",
       "    .dataframe tbody tr th:only-of-type {\n",
       "        vertical-align: middle;\n",
       "    }\n",
       "\n",
       "    .dataframe tbody tr th {\n",
       "        vertical-align: top;\n",
       "    }\n",
       "\n",
       "    .dataframe thead th {\n",
       "        text-align: right;\n",
       "    }\n",
       "</style>\n",
       "<table border=\"1\" class=\"dataframe\">\n",
       "  <thead>\n",
       "    <tr style=\"text-align: right;\">\n",
       "      <th></th>\n",
       "      <th>Movie</th>\n",
       "      <th>Release Date</th>\n",
       "      <th>Release Month</th>\n",
       "      <th>Release Day</th>\n",
       "      <th>Release Year</th>\n",
       "      <th>Ownership</th>\n",
       "      <th>Domestic Box Office</th>\n",
       "      <th>Inflation Adjusted Domestic</th>\n",
       "      <th>International Box Office</th>\n",
       "      <th>Inflation Adjusted International</th>\n",
       "      <th>...</th>\n",
       "      <th>Inflation Adjusted Opening Weekend</th>\n",
       "      <th>Budget</th>\n",
       "      <th>Inflation Adjusted Budget</th>\n",
       "      <th>IMDb Score</th>\n",
       "      <th>Meta Score</th>\n",
       "      <th>Tomatometer</th>\n",
       "      <th>Rotten Tomato Audience Score</th>\n",
       "      <th>Run Time In Minutes</th>\n",
       "      <th>Phase</th>\n",
       "      <th>Director</th>\n",
       "    </tr>\n",
       "  </thead>\n",
       "  <tbody>\n",
       "    <tr>\n",
       "      <th>0</th>\n",
       "      <td>Iron Man</td>\n",
       "      <td>5/2/2008</td>\n",
       "      <td>May</td>\n",
       "      <td>2</td>\n",
       "      <td>2008</td>\n",
       "      <td>Marvel Studios</td>\n",
       "      <td>318604126</td>\n",
       "      <td>467231126</td>\n",
       "      <td>266567421</td>\n",
       "      <td>390919596</td>\n",
       "      <td>...</td>\n",
       "      <td>149756442</td>\n",
       "      <td>186000000</td>\n",
       "      <td>272767935</td>\n",
       "      <td>7.9</td>\n",
       "      <td>79</td>\n",
       "      <td>94</td>\n",
       "      <td>91</td>\n",
       "      <td>126</td>\n",
       "      <td>One</td>\n",
       "      <td>Jon Favreau</td>\n",
       "    </tr>\n",
       "    <tr>\n",
       "      <th>1</th>\n",
       "      <td>The Incredible Hulk</td>\n",
       "      <td>6/13/2008</td>\n",
       "      <td>June</td>\n",
       "      <td>13</td>\n",
       "      <td>2008</td>\n",
       "      <td>Marvel Studios</td>\n",
       "      <td>134806913</td>\n",
       "      <td>197704288</td>\n",
       "      <td>130766946</td>\n",
       "      <td>191779378</td>\n",
       "      <td>...</td>\n",
       "      <td>81268794</td>\n",
       "      <td>137500000</td>\n",
       "      <td>201653899</td>\n",
       "      <td>6.6</td>\n",
       "      <td>61</td>\n",
       "      <td>67</td>\n",
       "      <td>69</td>\n",
       "      <td>112</td>\n",
       "      <td>One</td>\n",
       "      <td>Louis Leterrier</td>\n",
       "    </tr>\n",
       "    <tr>\n",
       "      <th>61</th>\n",
       "      <td>Punisher: Warzone</td>\n",
       "      <td>12/5/2008</td>\n",
       "      <td>December</td>\n",
       "      <td>5</td>\n",
       "      <td>2008</td>\n",
       "      <td>Lionsgate Films</td>\n",
       "      <td>8050977</td>\n",
       "      <td>11807352</td>\n",
       "      <td>2106557</td>\n",
       "      <td>3089421</td>\n",
       "      <td>...</td>\n",
       "      <td>6264398</td>\n",
       "      <td>35000000</td>\n",
       "      <td>51330083</td>\n",
       "      <td>5.9</td>\n",
       "      <td>30</td>\n",
       "      <td>29</td>\n",
       "      <td>42</td>\n",
       "      <td>103</td>\n",
       "      <td>NaN</td>\n",
       "      <td>Lexi Alexander</td>\n",
       "    </tr>\n",
       "  </tbody>\n",
       "</table>\n",
       "<p>3 rows × 23 columns</p>\n",
       "</div>"
      ],
      "text/plain": [
       "                  Movie Release Date Release Month  Release Day  Release Year  \\\n",
       "0              Iron Man     5/2/2008           May            2          2008   \n",
       "1   The Incredible Hulk    6/13/2008          June           13          2008   \n",
       "61    Punisher: Warzone    12/5/2008      December            5          2008   \n",
       "\n",
       "          Ownership  Domestic Box Office  Inflation Adjusted Domestic  \\\n",
       "0    Marvel Studios            318604126                    467231126   \n",
       "1    Marvel Studios            134806913                    197704288   \n",
       "61  Lionsgate Films              8050977                     11807352   \n",
       "\n",
       "    International Box Office  Inflation Adjusted International  ...  \\\n",
       "0                  266567421                         390919596  ...   \n",
       "1                  130766946                         191779378  ...   \n",
       "61                   2106557                           3089421  ...   \n",
       "\n",
       "    Inflation Adjusted Opening Weekend     Budget  Inflation Adjusted Budget  \\\n",
       "0                            149756442  186000000                  272767935   \n",
       "1                             81268794  137500000                  201653899   \n",
       "61                             6264398   35000000                   51330083   \n",
       "\n",
       "    IMDb Score  Meta Score  Tomatometer  Rotten Tomato Audience Score  \\\n",
       "0          7.9          79           94                            91   \n",
       "1          6.6          61           67                            69   \n",
       "61         5.9          30           29                            42   \n",
       "\n",
       "    Run Time In Minutes  Phase         Director  \n",
       "0                   126    One      Jon Favreau  \n",
       "1                   112    One  Louis Leterrier  \n",
       "61                  103    NaN   Lexi Alexander  \n",
       "\n",
       "[3 rows x 23 columns]"
      ]
     },
     "execution_count": 43,
     "metadata": {},
     "output_type": "execute_result"
    }
   ],
   "source": [
    "df[df[\"Release Year\"] == 2008]"
   ]
  },
  {
   "cell_type": "code",
   "execution_count": 44,
   "id": "f05cc5af",
   "metadata": {},
   "outputs": [
    {
     "name": "stdout",
     "output_type": "stream",
     "text": [
      "   Phase  Count\n",
      "0  Three     11\n",
      "1   Four      7\n",
      "2    One      6\n",
      "3    Two      6\n",
      "4   Five      3\n"
     ]
    },
    {
     "data": {
      "application/vnd.plotly.v1+json": {
       "config": {
        "plotlyServerURL": "https://plot.ly"
       },
       "data": [
        {
         "alignmentgroup": "True",
         "hovertemplate": "Phase=%{x}<br>Count=%{y}<extra></extra>",
         "legendgroup": "",
         "marker": {
          "color": "#636efa",
          "pattern": {
           "shape": ""
          }
         },
         "name": "",
         "offsetgroup": "",
         "orientation": "v",
         "showlegend": false,
         "textposition": "auto",
         "type": "bar",
         "x": [
          "Three",
          "Four",
          "One",
          "Two",
          "Five"
         ],
         "xaxis": "x",
         "y": [
          11,
          7,
          6,
          6,
          3
         ],
         "yaxis": "y"
        }
       ],
       "layout": {
        "barmode": "relative",
        "legend": {
         "tracegroupgap": 0
        },
        "margin": {
         "t": 60
        },
        "template": {
         "data": {
          "bar": [
           {
            "error_x": {
             "color": "#2a3f5f"
            },
            "error_y": {
             "color": "#2a3f5f"
            },
            "marker": {
             "line": {
              "color": "#E5ECF6",
              "width": 0.5
             },
             "pattern": {
              "fillmode": "overlay",
              "size": 10,
              "solidity": 0.2
             }
            },
            "type": "bar"
           }
          ],
          "barpolar": [
           {
            "marker": {
             "line": {
              "color": "#E5ECF6",
              "width": 0.5
             },
             "pattern": {
              "fillmode": "overlay",
              "size": 10,
              "solidity": 0.2
             }
            },
            "type": "barpolar"
           }
          ],
          "carpet": [
           {
            "aaxis": {
             "endlinecolor": "#2a3f5f",
             "gridcolor": "white",
             "linecolor": "white",
             "minorgridcolor": "white",
             "startlinecolor": "#2a3f5f"
            },
            "baxis": {
             "endlinecolor": "#2a3f5f",
             "gridcolor": "white",
             "linecolor": "white",
             "minorgridcolor": "white",
             "startlinecolor": "#2a3f5f"
            },
            "type": "carpet"
           }
          ],
          "choropleth": [
           {
            "colorbar": {
             "outlinewidth": 0,
             "ticks": ""
            },
            "type": "choropleth"
           }
          ],
          "contour": [
           {
            "colorbar": {
             "outlinewidth": 0,
             "ticks": ""
            },
            "colorscale": [
             [
              0,
              "#0d0887"
             ],
             [
              0.1111111111111111,
              "#46039f"
             ],
             [
              0.2222222222222222,
              "#7201a8"
             ],
             [
              0.3333333333333333,
              "#9c179e"
             ],
             [
              0.4444444444444444,
              "#bd3786"
             ],
             [
              0.5555555555555556,
              "#d8576b"
             ],
             [
              0.6666666666666666,
              "#ed7953"
             ],
             [
              0.7777777777777778,
              "#fb9f3a"
             ],
             [
              0.8888888888888888,
              "#fdca26"
             ],
             [
              1,
              "#f0f921"
             ]
            ],
            "type": "contour"
           }
          ],
          "contourcarpet": [
           {
            "colorbar": {
             "outlinewidth": 0,
             "ticks": ""
            },
            "type": "contourcarpet"
           }
          ],
          "heatmap": [
           {
            "colorbar": {
             "outlinewidth": 0,
             "ticks": ""
            },
            "colorscale": [
             [
              0,
              "#0d0887"
             ],
             [
              0.1111111111111111,
              "#46039f"
             ],
             [
              0.2222222222222222,
              "#7201a8"
             ],
             [
              0.3333333333333333,
              "#9c179e"
             ],
             [
              0.4444444444444444,
              "#bd3786"
             ],
             [
              0.5555555555555556,
              "#d8576b"
             ],
             [
              0.6666666666666666,
              "#ed7953"
             ],
             [
              0.7777777777777778,
              "#fb9f3a"
             ],
             [
              0.8888888888888888,
              "#fdca26"
             ],
             [
              1,
              "#f0f921"
             ]
            ],
            "type": "heatmap"
           }
          ],
          "heatmapgl": [
           {
            "colorbar": {
             "outlinewidth": 0,
             "ticks": ""
            },
            "colorscale": [
             [
              0,
              "#0d0887"
             ],
             [
              0.1111111111111111,
              "#46039f"
             ],
             [
              0.2222222222222222,
              "#7201a8"
             ],
             [
              0.3333333333333333,
              "#9c179e"
             ],
             [
              0.4444444444444444,
              "#bd3786"
             ],
             [
              0.5555555555555556,
              "#d8576b"
             ],
             [
              0.6666666666666666,
              "#ed7953"
             ],
             [
              0.7777777777777778,
              "#fb9f3a"
             ],
             [
              0.8888888888888888,
              "#fdca26"
             ],
             [
              1,
              "#f0f921"
             ]
            ],
            "type": "heatmapgl"
           }
          ],
          "histogram": [
           {
            "marker": {
             "pattern": {
              "fillmode": "overlay",
              "size": 10,
              "solidity": 0.2
             }
            },
            "type": "histogram"
           }
          ],
          "histogram2d": [
           {
            "colorbar": {
             "outlinewidth": 0,
             "ticks": ""
            },
            "colorscale": [
             [
              0,
              "#0d0887"
             ],
             [
              0.1111111111111111,
              "#46039f"
             ],
             [
              0.2222222222222222,
              "#7201a8"
             ],
             [
              0.3333333333333333,
              "#9c179e"
             ],
             [
              0.4444444444444444,
              "#bd3786"
             ],
             [
              0.5555555555555556,
              "#d8576b"
             ],
             [
              0.6666666666666666,
              "#ed7953"
             ],
             [
              0.7777777777777778,
              "#fb9f3a"
             ],
             [
              0.8888888888888888,
              "#fdca26"
             ],
             [
              1,
              "#f0f921"
             ]
            ],
            "type": "histogram2d"
           }
          ],
          "histogram2dcontour": [
           {
            "colorbar": {
             "outlinewidth": 0,
             "ticks": ""
            },
            "colorscale": [
             [
              0,
              "#0d0887"
             ],
             [
              0.1111111111111111,
              "#46039f"
             ],
             [
              0.2222222222222222,
              "#7201a8"
             ],
             [
              0.3333333333333333,
              "#9c179e"
             ],
             [
              0.4444444444444444,
              "#bd3786"
             ],
             [
              0.5555555555555556,
              "#d8576b"
             ],
             [
              0.6666666666666666,
              "#ed7953"
             ],
             [
              0.7777777777777778,
              "#fb9f3a"
             ],
             [
              0.8888888888888888,
              "#fdca26"
             ],
             [
              1,
              "#f0f921"
             ]
            ],
            "type": "histogram2dcontour"
           }
          ],
          "mesh3d": [
           {
            "colorbar": {
             "outlinewidth": 0,
             "ticks": ""
            },
            "type": "mesh3d"
           }
          ],
          "parcoords": [
           {
            "line": {
             "colorbar": {
              "outlinewidth": 0,
              "ticks": ""
             }
            },
            "type": "parcoords"
           }
          ],
          "pie": [
           {
            "automargin": true,
            "type": "pie"
           }
          ],
          "scatter": [
           {
            "fillpattern": {
             "fillmode": "overlay",
             "size": 10,
             "solidity": 0.2
            },
            "type": "scatter"
           }
          ],
          "scatter3d": [
           {
            "line": {
             "colorbar": {
              "outlinewidth": 0,
              "ticks": ""
             }
            },
            "marker": {
             "colorbar": {
              "outlinewidth": 0,
              "ticks": ""
             }
            },
            "type": "scatter3d"
           }
          ],
          "scattercarpet": [
           {
            "marker": {
             "colorbar": {
              "outlinewidth": 0,
              "ticks": ""
             }
            },
            "type": "scattercarpet"
           }
          ],
          "scattergeo": [
           {
            "marker": {
             "colorbar": {
              "outlinewidth": 0,
              "ticks": ""
             }
            },
            "type": "scattergeo"
           }
          ],
          "scattergl": [
           {
            "marker": {
             "colorbar": {
              "outlinewidth": 0,
              "ticks": ""
             }
            },
            "type": "scattergl"
           }
          ],
          "scattermapbox": [
           {
            "marker": {
             "colorbar": {
              "outlinewidth": 0,
              "ticks": ""
             }
            },
            "type": "scattermapbox"
           }
          ],
          "scatterpolar": [
           {
            "marker": {
             "colorbar": {
              "outlinewidth": 0,
              "ticks": ""
             }
            },
            "type": "scatterpolar"
           }
          ],
          "scatterpolargl": [
           {
            "marker": {
             "colorbar": {
              "outlinewidth": 0,
              "ticks": ""
             }
            },
            "type": "scatterpolargl"
           }
          ],
          "scatterternary": [
           {
            "marker": {
             "colorbar": {
              "outlinewidth": 0,
              "ticks": ""
             }
            },
            "type": "scatterternary"
           }
          ],
          "surface": [
           {
            "colorbar": {
             "outlinewidth": 0,
             "ticks": ""
            },
            "colorscale": [
             [
              0,
              "#0d0887"
             ],
             [
              0.1111111111111111,
              "#46039f"
             ],
             [
              0.2222222222222222,
              "#7201a8"
             ],
             [
              0.3333333333333333,
              "#9c179e"
             ],
             [
              0.4444444444444444,
              "#bd3786"
             ],
             [
              0.5555555555555556,
              "#d8576b"
             ],
             [
              0.6666666666666666,
              "#ed7953"
             ],
             [
              0.7777777777777778,
              "#fb9f3a"
             ],
             [
              0.8888888888888888,
              "#fdca26"
             ],
             [
              1,
              "#f0f921"
             ]
            ],
            "type": "surface"
           }
          ],
          "table": [
           {
            "cells": {
             "fill": {
              "color": "#EBF0F8"
             },
             "line": {
              "color": "white"
             }
            },
            "header": {
             "fill": {
              "color": "#C8D4E3"
             },
             "line": {
              "color": "white"
             }
            },
            "type": "table"
           }
          ]
         },
         "layout": {
          "annotationdefaults": {
           "arrowcolor": "#2a3f5f",
           "arrowhead": 0,
           "arrowwidth": 1
          },
          "autotypenumbers": "strict",
          "coloraxis": {
           "colorbar": {
            "outlinewidth": 0,
            "ticks": ""
           }
          },
          "colorscale": {
           "diverging": [
            [
             0,
             "#8e0152"
            ],
            [
             0.1,
             "#c51b7d"
            ],
            [
             0.2,
             "#de77ae"
            ],
            [
             0.3,
             "#f1b6da"
            ],
            [
             0.4,
             "#fde0ef"
            ],
            [
             0.5,
             "#f7f7f7"
            ],
            [
             0.6,
             "#e6f5d0"
            ],
            [
             0.7,
             "#b8e186"
            ],
            [
             0.8,
             "#7fbc41"
            ],
            [
             0.9,
             "#4d9221"
            ],
            [
             1,
             "#276419"
            ]
           ],
           "sequential": [
            [
             0,
             "#0d0887"
            ],
            [
             0.1111111111111111,
             "#46039f"
            ],
            [
             0.2222222222222222,
             "#7201a8"
            ],
            [
             0.3333333333333333,
             "#9c179e"
            ],
            [
             0.4444444444444444,
             "#bd3786"
            ],
            [
             0.5555555555555556,
             "#d8576b"
            ],
            [
             0.6666666666666666,
             "#ed7953"
            ],
            [
             0.7777777777777778,
             "#fb9f3a"
            ],
            [
             0.8888888888888888,
             "#fdca26"
            ],
            [
             1,
             "#f0f921"
            ]
           ],
           "sequentialminus": [
            [
             0,
             "#0d0887"
            ],
            [
             0.1111111111111111,
             "#46039f"
            ],
            [
             0.2222222222222222,
             "#7201a8"
            ],
            [
             0.3333333333333333,
             "#9c179e"
            ],
            [
             0.4444444444444444,
             "#bd3786"
            ],
            [
             0.5555555555555556,
             "#d8576b"
            ],
            [
             0.6666666666666666,
             "#ed7953"
            ],
            [
             0.7777777777777778,
             "#fb9f3a"
            ],
            [
             0.8888888888888888,
             "#fdca26"
            ],
            [
             1,
             "#f0f921"
            ]
           ]
          },
          "colorway": [
           "#636efa",
           "#EF553B",
           "#00cc96",
           "#ab63fa",
           "#FFA15A",
           "#19d3f3",
           "#FF6692",
           "#B6E880",
           "#FF97FF",
           "#FECB52"
          ],
          "font": {
           "color": "#2a3f5f"
          },
          "geo": {
           "bgcolor": "white",
           "lakecolor": "white",
           "landcolor": "#E5ECF6",
           "showlakes": true,
           "showland": true,
           "subunitcolor": "white"
          },
          "hoverlabel": {
           "align": "left"
          },
          "hovermode": "closest",
          "mapbox": {
           "style": "light"
          },
          "paper_bgcolor": "white",
          "plot_bgcolor": "#E5ECF6",
          "polar": {
           "angularaxis": {
            "gridcolor": "white",
            "linecolor": "white",
            "ticks": ""
           },
           "bgcolor": "#E5ECF6",
           "radialaxis": {
            "gridcolor": "white",
            "linecolor": "white",
            "ticks": ""
           }
          },
          "scene": {
           "xaxis": {
            "backgroundcolor": "#E5ECF6",
            "gridcolor": "white",
            "gridwidth": 2,
            "linecolor": "white",
            "showbackground": true,
            "ticks": "",
            "zerolinecolor": "white"
           },
           "yaxis": {
            "backgroundcolor": "#E5ECF6",
            "gridcolor": "white",
            "gridwidth": 2,
            "linecolor": "white",
            "showbackground": true,
            "ticks": "",
            "zerolinecolor": "white"
           },
           "zaxis": {
            "backgroundcolor": "#E5ECF6",
            "gridcolor": "white",
            "gridwidth": 2,
            "linecolor": "white",
            "showbackground": true,
            "ticks": "",
            "zerolinecolor": "white"
           }
          },
          "shapedefaults": {
           "line": {
            "color": "#2a3f5f"
           }
          },
          "ternary": {
           "aaxis": {
            "gridcolor": "white",
            "linecolor": "white",
            "ticks": ""
           },
           "baxis": {
            "gridcolor": "white",
            "linecolor": "white",
            "ticks": ""
           },
           "bgcolor": "#E5ECF6",
           "caxis": {
            "gridcolor": "white",
            "linecolor": "white",
            "ticks": ""
           }
          },
          "title": {
           "x": 0.05
          },
          "xaxis": {
           "automargin": true,
           "gridcolor": "white",
           "linecolor": "white",
           "ticks": "",
           "title": {
            "standoff": 15
           },
           "zerolinecolor": "white",
           "zerolinewidth": 2
          },
          "yaxis": {
           "automargin": true,
           "gridcolor": "white",
           "linecolor": "white",
           "ticks": "",
           "title": {
            "standoff": 15
           },
           "zerolinecolor": "white",
           "zerolinewidth": 2
          }
         }
        },
        "xaxis": {
         "anchor": "y",
         "domain": [
          0,
          1
         ],
         "title": {
          "text": "Phase"
         }
        },
        "yaxis": {
         "anchor": "x",
         "domain": [
          0,
          1
         ],
         "title": {
          "text": "Count"
         }
        }
       }
      },
      "text/html": [
       "<div>                            <div id=\"b95fb6cd-251b-42f3-a309-91674fd3b0c9\" class=\"plotly-graph-div\" style=\"height:525px; width:100%;\"></div>            <script type=\"text/javascript\">                require([\"plotly\"], function(Plotly) {                    window.PLOTLYENV=window.PLOTLYENV || {};                                    if (document.getElementById(\"b95fb6cd-251b-42f3-a309-91674fd3b0c9\")) {                    Plotly.newPlot(                        \"b95fb6cd-251b-42f3-a309-91674fd3b0c9\",                        [{\"alignmentgroup\":\"True\",\"hovertemplate\":\"Phase=%{x}<br>Count=%{y}<extra></extra>\",\"legendgroup\":\"\",\"marker\":{\"color\":\"#636efa\",\"pattern\":{\"shape\":\"\"}},\"name\":\"\",\"offsetgroup\":\"\",\"orientation\":\"v\",\"showlegend\":false,\"textposition\":\"auto\",\"x\":[\"Three\",\"Four\",\"One\",\"Two\",\"Five\"],\"xaxis\":\"x\",\"y\":[11,7,6,6,3],\"yaxis\":\"y\",\"type\":\"bar\"}],                        {\"template\":{\"data\":{\"histogram2dcontour\":[{\"type\":\"histogram2dcontour\",\"colorbar\":{\"outlinewidth\":0,\"ticks\":\"\"},\"colorscale\":[[0.0,\"#0d0887\"],[0.1111111111111111,\"#46039f\"],[0.2222222222222222,\"#7201a8\"],[0.3333333333333333,\"#9c179e\"],[0.4444444444444444,\"#bd3786\"],[0.5555555555555556,\"#d8576b\"],[0.6666666666666666,\"#ed7953\"],[0.7777777777777778,\"#fb9f3a\"],[0.8888888888888888,\"#fdca26\"],[1.0,\"#f0f921\"]]}],\"choropleth\":[{\"type\":\"choropleth\",\"colorbar\":{\"outlinewidth\":0,\"ticks\":\"\"}}],\"histogram2d\":[{\"type\":\"histogram2d\",\"colorbar\":{\"outlinewidth\":0,\"ticks\":\"\"},\"colorscale\":[[0.0,\"#0d0887\"],[0.1111111111111111,\"#46039f\"],[0.2222222222222222,\"#7201a8\"],[0.3333333333333333,\"#9c179e\"],[0.4444444444444444,\"#bd3786\"],[0.5555555555555556,\"#d8576b\"],[0.6666666666666666,\"#ed7953\"],[0.7777777777777778,\"#fb9f3a\"],[0.8888888888888888,\"#fdca26\"],[1.0,\"#f0f921\"]]}],\"heatmap\":[{\"type\":\"heatmap\",\"colorbar\":{\"outlinewidth\":0,\"ticks\":\"\"},\"colorscale\":[[0.0,\"#0d0887\"],[0.1111111111111111,\"#46039f\"],[0.2222222222222222,\"#7201a8\"],[0.3333333333333333,\"#9c179e\"],[0.4444444444444444,\"#bd3786\"],[0.5555555555555556,\"#d8576b\"],[0.6666666666666666,\"#ed7953\"],[0.7777777777777778,\"#fb9f3a\"],[0.8888888888888888,\"#fdca26\"],[1.0,\"#f0f921\"]]}],\"heatmapgl\":[{\"type\":\"heatmapgl\",\"colorbar\":{\"outlinewidth\":0,\"ticks\":\"\"},\"colorscale\":[[0.0,\"#0d0887\"],[0.1111111111111111,\"#46039f\"],[0.2222222222222222,\"#7201a8\"],[0.3333333333333333,\"#9c179e\"],[0.4444444444444444,\"#bd3786\"],[0.5555555555555556,\"#d8576b\"],[0.6666666666666666,\"#ed7953\"],[0.7777777777777778,\"#fb9f3a\"],[0.8888888888888888,\"#fdca26\"],[1.0,\"#f0f921\"]]}],\"contourcarpet\":[{\"type\":\"contourcarpet\",\"colorbar\":{\"outlinewidth\":0,\"ticks\":\"\"}}],\"contour\":[{\"type\":\"contour\",\"colorbar\":{\"outlinewidth\":0,\"ticks\":\"\"},\"colorscale\":[[0.0,\"#0d0887\"],[0.1111111111111111,\"#46039f\"],[0.2222222222222222,\"#7201a8\"],[0.3333333333333333,\"#9c179e\"],[0.4444444444444444,\"#bd3786\"],[0.5555555555555556,\"#d8576b\"],[0.6666666666666666,\"#ed7953\"],[0.7777777777777778,\"#fb9f3a\"],[0.8888888888888888,\"#fdca26\"],[1.0,\"#f0f921\"]]}],\"surface\":[{\"type\":\"surface\",\"colorbar\":{\"outlinewidth\":0,\"ticks\":\"\"},\"colorscale\":[[0.0,\"#0d0887\"],[0.1111111111111111,\"#46039f\"],[0.2222222222222222,\"#7201a8\"],[0.3333333333333333,\"#9c179e\"],[0.4444444444444444,\"#bd3786\"],[0.5555555555555556,\"#d8576b\"],[0.6666666666666666,\"#ed7953\"],[0.7777777777777778,\"#fb9f3a\"],[0.8888888888888888,\"#fdca26\"],[1.0,\"#f0f921\"]]}],\"mesh3d\":[{\"type\":\"mesh3d\",\"colorbar\":{\"outlinewidth\":0,\"ticks\":\"\"}}],\"scatter\":[{\"fillpattern\":{\"fillmode\":\"overlay\",\"size\":10,\"solidity\":0.2},\"type\":\"scatter\"}],\"parcoords\":[{\"type\":\"parcoords\",\"line\":{\"colorbar\":{\"outlinewidth\":0,\"ticks\":\"\"}}}],\"scatterpolargl\":[{\"type\":\"scatterpolargl\",\"marker\":{\"colorbar\":{\"outlinewidth\":0,\"ticks\":\"\"}}}],\"bar\":[{\"error_x\":{\"color\":\"#2a3f5f\"},\"error_y\":{\"color\":\"#2a3f5f\"},\"marker\":{\"line\":{\"color\":\"#E5ECF6\",\"width\":0.5},\"pattern\":{\"fillmode\":\"overlay\",\"size\":10,\"solidity\":0.2}},\"type\":\"bar\"}],\"scattergeo\":[{\"type\":\"scattergeo\",\"marker\":{\"colorbar\":{\"outlinewidth\":0,\"ticks\":\"\"}}}],\"scatterpolar\":[{\"type\":\"scatterpolar\",\"marker\":{\"colorbar\":{\"outlinewidth\":0,\"ticks\":\"\"}}}],\"histogram\":[{\"marker\":{\"pattern\":{\"fillmode\":\"overlay\",\"size\":10,\"solidity\":0.2}},\"type\":\"histogram\"}],\"scattergl\":[{\"type\":\"scattergl\",\"marker\":{\"colorbar\":{\"outlinewidth\":0,\"ticks\":\"\"}}}],\"scatter3d\":[{\"type\":\"scatter3d\",\"line\":{\"colorbar\":{\"outlinewidth\":0,\"ticks\":\"\"}},\"marker\":{\"colorbar\":{\"outlinewidth\":0,\"ticks\":\"\"}}}],\"scattermapbox\":[{\"type\":\"scattermapbox\",\"marker\":{\"colorbar\":{\"outlinewidth\":0,\"ticks\":\"\"}}}],\"scatterternary\":[{\"type\":\"scatterternary\",\"marker\":{\"colorbar\":{\"outlinewidth\":0,\"ticks\":\"\"}}}],\"scattercarpet\":[{\"type\":\"scattercarpet\",\"marker\":{\"colorbar\":{\"outlinewidth\":0,\"ticks\":\"\"}}}],\"carpet\":[{\"aaxis\":{\"endlinecolor\":\"#2a3f5f\",\"gridcolor\":\"white\",\"linecolor\":\"white\",\"minorgridcolor\":\"white\",\"startlinecolor\":\"#2a3f5f\"},\"baxis\":{\"endlinecolor\":\"#2a3f5f\",\"gridcolor\":\"white\",\"linecolor\":\"white\",\"minorgridcolor\":\"white\",\"startlinecolor\":\"#2a3f5f\"},\"type\":\"carpet\"}],\"table\":[{\"cells\":{\"fill\":{\"color\":\"#EBF0F8\"},\"line\":{\"color\":\"white\"}},\"header\":{\"fill\":{\"color\":\"#C8D4E3\"},\"line\":{\"color\":\"white\"}},\"type\":\"table\"}],\"barpolar\":[{\"marker\":{\"line\":{\"color\":\"#E5ECF6\",\"width\":0.5},\"pattern\":{\"fillmode\":\"overlay\",\"size\":10,\"solidity\":0.2}},\"type\":\"barpolar\"}],\"pie\":[{\"automargin\":true,\"type\":\"pie\"}]},\"layout\":{\"autotypenumbers\":\"strict\",\"colorway\":[\"#636efa\",\"#EF553B\",\"#00cc96\",\"#ab63fa\",\"#FFA15A\",\"#19d3f3\",\"#FF6692\",\"#B6E880\",\"#FF97FF\",\"#FECB52\"],\"font\":{\"color\":\"#2a3f5f\"},\"hovermode\":\"closest\",\"hoverlabel\":{\"align\":\"left\"},\"paper_bgcolor\":\"white\",\"plot_bgcolor\":\"#E5ECF6\",\"polar\":{\"bgcolor\":\"#E5ECF6\",\"angularaxis\":{\"gridcolor\":\"white\",\"linecolor\":\"white\",\"ticks\":\"\"},\"radialaxis\":{\"gridcolor\":\"white\",\"linecolor\":\"white\",\"ticks\":\"\"}},\"ternary\":{\"bgcolor\":\"#E5ECF6\",\"aaxis\":{\"gridcolor\":\"white\",\"linecolor\":\"white\",\"ticks\":\"\"},\"baxis\":{\"gridcolor\":\"white\",\"linecolor\":\"white\",\"ticks\":\"\"},\"caxis\":{\"gridcolor\":\"white\",\"linecolor\":\"white\",\"ticks\":\"\"}},\"coloraxis\":{\"colorbar\":{\"outlinewidth\":0,\"ticks\":\"\"}},\"colorscale\":{\"sequential\":[[0.0,\"#0d0887\"],[0.1111111111111111,\"#46039f\"],[0.2222222222222222,\"#7201a8\"],[0.3333333333333333,\"#9c179e\"],[0.4444444444444444,\"#bd3786\"],[0.5555555555555556,\"#d8576b\"],[0.6666666666666666,\"#ed7953\"],[0.7777777777777778,\"#fb9f3a\"],[0.8888888888888888,\"#fdca26\"],[1.0,\"#f0f921\"]],\"sequentialminus\":[[0.0,\"#0d0887\"],[0.1111111111111111,\"#46039f\"],[0.2222222222222222,\"#7201a8\"],[0.3333333333333333,\"#9c179e\"],[0.4444444444444444,\"#bd3786\"],[0.5555555555555556,\"#d8576b\"],[0.6666666666666666,\"#ed7953\"],[0.7777777777777778,\"#fb9f3a\"],[0.8888888888888888,\"#fdca26\"],[1.0,\"#f0f921\"]],\"diverging\":[[0,\"#8e0152\"],[0.1,\"#c51b7d\"],[0.2,\"#de77ae\"],[0.3,\"#f1b6da\"],[0.4,\"#fde0ef\"],[0.5,\"#f7f7f7\"],[0.6,\"#e6f5d0\"],[0.7,\"#b8e186\"],[0.8,\"#7fbc41\"],[0.9,\"#4d9221\"],[1,\"#276419\"]]},\"xaxis\":{\"gridcolor\":\"white\",\"linecolor\":\"white\",\"ticks\":\"\",\"title\":{\"standoff\":15},\"zerolinecolor\":\"white\",\"automargin\":true,\"zerolinewidth\":2},\"yaxis\":{\"gridcolor\":\"white\",\"linecolor\":\"white\",\"ticks\":\"\",\"title\":{\"standoff\":15},\"zerolinecolor\":\"white\",\"automargin\":true,\"zerolinewidth\":2},\"scene\":{\"xaxis\":{\"backgroundcolor\":\"#E5ECF6\",\"gridcolor\":\"white\",\"linecolor\":\"white\",\"showbackground\":true,\"ticks\":\"\",\"zerolinecolor\":\"white\",\"gridwidth\":2},\"yaxis\":{\"backgroundcolor\":\"#E5ECF6\",\"gridcolor\":\"white\",\"linecolor\":\"white\",\"showbackground\":true,\"ticks\":\"\",\"zerolinecolor\":\"white\",\"gridwidth\":2},\"zaxis\":{\"backgroundcolor\":\"#E5ECF6\",\"gridcolor\":\"white\",\"linecolor\":\"white\",\"showbackground\":true,\"ticks\":\"\",\"zerolinecolor\":\"white\",\"gridwidth\":2}},\"shapedefaults\":{\"line\":{\"color\":\"#2a3f5f\"}},\"annotationdefaults\":{\"arrowcolor\":\"#2a3f5f\",\"arrowhead\":0,\"arrowwidth\":1},\"geo\":{\"bgcolor\":\"white\",\"landcolor\":\"#E5ECF6\",\"subunitcolor\":\"white\",\"showland\":true,\"showlakes\":true,\"lakecolor\":\"white\"},\"title\":{\"x\":0.05},\"mapbox\":{\"style\":\"light\"}}},\"xaxis\":{\"anchor\":\"y\",\"domain\":[0.0,1.0],\"title\":{\"text\":\"Phase\"}},\"yaxis\":{\"anchor\":\"x\",\"domain\":[0.0,1.0],\"title\":{\"text\":\"Count\"}},\"legend\":{\"tracegroupgap\":0},\"margin\":{\"t\":60},\"barmode\":\"relative\"},                        {\"responsive\": true}                    ).then(function(){\n",
       "                            \n",
       "var gd = document.getElementById('b95fb6cd-251b-42f3-a309-91674fd3b0c9');\n",
       "var x = new MutationObserver(function (mutations, observer) {{\n",
       "        var display = window.getComputedStyle(gd).display;\n",
       "        if (!display || display === 'none') {{\n",
       "            console.log([gd, 'removed!']);\n",
       "            Plotly.purge(gd);\n",
       "            observer.disconnect();\n",
       "        }}\n",
       "}});\n",
       "\n",
       "// Listen for the removal of the full notebook cells\n",
       "var notebookContainer = gd.closest('#notebook-container');\n",
       "if (notebookContainer) {{\n",
       "    x.observe(notebookContainer, {childList: true});\n",
       "}}\n",
       "\n",
       "// Listen for the clearing of the current output cell\n",
       "var outputEl = gd.closest('.output');\n",
       "if (outputEl) {{\n",
       "    x.observe(outputEl, {childList: true});\n",
       "}}\n",
       "\n",
       "                        })                };                });            </script>        </div>"
      ]
     },
     "metadata": {},
     "output_type": "display_data"
    }
   ],
   "source": [
    "import plotly.express as px\n",
    "value = df[\"Phase\"].value_counts().reset_index()\n",
    "value.columns = [\"Phase\",\"Count\"]\n",
    "print(value)\n",
    "px.bar(value,x = \"Phase\",y = \"Count\")"
   ]
  },
  {
   "cell_type": "code",
   "execution_count": 45,
   "id": "7f1c5981",
   "metadata": {},
   "outputs": [
    {
     "data": {
      "application/vnd.plotly.v1+json": {
       "config": {
        "plotlyServerURL": "https://plot.ly"
       },
       "data": [
        {
         "domain": {
          "x": [
           0,
           1
          ],
          "y": [
           0,
           1
          ]
         },
         "hovertemplate": "Phase=%{label}<br>Count=%{value}<extra></extra>",
         "labels": [
          "Three",
          "Four",
          "One",
          "Two",
          "Five"
         ],
         "legendgroup": "",
         "name": "",
         "showlegend": true,
         "type": "pie",
         "values": [
          11,
          7,
          6,
          6,
          3
         ]
        }
       ],
       "layout": {
        "legend": {
         "tracegroupgap": 0
        },
        "margin": {
         "t": 60
        },
        "template": {
         "data": {
          "bar": [
           {
            "error_x": {
             "color": "#2a3f5f"
            },
            "error_y": {
             "color": "#2a3f5f"
            },
            "marker": {
             "line": {
              "color": "#E5ECF6",
              "width": 0.5
             },
             "pattern": {
              "fillmode": "overlay",
              "size": 10,
              "solidity": 0.2
             }
            },
            "type": "bar"
           }
          ],
          "barpolar": [
           {
            "marker": {
             "line": {
              "color": "#E5ECF6",
              "width": 0.5
             },
             "pattern": {
              "fillmode": "overlay",
              "size": 10,
              "solidity": 0.2
             }
            },
            "type": "barpolar"
           }
          ],
          "carpet": [
           {
            "aaxis": {
             "endlinecolor": "#2a3f5f",
             "gridcolor": "white",
             "linecolor": "white",
             "minorgridcolor": "white",
             "startlinecolor": "#2a3f5f"
            },
            "baxis": {
             "endlinecolor": "#2a3f5f",
             "gridcolor": "white",
             "linecolor": "white",
             "minorgridcolor": "white",
             "startlinecolor": "#2a3f5f"
            },
            "type": "carpet"
           }
          ],
          "choropleth": [
           {
            "colorbar": {
             "outlinewidth": 0,
             "ticks": ""
            },
            "type": "choropleth"
           }
          ],
          "contour": [
           {
            "colorbar": {
             "outlinewidth": 0,
             "ticks": ""
            },
            "colorscale": [
             [
              0,
              "#0d0887"
             ],
             [
              0.1111111111111111,
              "#46039f"
             ],
             [
              0.2222222222222222,
              "#7201a8"
             ],
             [
              0.3333333333333333,
              "#9c179e"
             ],
             [
              0.4444444444444444,
              "#bd3786"
             ],
             [
              0.5555555555555556,
              "#d8576b"
             ],
             [
              0.6666666666666666,
              "#ed7953"
             ],
             [
              0.7777777777777778,
              "#fb9f3a"
             ],
             [
              0.8888888888888888,
              "#fdca26"
             ],
             [
              1,
              "#f0f921"
             ]
            ],
            "type": "contour"
           }
          ],
          "contourcarpet": [
           {
            "colorbar": {
             "outlinewidth": 0,
             "ticks": ""
            },
            "type": "contourcarpet"
           }
          ],
          "heatmap": [
           {
            "colorbar": {
             "outlinewidth": 0,
             "ticks": ""
            },
            "colorscale": [
             [
              0,
              "#0d0887"
             ],
             [
              0.1111111111111111,
              "#46039f"
             ],
             [
              0.2222222222222222,
              "#7201a8"
             ],
             [
              0.3333333333333333,
              "#9c179e"
             ],
             [
              0.4444444444444444,
              "#bd3786"
             ],
             [
              0.5555555555555556,
              "#d8576b"
             ],
             [
              0.6666666666666666,
              "#ed7953"
             ],
             [
              0.7777777777777778,
              "#fb9f3a"
             ],
             [
              0.8888888888888888,
              "#fdca26"
             ],
             [
              1,
              "#f0f921"
             ]
            ],
            "type": "heatmap"
           }
          ],
          "heatmapgl": [
           {
            "colorbar": {
             "outlinewidth": 0,
             "ticks": ""
            },
            "colorscale": [
             [
              0,
              "#0d0887"
             ],
             [
              0.1111111111111111,
              "#46039f"
             ],
             [
              0.2222222222222222,
              "#7201a8"
             ],
             [
              0.3333333333333333,
              "#9c179e"
             ],
             [
              0.4444444444444444,
              "#bd3786"
             ],
             [
              0.5555555555555556,
              "#d8576b"
             ],
             [
              0.6666666666666666,
              "#ed7953"
             ],
             [
              0.7777777777777778,
              "#fb9f3a"
             ],
             [
              0.8888888888888888,
              "#fdca26"
             ],
             [
              1,
              "#f0f921"
             ]
            ],
            "type": "heatmapgl"
           }
          ],
          "histogram": [
           {
            "marker": {
             "pattern": {
              "fillmode": "overlay",
              "size": 10,
              "solidity": 0.2
             }
            },
            "type": "histogram"
           }
          ],
          "histogram2d": [
           {
            "colorbar": {
             "outlinewidth": 0,
             "ticks": ""
            },
            "colorscale": [
             [
              0,
              "#0d0887"
             ],
             [
              0.1111111111111111,
              "#46039f"
             ],
             [
              0.2222222222222222,
              "#7201a8"
             ],
             [
              0.3333333333333333,
              "#9c179e"
             ],
             [
              0.4444444444444444,
              "#bd3786"
             ],
             [
              0.5555555555555556,
              "#d8576b"
             ],
             [
              0.6666666666666666,
              "#ed7953"
             ],
             [
              0.7777777777777778,
              "#fb9f3a"
             ],
             [
              0.8888888888888888,
              "#fdca26"
             ],
             [
              1,
              "#f0f921"
             ]
            ],
            "type": "histogram2d"
           }
          ],
          "histogram2dcontour": [
           {
            "colorbar": {
             "outlinewidth": 0,
             "ticks": ""
            },
            "colorscale": [
             [
              0,
              "#0d0887"
             ],
             [
              0.1111111111111111,
              "#46039f"
             ],
             [
              0.2222222222222222,
              "#7201a8"
             ],
             [
              0.3333333333333333,
              "#9c179e"
             ],
             [
              0.4444444444444444,
              "#bd3786"
             ],
             [
              0.5555555555555556,
              "#d8576b"
             ],
             [
              0.6666666666666666,
              "#ed7953"
             ],
             [
              0.7777777777777778,
              "#fb9f3a"
             ],
             [
              0.8888888888888888,
              "#fdca26"
             ],
             [
              1,
              "#f0f921"
             ]
            ],
            "type": "histogram2dcontour"
           }
          ],
          "mesh3d": [
           {
            "colorbar": {
             "outlinewidth": 0,
             "ticks": ""
            },
            "type": "mesh3d"
           }
          ],
          "parcoords": [
           {
            "line": {
             "colorbar": {
              "outlinewidth": 0,
              "ticks": ""
             }
            },
            "type": "parcoords"
           }
          ],
          "pie": [
           {
            "automargin": true,
            "type": "pie"
           }
          ],
          "scatter": [
           {
            "fillpattern": {
             "fillmode": "overlay",
             "size": 10,
             "solidity": 0.2
            },
            "type": "scatter"
           }
          ],
          "scatter3d": [
           {
            "line": {
             "colorbar": {
              "outlinewidth": 0,
              "ticks": ""
             }
            },
            "marker": {
             "colorbar": {
              "outlinewidth": 0,
              "ticks": ""
             }
            },
            "type": "scatter3d"
           }
          ],
          "scattercarpet": [
           {
            "marker": {
             "colorbar": {
              "outlinewidth": 0,
              "ticks": ""
             }
            },
            "type": "scattercarpet"
           }
          ],
          "scattergeo": [
           {
            "marker": {
             "colorbar": {
              "outlinewidth": 0,
              "ticks": ""
             }
            },
            "type": "scattergeo"
           }
          ],
          "scattergl": [
           {
            "marker": {
             "colorbar": {
              "outlinewidth": 0,
              "ticks": ""
             }
            },
            "type": "scattergl"
           }
          ],
          "scattermapbox": [
           {
            "marker": {
             "colorbar": {
              "outlinewidth": 0,
              "ticks": ""
             }
            },
            "type": "scattermapbox"
           }
          ],
          "scatterpolar": [
           {
            "marker": {
             "colorbar": {
              "outlinewidth": 0,
              "ticks": ""
             }
            },
            "type": "scatterpolar"
           }
          ],
          "scatterpolargl": [
           {
            "marker": {
             "colorbar": {
              "outlinewidth": 0,
              "ticks": ""
             }
            },
            "type": "scatterpolargl"
           }
          ],
          "scatterternary": [
           {
            "marker": {
             "colorbar": {
              "outlinewidth": 0,
              "ticks": ""
             }
            },
            "type": "scatterternary"
           }
          ],
          "surface": [
           {
            "colorbar": {
             "outlinewidth": 0,
             "ticks": ""
            },
            "colorscale": [
             [
              0,
              "#0d0887"
             ],
             [
              0.1111111111111111,
              "#46039f"
             ],
             [
              0.2222222222222222,
              "#7201a8"
             ],
             [
              0.3333333333333333,
              "#9c179e"
             ],
             [
              0.4444444444444444,
              "#bd3786"
             ],
             [
              0.5555555555555556,
              "#d8576b"
             ],
             [
              0.6666666666666666,
              "#ed7953"
             ],
             [
              0.7777777777777778,
              "#fb9f3a"
             ],
             [
              0.8888888888888888,
              "#fdca26"
             ],
             [
              1,
              "#f0f921"
             ]
            ],
            "type": "surface"
           }
          ],
          "table": [
           {
            "cells": {
             "fill": {
              "color": "#EBF0F8"
             },
             "line": {
              "color": "white"
             }
            },
            "header": {
             "fill": {
              "color": "#C8D4E3"
             },
             "line": {
              "color": "white"
             }
            },
            "type": "table"
           }
          ]
         },
         "layout": {
          "annotationdefaults": {
           "arrowcolor": "#2a3f5f",
           "arrowhead": 0,
           "arrowwidth": 1
          },
          "autotypenumbers": "strict",
          "coloraxis": {
           "colorbar": {
            "outlinewidth": 0,
            "ticks": ""
           }
          },
          "colorscale": {
           "diverging": [
            [
             0,
             "#8e0152"
            ],
            [
             0.1,
             "#c51b7d"
            ],
            [
             0.2,
             "#de77ae"
            ],
            [
             0.3,
             "#f1b6da"
            ],
            [
             0.4,
             "#fde0ef"
            ],
            [
             0.5,
             "#f7f7f7"
            ],
            [
             0.6,
             "#e6f5d0"
            ],
            [
             0.7,
             "#b8e186"
            ],
            [
             0.8,
             "#7fbc41"
            ],
            [
             0.9,
             "#4d9221"
            ],
            [
             1,
             "#276419"
            ]
           ],
           "sequential": [
            [
             0,
             "#0d0887"
            ],
            [
             0.1111111111111111,
             "#46039f"
            ],
            [
             0.2222222222222222,
             "#7201a8"
            ],
            [
             0.3333333333333333,
             "#9c179e"
            ],
            [
             0.4444444444444444,
             "#bd3786"
            ],
            [
             0.5555555555555556,
             "#d8576b"
            ],
            [
             0.6666666666666666,
             "#ed7953"
            ],
            [
             0.7777777777777778,
             "#fb9f3a"
            ],
            [
             0.8888888888888888,
             "#fdca26"
            ],
            [
             1,
             "#f0f921"
            ]
           ],
           "sequentialminus": [
            [
             0,
             "#0d0887"
            ],
            [
             0.1111111111111111,
             "#46039f"
            ],
            [
             0.2222222222222222,
             "#7201a8"
            ],
            [
             0.3333333333333333,
             "#9c179e"
            ],
            [
             0.4444444444444444,
             "#bd3786"
            ],
            [
             0.5555555555555556,
             "#d8576b"
            ],
            [
             0.6666666666666666,
             "#ed7953"
            ],
            [
             0.7777777777777778,
             "#fb9f3a"
            ],
            [
             0.8888888888888888,
             "#fdca26"
            ],
            [
             1,
             "#f0f921"
            ]
           ]
          },
          "colorway": [
           "#636efa",
           "#EF553B",
           "#00cc96",
           "#ab63fa",
           "#FFA15A",
           "#19d3f3",
           "#FF6692",
           "#B6E880",
           "#FF97FF",
           "#FECB52"
          ],
          "font": {
           "color": "#2a3f5f"
          },
          "geo": {
           "bgcolor": "white",
           "lakecolor": "white",
           "landcolor": "#E5ECF6",
           "showlakes": true,
           "showland": true,
           "subunitcolor": "white"
          },
          "hoverlabel": {
           "align": "left"
          },
          "hovermode": "closest",
          "mapbox": {
           "style": "light"
          },
          "paper_bgcolor": "white",
          "plot_bgcolor": "#E5ECF6",
          "polar": {
           "angularaxis": {
            "gridcolor": "white",
            "linecolor": "white",
            "ticks": ""
           },
           "bgcolor": "#E5ECF6",
           "radialaxis": {
            "gridcolor": "white",
            "linecolor": "white",
            "ticks": ""
           }
          },
          "scene": {
           "xaxis": {
            "backgroundcolor": "#E5ECF6",
            "gridcolor": "white",
            "gridwidth": 2,
            "linecolor": "white",
            "showbackground": true,
            "ticks": "",
            "zerolinecolor": "white"
           },
           "yaxis": {
            "backgroundcolor": "#E5ECF6",
            "gridcolor": "white",
            "gridwidth": 2,
            "linecolor": "white",
            "showbackground": true,
            "ticks": "",
            "zerolinecolor": "white"
           },
           "zaxis": {
            "backgroundcolor": "#E5ECF6",
            "gridcolor": "white",
            "gridwidth": 2,
            "linecolor": "white",
            "showbackground": true,
            "ticks": "",
            "zerolinecolor": "white"
           }
          },
          "shapedefaults": {
           "line": {
            "color": "#2a3f5f"
           }
          },
          "ternary": {
           "aaxis": {
            "gridcolor": "white",
            "linecolor": "white",
            "ticks": ""
           },
           "baxis": {
            "gridcolor": "white",
            "linecolor": "white",
            "ticks": ""
           },
           "bgcolor": "#E5ECF6",
           "caxis": {
            "gridcolor": "white",
            "linecolor": "white",
            "ticks": ""
           }
          },
          "title": {
           "x": 0.05
          },
          "xaxis": {
           "automargin": true,
           "gridcolor": "white",
           "linecolor": "white",
           "ticks": "",
           "title": {
            "standoff": 15
           },
           "zerolinecolor": "white",
           "zerolinewidth": 2
          },
          "yaxis": {
           "automargin": true,
           "gridcolor": "white",
           "linecolor": "white",
           "ticks": "",
           "title": {
            "standoff": 15
           },
           "zerolinecolor": "white",
           "zerolinewidth": 2
          }
         }
        }
       }
      },
      "text/html": [
       "<div>                            <div id=\"fd3c5e86-72fc-4a0f-8235-37d50b2e4163\" class=\"plotly-graph-div\" style=\"height:525px; width:100%;\"></div>            <script type=\"text/javascript\">                require([\"plotly\"], function(Plotly) {                    window.PLOTLYENV=window.PLOTLYENV || {};                                    if (document.getElementById(\"fd3c5e86-72fc-4a0f-8235-37d50b2e4163\")) {                    Plotly.newPlot(                        \"fd3c5e86-72fc-4a0f-8235-37d50b2e4163\",                        [{\"domain\":{\"x\":[0.0,1.0],\"y\":[0.0,1.0]},\"hovertemplate\":\"Phase=%{label}<br>Count=%{value}<extra></extra>\",\"labels\":[\"Three\",\"Four\",\"One\",\"Two\",\"Five\"],\"legendgroup\":\"\",\"name\":\"\",\"showlegend\":true,\"values\":[11,7,6,6,3],\"type\":\"pie\"}],                        {\"template\":{\"data\":{\"histogram2dcontour\":[{\"type\":\"histogram2dcontour\",\"colorbar\":{\"outlinewidth\":0,\"ticks\":\"\"},\"colorscale\":[[0.0,\"#0d0887\"],[0.1111111111111111,\"#46039f\"],[0.2222222222222222,\"#7201a8\"],[0.3333333333333333,\"#9c179e\"],[0.4444444444444444,\"#bd3786\"],[0.5555555555555556,\"#d8576b\"],[0.6666666666666666,\"#ed7953\"],[0.7777777777777778,\"#fb9f3a\"],[0.8888888888888888,\"#fdca26\"],[1.0,\"#f0f921\"]]}],\"choropleth\":[{\"type\":\"choropleth\",\"colorbar\":{\"outlinewidth\":0,\"ticks\":\"\"}}],\"histogram2d\":[{\"type\":\"histogram2d\",\"colorbar\":{\"outlinewidth\":0,\"ticks\":\"\"},\"colorscale\":[[0.0,\"#0d0887\"],[0.1111111111111111,\"#46039f\"],[0.2222222222222222,\"#7201a8\"],[0.3333333333333333,\"#9c179e\"],[0.4444444444444444,\"#bd3786\"],[0.5555555555555556,\"#d8576b\"],[0.6666666666666666,\"#ed7953\"],[0.7777777777777778,\"#fb9f3a\"],[0.8888888888888888,\"#fdca26\"],[1.0,\"#f0f921\"]]}],\"heatmap\":[{\"type\":\"heatmap\",\"colorbar\":{\"outlinewidth\":0,\"ticks\":\"\"},\"colorscale\":[[0.0,\"#0d0887\"],[0.1111111111111111,\"#46039f\"],[0.2222222222222222,\"#7201a8\"],[0.3333333333333333,\"#9c179e\"],[0.4444444444444444,\"#bd3786\"],[0.5555555555555556,\"#d8576b\"],[0.6666666666666666,\"#ed7953\"],[0.7777777777777778,\"#fb9f3a\"],[0.8888888888888888,\"#fdca26\"],[1.0,\"#f0f921\"]]}],\"heatmapgl\":[{\"type\":\"heatmapgl\",\"colorbar\":{\"outlinewidth\":0,\"ticks\":\"\"},\"colorscale\":[[0.0,\"#0d0887\"],[0.1111111111111111,\"#46039f\"],[0.2222222222222222,\"#7201a8\"],[0.3333333333333333,\"#9c179e\"],[0.4444444444444444,\"#bd3786\"],[0.5555555555555556,\"#d8576b\"],[0.6666666666666666,\"#ed7953\"],[0.7777777777777778,\"#fb9f3a\"],[0.8888888888888888,\"#fdca26\"],[1.0,\"#f0f921\"]]}],\"contourcarpet\":[{\"type\":\"contourcarpet\",\"colorbar\":{\"outlinewidth\":0,\"ticks\":\"\"}}],\"contour\":[{\"type\":\"contour\",\"colorbar\":{\"outlinewidth\":0,\"ticks\":\"\"},\"colorscale\":[[0.0,\"#0d0887\"],[0.1111111111111111,\"#46039f\"],[0.2222222222222222,\"#7201a8\"],[0.3333333333333333,\"#9c179e\"],[0.4444444444444444,\"#bd3786\"],[0.5555555555555556,\"#d8576b\"],[0.6666666666666666,\"#ed7953\"],[0.7777777777777778,\"#fb9f3a\"],[0.8888888888888888,\"#fdca26\"],[1.0,\"#f0f921\"]]}],\"surface\":[{\"type\":\"surface\",\"colorbar\":{\"outlinewidth\":0,\"ticks\":\"\"},\"colorscale\":[[0.0,\"#0d0887\"],[0.1111111111111111,\"#46039f\"],[0.2222222222222222,\"#7201a8\"],[0.3333333333333333,\"#9c179e\"],[0.4444444444444444,\"#bd3786\"],[0.5555555555555556,\"#d8576b\"],[0.6666666666666666,\"#ed7953\"],[0.7777777777777778,\"#fb9f3a\"],[0.8888888888888888,\"#fdca26\"],[1.0,\"#f0f921\"]]}],\"mesh3d\":[{\"type\":\"mesh3d\",\"colorbar\":{\"outlinewidth\":0,\"ticks\":\"\"}}],\"scatter\":[{\"fillpattern\":{\"fillmode\":\"overlay\",\"size\":10,\"solidity\":0.2},\"type\":\"scatter\"}],\"parcoords\":[{\"type\":\"parcoords\",\"line\":{\"colorbar\":{\"outlinewidth\":0,\"ticks\":\"\"}}}],\"scatterpolargl\":[{\"type\":\"scatterpolargl\",\"marker\":{\"colorbar\":{\"outlinewidth\":0,\"ticks\":\"\"}}}],\"bar\":[{\"error_x\":{\"color\":\"#2a3f5f\"},\"error_y\":{\"color\":\"#2a3f5f\"},\"marker\":{\"line\":{\"color\":\"#E5ECF6\",\"width\":0.5},\"pattern\":{\"fillmode\":\"overlay\",\"size\":10,\"solidity\":0.2}},\"type\":\"bar\"}],\"scattergeo\":[{\"type\":\"scattergeo\",\"marker\":{\"colorbar\":{\"outlinewidth\":0,\"ticks\":\"\"}}}],\"scatterpolar\":[{\"type\":\"scatterpolar\",\"marker\":{\"colorbar\":{\"outlinewidth\":0,\"ticks\":\"\"}}}],\"histogram\":[{\"marker\":{\"pattern\":{\"fillmode\":\"overlay\",\"size\":10,\"solidity\":0.2}},\"type\":\"histogram\"}],\"scattergl\":[{\"type\":\"scattergl\",\"marker\":{\"colorbar\":{\"outlinewidth\":0,\"ticks\":\"\"}}}],\"scatter3d\":[{\"type\":\"scatter3d\",\"line\":{\"colorbar\":{\"outlinewidth\":0,\"ticks\":\"\"}},\"marker\":{\"colorbar\":{\"outlinewidth\":0,\"ticks\":\"\"}}}],\"scattermapbox\":[{\"type\":\"scattermapbox\",\"marker\":{\"colorbar\":{\"outlinewidth\":0,\"ticks\":\"\"}}}],\"scatterternary\":[{\"type\":\"scatterternary\",\"marker\":{\"colorbar\":{\"outlinewidth\":0,\"ticks\":\"\"}}}],\"scattercarpet\":[{\"type\":\"scattercarpet\",\"marker\":{\"colorbar\":{\"outlinewidth\":0,\"ticks\":\"\"}}}],\"carpet\":[{\"aaxis\":{\"endlinecolor\":\"#2a3f5f\",\"gridcolor\":\"white\",\"linecolor\":\"white\",\"minorgridcolor\":\"white\",\"startlinecolor\":\"#2a3f5f\"},\"baxis\":{\"endlinecolor\":\"#2a3f5f\",\"gridcolor\":\"white\",\"linecolor\":\"white\",\"minorgridcolor\":\"white\",\"startlinecolor\":\"#2a3f5f\"},\"type\":\"carpet\"}],\"table\":[{\"cells\":{\"fill\":{\"color\":\"#EBF0F8\"},\"line\":{\"color\":\"white\"}},\"header\":{\"fill\":{\"color\":\"#C8D4E3\"},\"line\":{\"color\":\"white\"}},\"type\":\"table\"}],\"barpolar\":[{\"marker\":{\"line\":{\"color\":\"#E5ECF6\",\"width\":0.5},\"pattern\":{\"fillmode\":\"overlay\",\"size\":10,\"solidity\":0.2}},\"type\":\"barpolar\"}],\"pie\":[{\"automargin\":true,\"type\":\"pie\"}]},\"layout\":{\"autotypenumbers\":\"strict\",\"colorway\":[\"#636efa\",\"#EF553B\",\"#00cc96\",\"#ab63fa\",\"#FFA15A\",\"#19d3f3\",\"#FF6692\",\"#B6E880\",\"#FF97FF\",\"#FECB52\"],\"font\":{\"color\":\"#2a3f5f\"},\"hovermode\":\"closest\",\"hoverlabel\":{\"align\":\"left\"},\"paper_bgcolor\":\"white\",\"plot_bgcolor\":\"#E5ECF6\",\"polar\":{\"bgcolor\":\"#E5ECF6\",\"angularaxis\":{\"gridcolor\":\"white\",\"linecolor\":\"white\",\"ticks\":\"\"},\"radialaxis\":{\"gridcolor\":\"white\",\"linecolor\":\"white\",\"ticks\":\"\"}},\"ternary\":{\"bgcolor\":\"#E5ECF6\",\"aaxis\":{\"gridcolor\":\"white\",\"linecolor\":\"white\",\"ticks\":\"\"},\"baxis\":{\"gridcolor\":\"white\",\"linecolor\":\"white\",\"ticks\":\"\"},\"caxis\":{\"gridcolor\":\"white\",\"linecolor\":\"white\",\"ticks\":\"\"}},\"coloraxis\":{\"colorbar\":{\"outlinewidth\":0,\"ticks\":\"\"}},\"colorscale\":{\"sequential\":[[0.0,\"#0d0887\"],[0.1111111111111111,\"#46039f\"],[0.2222222222222222,\"#7201a8\"],[0.3333333333333333,\"#9c179e\"],[0.4444444444444444,\"#bd3786\"],[0.5555555555555556,\"#d8576b\"],[0.6666666666666666,\"#ed7953\"],[0.7777777777777778,\"#fb9f3a\"],[0.8888888888888888,\"#fdca26\"],[1.0,\"#f0f921\"]],\"sequentialminus\":[[0.0,\"#0d0887\"],[0.1111111111111111,\"#46039f\"],[0.2222222222222222,\"#7201a8\"],[0.3333333333333333,\"#9c179e\"],[0.4444444444444444,\"#bd3786\"],[0.5555555555555556,\"#d8576b\"],[0.6666666666666666,\"#ed7953\"],[0.7777777777777778,\"#fb9f3a\"],[0.8888888888888888,\"#fdca26\"],[1.0,\"#f0f921\"]],\"diverging\":[[0,\"#8e0152\"],[0.1,\"#c51b7d\"],[0.2,\"#de77ae\"],[0.3,\"#f1b6da\"],[0.4,\"#fde0ef\"],[0.5,\"#f7f7f7\"],[0.6,\"#e6f5d0\"],[0.7,\"#b8e186\"],[0.8,\"#7fbc41\"],[0.9,\"#4d9221\"],[1,\"#276419\"]]},\"xaxis\":{\"gridcolor\":\"white\",\"linecolor\":\"white\",\"ticks\":\"\",\"title\":{\"standoff\":15},\"zerolinecolor\":\"white\",\"automargin\":true,\"zerolinewidth\":2},\"yaxis\":{\"gridcolor\":\"white\",\"linecolor\":\"white\",\"ticks\":\"\",\"title\":{\"standoff\":15},\"zerolinecolor\":\"white\",\"automargin\":true,\"zerolinewidth\":2},\"scene\":{\"xaxis\":{\"backgroundcolor\":\"#E5ECF6\",\"gridcolor\":\"white\",\"linecolor\":\"white\",\"showbackground\":true,\"ticks\":\"\",\"zerolinecolor\":\"white\",\"gridwidth\":2},\"yaxis\":{\"backgroundcolor\":\"#E5ECF6\",\"gridcolor\":\"white\",\"linecolor\":\"white\",\"showbackground\":true,\"ticks\":\"\",\"zerolinecolor\":\"white\",\"gridwidth\":2},\"zaxis\":{\"backgroundcolor\":\"#E5ECF6\",\"gridcolor\":\"white\",\"linecolor\":\"white\",\"showbackground\":true,\"ticks\":\"\",\"zerolinecolor\":\"white\",\"gridwidth\":2}},\"shapedefaults\":{\"line\":{\"color\":\"#2a3f5f\"}},\"annotationdefaults\":{\"arrowcolor\":\"#2a3f5f\",\"arrowhead\":0,\"arrowwidth\":1},\"geo\":{\"bgcolor\":\"white\",\"landcolor\":\"#E5ECF6\",\"subunitcolor\":\"white\",\"showland\":true,\"showlakes\":true,\"lakecolor\":\"white\"},\"title\":{\"x\":0.05},\"mapbox\":{\"style\":\"light\"}}},\"legend\":{\"tracegroupgap\":0},\"margin\":{\"t\":60}},                        {\"responsive\": true}                    ).then(function(){\n",
       "                            \n",
       "var gd = document.getElementById('fd3c5e86-72fc-4a0f-8235-37d50b2e4163');\n",
       "var x = new MutationObserver(function (mutations, observer) {{\n",
       "        var display = window.getComputedStyle(gd).display;\n",
       "        if (!display || display === 'none') {{\n",
       "            console.log([gd, 'removed!']);\n",
       "            Plotly.purge(gd);\n",
       "            observer.disconnect();\n",
       "        }}\n",
       "}});\n",
       "\n",
       "// Listen for the removal of the full notebook cells\n",
       "var notebookContainer = gd.closest('#notebook-container');\n",
       "if (notebookContainer) {{\n",
       "    x.observe(notebookContainer, {childList: true});\n",
       "}}\n",
       "\n",
       "// Listen for the clearing of the current output cell\n",
       "var outputEl = gd.closest('.output');\n",
       "if (outputEl) {{\n",
       "    x.observe(outputEl, {childList: true});\n",
       "}}\n",
       "\n",
       "                        })                };                });            </script>        </div>"
      ]
     },
     "metadata": {},
     "output_type": "display_data"
    }
   ],
   "source": [
    "px.pie(value, values= \"Count\", names = \"Phase\")"
   ]
  },
  {
   "cell_type": "code",
   "execution_count": 46,
   "id": "ce9cff1c",
   "metadata": {},
   "outputs": [
    {
     "data": {
      "image/png": "[encoded data removed]",
      "text/plain": [
       "<Figure size 640x480 with 1 Axes>"
      ]
     },
     "metadata": {},
     "output_type": "display_data"
    }
   ],
   "source": [
    "import seaborn as sns\n",
    "import matplotlib.pyplot as plt\n",
    "plt.pie(value[\"Count\"],labels = value[\"Phase\"])\n",
    "plt.show()"
   ]
  },
  {
   "cell_type": "code",
   "execution_count": 49,
   "id": "61b9a321",
   "metadata": {},
   "outputs": [
    {
     "data": {
      "text/plain": [
       "<Axes: ylabel='Phase'>"
      ]
     },
     "execution_count": 49,
     "metadata": {},
     "output_type": "execute_result"
    },
    {
     "data": {
      "image/png": "[encoded data removed]",
      "text/plain": [
       "<Figure size 640x480 with 1 Axes>"
      ]
     },
     "metadata": {},
     "output_type": "display_data"
    }
   ],
   "source": [
    "sns.lineplot(df[\"Phase\"])"
   ]
  },
  {
   "cell_type": "code",
   "execution_count": 52,
   "id": "32b1adfa",
   "metadata": {},
   "outputs": [
    {
     "data": {
      "text/plain": [
       "<Axes: ylabel='Count'>"
      ]
     },
     "execution_count": 52,
     "metadata": {},
     "output_type": "execute_result"
    },
    {
     "data": {
      "image/png": "[encoded data removed]",
      "text/plain": [
       "<Figure size 640x480 with 1 Axes>"
      ]
     },
     "metadata": {},
     "output_type": "display_data"
    }
   ],
   "source": [
    "sns.scatterplot(value[\"Count\"])"
   ]
  },
  {
   "cell_type": "code",
   "execution_count": 68,
   "id": "54fd653d",
   "metadata": {},
   "outputs": [
    {
     "data": {
      "text/plain": [
       "<Axes: >"
      ]
     },
     "execution_count": 68,
     "metadata": {},
     "output_type": "execute_result"
    },
    {
     "data": {
      "image/png": "[encoded data removed]",
      "text/plain": [
       "<Figure size 640x480 with 1 Axes>"
      ]
     },
     "metadata": {},
     "output_type": "display_data"
    }
   ],
   "source": [
    "df[\"Phase\"] = df[\"Phase\"].apply(lambda x : str(x))\n",
    "df[\"Phase\"] = df[\"Phase\"].apply(lambda x : x.replace(\"One\",\"1\"))\n",
    "df[\"Phase\"] = df[\"Phase\"].apply(lambda x : x.replace(\"Two\",\"2\"))\n",
    "df[\"Phase\"] = df[\"Phase\"].apply(lambda x : x.replace(\"Three\",\"3\"))\n",
    "df[\"Phase\"] = df[\"Phase\"].apply(lambda x : x.replace(\"Four\",\"4\"))\n",
    "df[\"Phase\"] = df[\"Phase\"].apply(lambda x : x.replace(\"Five\",\"5\"))\n",
    "df[\"Phase\"] = df[\"Phase\"].apply(lambda x : float(x))\n",
    "sns.boxplot((df[\"Phase\"],value[\"Count\"]))"
   ]
  },
  {
   "cell_type": "code",
   "execution_count": 70,
   "id": "373f6fbd",
   "metadata": {},
   "outputs": [
    {
     "data": {
      "text/html": [
       "<div>\n",
       "<style scoped>\n",
       "    .dataframe tbody tr th:only-of-type {\n",
       "        vertical-align: middle;\n",
       "    }\n",
       "\n",
       "    .dataframe tbody tr th {\n",
       "        vertical-align: top;\n",
       "    }\n",
       "\n",
       "    .dataframe thead th {\n",
       "        text-align: right;\n",
       "    }\n",
       "</style>\n",
       "<table border=\"1\" class=\"dataframe\">\n",
       "  <thead>\n",
       "    <tr style=\"text-align: right;\">\n",
       "      <th></th>\n",
       "      <th>Movie</th>\n",
       "      <th>Release Date</th>\n",
       "      <th>Release Month</th>\n",
       "      <th>Release Day</th>\n",
       "      <th>Release Year</th>\n",
       "      <th>Ownership</th>\n",
       "      <th>Domestic Box Office</th>\n",
       "      <th>Inflation Adjusted Domestic</th>\n",
       "      <th>International Box Office</th>\n",
       "      <th>Inflation Adjusted International</th>\n",
       "      <th>...</th>\n",
       "      <th>Inflation Adjusted Opening Weekend</th>\n",
       "      <th>Budget</th>\n",
       "      <th>Inflation Adjusted Budget</th>\n",
       "      <th>IMDb Score</th>\n",
       "      <th>Meta Score</th>\n",
       "      <th>Tomatometer</th>\n",
       "      <th>Rotten Tomato Audience Score</th>\n",
       "      <th>Run Time In Minutes</th>\n",
       "      <th>Phase</th>\n",
       "      <th>Director</th>\n",
       "    </tr>\n",
       "  </thead>\n",
       "  <tbody>\n",
       "    <tr>\n",
       "      <th>0</th>\n",
       "      <td>Iron Man</td>\n",
       "      <td>5/2/2008</td>\n",
       "      <td>May</td>\n",
       "      <td>2</td>\n",
       "      <td>2008</td>\n",
       "      <td>Marvel Studios</td>\n",
       "      <td>318604126</td>\n",
       "      <td>467231126</td>\n",
       "      <td>266567421</td>\n",
       "      <td>390919596</td>\n",
       "      <td>...</td>\n",
       "      <td>149756442</td>\n",
       "      <td>186000000</td>\n",
       "      <td>272767935</td>\n",
       "      <td>7.9</td>\n",
       "      <td>79</td>\n",
       "      <td>94</td>\n",
       "      <td>91</td>\n",
       "      <td>126</td>\n",
       "      <td>1.0</td>\n",
       "      <td>Jon Favreau</td>\n",
       "    </tr>\n",
       "    <tr>\n",
       "      <th>1</th>\n",
       "      <td>The Incredible Hulk</td>\n",
       "      <td>6/13/2008</td>\n",
       "      <td>June</td>\n",
       "      <td>13</td>\n",
       "      <td>2008</td>\n",
       "      <td>Marvel Studios</td>\n",
       "      <td>134806913</td>\n",
       "      <td>197704288</td>\n",
       "      <td>130766946</td>\n",
       "      <td>191779378</td>\n",
       "      <td>...</td>\n",
       "      <td>81268794</td>\n",
       "      <td>137500000</td>\n",
       "      <td>201653899</td>\n",
       "      <td>6.6</td>\n",
       "      <td>61</td>\n",
       "      <td>67</td>\n",
       "      <td>69</td>\n",
       "      <td>112</td>\n",
       "      <td>1.0</td>\n",
       "      <td>Louis Leterrier</td>\n",
       "    </tr>\n",
       "    <tr>\n",
       "      <th>2</th>\n",
       "      <td>Iron Man 2</td>\n",
       "      <td>5/7/2010</td>\n",
       "      <td>May</td>\n",
       "      <td>7</td>\n",
       "      <td>2010</td>\n",
       "      <td>Marvel Studios</td>\n",
       "      <td>312433331</td>\n",
       "      <td>416973763</td>\n",
       "      <td>308723058</td>\n",
       "      <td>412022030</td>\n",
       "      <td>...</td>\n",
       "      <td>170992360</td>\n",
       "      <td>170000000</td>\n",
       "      <td>226882130</td>\n",
       "      <td>6.9</td>\n",
       "      <td>57</td>\n",
       "      <td>72</td>\n",
       "      <td>71</td>\n",
       "      <td>124</td>\n",
       "      <td>1.0</td>\n",
       "      <td>Jon Favreau</td>\n",
       "    </tr>\n",
       "    <tr>\n",
       "      <th>3</th>\n",
       "      <td>Thor</td>\n",
       "      <td>5/6/2011</td>\n",
       "      <td>May</td>\n",
       "      <td>6</td>\n",
       "      <td>2011</td>\n",
       "      <td>Marvel Studios</td>\n",
       "      <td>181030624</td>\n",
       "      <td>240384926</td>\n",
       "      <td>268295994</td>\n",
       "      <td>356261892</td>\n",
       "      <td>...</td>\n",
       "      <td>87271973</td>\n",
       "      <td>150000000</td>\n",
       "      <td>199180327</td>\n",
       "      <td>7.0</td>\n",
       "      <td>57</td>\n",
       "      <td>77</td>\n",
       "      <td>76</td>\n",
       "      <td>115</td>\n",
       "      <td>1.0</td>\n",
       "      <td>Kenneth Brangh</td>\n",
       "    </tr>\n",
       "    <tr>\n",
       "      <th>4</th>\n",
       "      <td>Captain America: The First Avenger</td>\n",
       "      <td>7/22/2011</td>\n",
       "      <td>July</td>\n",
       "      <td>22</td>\n",
       "      <td>2011</td>\n",
       "      <td>Marvel Studios</td>\n",
       "      <td>176654505</td>\n",
       "      <td>234574020</td>\n",
       "      <td>193915271</td>\n",
       "      <td>257494054</td>\n",
       "      <td>...</td>\n",
       "      <td>86389190</td>\n",
       "      <td>140000000</td>\n",
       "      <td>185901643</td>\n",
       "      <td>6.9</td>\n",
       "      <td>66</td>\n",
       "      <td>80</td>\n",
       "      <td>75</td>\n",
       "      <td>124</td>\n",
       "      <td>1.0</td>\n",
       "      <td>Joe Johnston</td>\n",
       "    </tr>\n",
       "  </tbody>\n",
       "</table>\n",
       "<p>5 rows × 23 columns</p>\n",
       "</div>"
      ],
      "text/plain": [
       "                                Movie Release Date Release Month  Release Day  \\\n",
       "0                            Iron Man     5/2/2008           May            2   \n",
       "1                 The Incredible Hulk    6/13/2008          June           13   \n",
       "2                          Iron Man 2     5/7/2010           May            7   \n",
       "3                                Thor     5/6/2011           May            6   \n",
       "4  Captain America: The First Avenger    7/22/2011          July           22   \n",
       "\n",
       "   Release Year       Ownership  Domestic Box Office  \\\n",
       "0          2008  Marvel Studios            318604126   \n",
       "1          2008  Marvel Studios            134806913   \n",
       "2          2010  Marvel Studios            312433331   \n",
       "3          2011  Marvel Studios            181030624   \n",
       "4          2011  Marvel Studios            176654505   \n",
       "\n",
       "   Inflation Adjusted Domestic  International Box Office  \\\n",
       "0                    467231126                 266567421   \n",
       "1                    197704288                 130766946   \n",
       "2                    416973763                 308723058   \n",
       "3                    240384926                 268295994   \n",
       "4                    234574020                 193915271   \n",
       "\n",
       "   Inflation Adjusted International  ...  Inflation Adjusted Opening Weekend  \\\n",
       "0                         390919596  ...                           149756442   \n",
       "1                         191779378  ...                            81268794   \n",
       "2                         412022030  ...                           170992360   \n",
       "3                         356261892  ...                            87271973   \n",
       "4                         257494054  ...                            86389190   \n",
       "\n",
       "      Budget  Inflation Adjusted Budget  IMDb Score  Meta Score  Tomatometer  \\\n",
       "0  186000000                  272767935         7.9          79           94   \n",
       "1  137500000                  201653899         6.6          61           67   \n",
       "2  170000000                  226882130         6.9          57           72   \n",
       "3  150000000                  199180327         7.0          57           77   \n",
       "4  140000000                  185901643         6.9          66           80   \n",
       "\n",
       "   Rotten Tomato Audience Score  Run Time In Minutes  Phase         Director  \n",
       "0                            91                  126    1.0      Jon Favreau  \n",
       "1                            69                  112    1.0  Louis Leterrier  \n",
       "2                            71                  124    1.0      Jon Favreau  \n",
       "3                            76                  115    1.0   Kenneth Brangh  \n",
       "4                            75                  124    1.0     Joe Johnston  \n",
       "\n",
       "[5 rows x 23 columns]"
      ]
     },
     "execution_count": 70,
     "metadata": {},
     "output_type": "execute_result"
    }
   ],
   "source": [
    "df.head(5)"
   ]
  },
  {
   "cell_type": "code",
   "execution_count": 71,
   "id": "59e1f46e",
   "metadata": {},
   "outputs": [
    {
     "data": {
      "text/plain": [
       "156700000.0"
      ]
     },
     "execution_count": 71,
     "metadata": {},
     "output_type": "execute_result"
    }
   ],
   "source": [
    "df[\"Budget\"].head(5).mean()"
   ]
  },
  {
   "cell_type": "code",
   "execution_count": 86,
   "id": "37cc3697",
   "metadata": {},
   "outputs": [
    {
     "name": "stdout",
     "output_type": "stream",
     "text": [
      "186000000\n"
     ]
    }
   ],
   "source": [
    "b = df[\"Budget\"].head(5).max()\n",
    "print(b)"
   ]
  },
  {
   "cell_type": "code",
   "execution_count": 74,
   "id": "50120034",
   "metadata": {},
   "outputs": [
    {
     "data": {
      "text/plain": [
       "150000000.0"
      ]
     },
     "execution_count": 74,
     "metadata": {},
     "output_type": "execute_result"
    }
   ],
   "source": [
    "df[\"Budget\"].head(5).median()"
   ]
  },
  {
   "cell_type": "code",
   "execution_count": 78,
   "id": "7d19a6f1",
   "metadata": {},
   "outputs": [
    {
     "data": {
      "text/plain": [
       "0    2008\n",
       "1    2011\n",
       "Name: Release Year, dtype: int64"
      ]
     },
     "execution_count": 78,
     "metadata": {},
     "output_type": "execute_result"
    }
   ],
   "source": [
    "df[\"Release Year\"].head(5).mode()"
   ]
  },
  {
   "cell_type": "code",
   "execution_count": 85,
   "id": "498351fb",
   "metadata": {},
   "outputs": [
    {
     "name": "stdout",
     "output_type": "stream",
     "text": [
      "137500000\n"
     ]
    }
   ],
   "source": [
    "a = df[\"Budget\"].head(5).min()\n",
    "print(a)"
   ]
  },
  {
   "cell_type": "code",
   "execution_count": 89,
   "id": "f9c82c91",
   "metadata": {},
   "outputs": [
    {
     "name": "stdout",
     "output_type": "stream",
     "text": [
      "48500000\n"
     ]
    }
   ],
   "source": [
    "range = b-a\n",
    "print(range)"
   ]
  },
  {
   "cell_type": "code",
   "execution_count": 91,
   "id": "626cc280",
   "metadata": {},
   "outputs": [
    {
     "data": {
      "text/plain": [
       "<Axes: >"
      ]
     },
     "execution_count": 91,
     "metadata": {},
     "output_type": "execute_result"
    },
    {
     "data": {
      "image/png": "[encoded data removed]",
      "text/plain": [
       "<Figure size 640x480 with 1 Axes>"
      ]
     },
     "metadata": {},
     "output_type": "display_data"
    }
   ],
   "source": [
    "sns.boxplot(df[\"International Box Office\"])"
   ]
  },
  {
   "cell_type": "code",
   "execution_count": 99,
   "id": "b881697b",
   "metadata": {},
   "outputs": [
    {
     "name": "stdout",
     "output_type": "stream",
     "text": [
      "345367926.5\n"
     ]
    }
   ],
   "source": [
    "from scipy.stats import iqr\n",
    "iqr_value = iqr(df[\"International Box Office\"])\n",
    "print(iqr_value)"
   ]
  },
  {
   "cell_type": "code",
   "execution_count": 109,
   "id": "94a14711",
   "metadata": {},
   "outputs": [
    {
     "name": "stdout",
     "output_type": "stream",
     "text": [
      "498430303.75 153062377.25\n"
     ]
    },
    {
     "data": {
      "image/png": "[encoded data removed]",
      "text/plain": [
       "<Figure size 640x480 with 1 Axes>"
      ]
     },
     "metadata": {},
     "output_type": "display_data"
    }
   ],
   "source": [
    "p25 = df[\"International Box Office\"].quantile(0.25)\n",
    "p75 = df[\"International Box Office\"].quantile(0.75)\n",
    "\n",
    "upper = p75 + (1.5*iqr_value)\n",
    "lower = p25 - (1.5*iqr_value)\n",
    "\n",
    "c = df[df[\"International Box Office\"] < upper]\n",
    "d = df[df[\"International Box Office\"] > lower]\n",
    "\n",
    "sns.boxplot(c)\n",
    "print(p75,p25)"
   ]
  },
  {
   "cell_type": "code",
   "execution_count": 111,
   "id": "7cb6a6a6",
   "metadata": {},
   "outputs": [],
   "source": [
    "import matplotlib.pyplot as plt\n",
    "def remove_outlier(df,column,threshold):\n",
    "    sns.boxplot(df[column])\n",
    "    plt.title(f'Original box plot{column}')\n",
    "    \n",
    "    removed_outlier = df[df[column] > threshold]\n",
    "    \n",
    "    sns.boxplot(removed_outlier)\n",
    "    plt.title(f'Without outlier of {column}')\n",
    "    \n",
    "    plt.show()\n",
    "    return removed_outlier"
   ]
  },
  {
   "cell_type": "code",
   "execution_count": 112,
   "id": "5f656246",
   "metadata": {},
   "outputs": [
    {
     "data": {
      "image/png": "[encoded data removed]",
      "text/plain": [
       "<Figure size 640x480 with 1 Axes>"
      ]
     },
     "metadata": {},
     "output_type": "display_data"
    },
    {
     "data": {
      "text/html": [
       "<div>\n",
       "<style scoped>\n",
       "    .dataframe tbody tr th:only-of-type {\n",
       "        vertical-align: middle;\n",
       "    }\n",
       "\n",
       "    .dataframe tbody tr th {\n",
       "        vertical-align: top;\n",
       "    }\n",
       "\n",
       "    .dataframe thead th {\n",
       "        text-align: right;\n",
       "    }\n",
       "</style>\n",
       "<table border=\"1\" class=\"dataframe\">\n",
       "  <thead>\n",
       "    <tr style=\"text-align: right;\">\n",
       "      <th></th>\n",
       "      <th>Movie</th>\n",
       "      <th>Release Date</th>\n",
       "      <th>Release Month</th>\n",
       "      <th>Release Day</th>\n",
       "      <th>Release Year</th>\n",
       "      <th>Ownership</th>\n",
       "      <th>Domestic Box Office</th>\n",
       "      <th>Inflation Adjusted Domestic</th>\n",
       "      <th>International Box Office</th>\n",
       "      <th>Inflation Adjusted International</th>\n",
       "      <th>...</th>\n",
       "      <th>Inflation Adjusted Opening Weekend</th>\n",
       "      <th>Budget</th>\n",
       "      <th>Inflation Adjusted Budget</th>\n",
       "      <th>IMDb Score</th>\n",
       "      <th>Meta Score</th>\n",
       "      <th>Tomatometer</th>\n",
       "      <th>Rotten Tomato Audience Score</th>\n",
       "      <th>Run Time In Minutes</th>\n",
       "      <th>Phase</th>\n",
       "      <th>Director</th>\n",
       "    </tr>\n",
       "  </thead>\n",
       "  <tbody>\n",
       "    <tr>\n",
       "      <th>5</th>\n",
       "      <td>The Avengers</td>\n",
       "      <td>5/4/2012</td>\n",
       "      <td>May</td>\n",
       "      <td>4</td>\n",
       "      <td>2012</td>\n",
       "      <td>Marvel Studios</td>\n",
       "      <td>623357910</td>\n",
       "      <td>824617936</td>\n",
       "      <td>891742301</td>\n",
       "      <td>1179654070</td>\n",
       "      <td>...</td>\n",
       "      <td>274413265</td>\n",
       "      <td>225000000</td>\n",
       "      <td>297644471</td>\n",
       "      <td>8.0</td>\n",
       "      <td>69</td>\n",
       "      <td>91</td>\n",
       "      <td>91</td>\n",
       "      <td>143</td>\n",
       "      <td>1.0</td>\n",
       "      <td>Joss Whedon</td>\n",
       "    </tr>\n",
       "    <tr>\n",
       "      <th>6</th>\n",
       "      <td>Iron Man 3</td>\n",
       "      <td>5/3/2013</td>\n",
       "      <td>May</td>\n",
       "      <td>3</td>\n",
       "      <td>2013</td>\n",
       "      <td>Marvel Studios</td>\n",
       "      <td>408992272</td>\n",
       "      <td>529727993</td>\n",
       "      <td>806400000</td>\n",
       "      <td>1044451651</td>\n",
       "      <td>...</td>\n",
       "      <td>225552578</td>\n",
       "      <td>200000000</td>\n",
       "      <td>259040588</td>\n",
       "      <td>7.1</td>\n",
       "      <td>62</td>\n",
       "      <td>79</td>\n",
       "      <td>78</td>\n",
       "      <td>130</td>\n",
       "      <td>2.0</td>\n",
       "      <td>Shane Black</td>\n",
       "    </tr>\n",
       "    <tr>\n",
       "      <th>10</th>\n",
       "      <td>Avengers: Age of Ultron</td>\n",
       "      <td>5/1/2015</td>\n",
       "      <td>May</td>\n",
       "      <td>1</td>\n",
       "      <td>2015</td>\n",
       "      <td>Marvel Studios</td>\n",
       "      <td>459005868</td>\n",
       "      <td>573348960</td>\n",
       "      <td>936311111</td>\n",
       "      <td>1169555858</td>\n",
       "      <td>...</td>\n",
       "      <td>238918713</td>\n",
       "      <td>365000000</td>\n",
       "      <td>455925262</td>\n",
       "      <td>7.3</td>\n",
       "      <td>66</td>\n",
       "      <td>76</td>\n",
       "      <td>82</td>\n",
       "      <td>141</td>\n",
       "      <td>2.0</td>\n",
       "      <td>Joss Whedon</td>\n",
       "    </tr>\n",
       "    <tr>\n",
       "      <th>12</th>\n",
       "      <td>Captain America: Civil War</td>\n",
       "      <td>5/6/2016</td>\n",
       "      <td>May</td>\n",
       "      <td>6</td>\n",
       "      <td>2016</td>\n",
       "      <td>Marvel Studios</td>\n",
       "      <td>408084349</td>\n",
       "      <td>496777822</td>\n",
       "      <td>743815237</td>\n",
       "      <td>905476807</td>\n",
       "      <td>...</td>\n",
       "      <td>218073428</td>\n",
       "      <td>250000000</td>\n",
       "      <td>304335258</td>\n",
       "      <td>7.8</td>\n",
       "      <td>75</td>\n",
       "      <td>90</td>\n",
       "      <td>89</td>\n",
       "      <td>147</td>\n",
       "      <td>3.0</td>\n",
       "      <td>Anthony and Joe Russo</td>\n",
       "    </tr>\n",
       "    <tr>\n",
       "      <th>15</th>\n",
       "      <td>Spider-Man: Homecoming</td>\n",
       "      <td>7/7/2017</td>\n",
       "      <td>July</td>\n",
       "      <td>7</td>\n",
       "      <td>2017</td>\n",
       "      <td>Marvel Studios</td>\n",
       "      <td>334201140</td>\n",
       "      <td>392323076</td>\n",
       "      <td>544070151</td>\n",
       "      <td>638691045</td>\n",
       "      <td>...</td>\n",
       "      <td>137380112</td>\n",
       "      <td>175000000</td>\n",
       "      <td>205434782</td>\n",
       "      <td>7.4</td>\n",
       "      <td>73</td>\n",
       "      <td>92</td>\n",
       "      <td>87</td>\n",
       "      <td>133</td>\n",
       "      <td>3.0</td>\n",
       "      <td>Jon Watts</td>\n",
       "    </tr>\n",
       "    <tr>\n",
       "      <th>16</th>\n",
       "      <td>Thor: Ragnarok</td>\n",
       "      <td>11/3/2017</td>\n",
       "      <td>November</td>\n",
       "      <td>3</td>\n",
       "      <td>2017</td>\n",
       "      <td>Marvel Studios</td>\n",
       "      <td>315058289</td>\n",
       "      <td>369781873</td>\n",
       "      <td>535424489</td>\n",
       "      <td>628424255</td>\n",
       "      <td>...</td>\n",
       "      <td>144064999</td>\n",
       "      <td>180000000</td>\n",
       "      <td>211264834</td>\n",
       "      <td>7.9</td>\n",
       "      <td>74</td>\n",
       "      <td>93</td>\n",
       "      <td>87</td>\n",
       "      <td>130</td>\n",
       "      <td>3.0</td>\n",
       "      <td>Taika Waititi</td>\n",
       "    </tr>\n",
       "    <tr>\n",
       "      <th>17</th>\n",
       "      <td>Black Panther</td>\n",
       "      <td>2/16/2018</td>\n",
       "      <td>February</td>\n",
       "      <td>16</td>\n",
       "      <td>2018</td>\n",
       "      <td>Marvel Studios</td>\n",
       "      <td>700059566</td>\n",
       "      <td>809179714</td>\n",
       "      <td>636434754</td>\n",
       "      <td>735637533</td>\n",
       "      <td>...</td>\n",
       "      <td>233490845</td>\n",
       "      <td>200000000</td>\n",
       "      <td>231174532</td>\n",
       "      <td>7.3</td>\n",
       "      <td>88</td>\n",
       "      <td>96</td>\n",
       "      <td>79</td>\n",
       "      <td>134</td>\n",
       "      <td>3.0</td>\n",
       "      <td>Ryan Coogler</td>\n",
       "    </tr>\n",
       "    <tr>\n",
       "      <th>18</th>\n",
       "      <td>Avengers Infinity War</td>\n",
       "      <td>4/27/2018</td>\n",
       "      <td>April</td>\n",
       "      <td>27</td>\n",
       "      <td>2018</td>\n",
       "      <td>Marvel Studios</td>\n",
       "      <td>678815482</td>\n",
       "      <td>784624259</td>\n",
       "      <td>1369544272</td>\n",
       "      <td>1583018785</td>\n",
       "      <td>...</td>\n",
       "      <td>297866285</td>\n",
       "      <td>300000000</td>\n",
       "      <td>346761799</td>\n",
       "      <td>8.4</td>\n",
       "      <td>68</td>\n",
       "      <td>85</td>\n",
       "      <td>92</td>\n",
       "      <td>149</td>\n",
       "      <td>3.0</td>\n",
       "      <td>Anthony and Joe Russo</td>\n",
       "    </tr>\n",
       "    <tr>\n",
       "      <th>20</th>\n",
       "      <td>Captain Marvel</td>\n",
       "      <td>3/8/2019</td>\n",
       "      <td>March</td>\n",
       "      <td>8</td>\n",
       "      <td>2019</td>\n",
       "      <td>Marvel Studios</td>\n",
       "      <td>426829839</td>\n",
       "      <td>490667926</td>\n",
       "      <td>702746255</td>\n",
       "      <td>807851317</td>\n",
       "      <td>...</td>\n",
       "      <td>176381435</td>\n",
       "      <td>175000000</td>\n",
       "      <td>201173581</td>\n",
       "      <td>6.8</td>\n",
       "      <td>64</td>\n",
       "      <td>79</td>\n",
       "      <td>45</td>\n",
       "      <td>123</td>\n",
       "      <td>3.0</td>\n",
       "      <td>Anna Boden &amp; Ryan Fleck</td>\n",
       "    </tr>\n",
       "    <tr>\n",
       "      <th>21</th>\n",
       "      <td>Avengers: Endgame</td>\n",
       "      <td>4/26/2019</td>\n",
       "      <td>April</td>\n",
       "      <td>26</td>\n",
       "      <td>2019</td>\n",
       "      <td>Marvel Studios</td>\n",
       "      <td>858373000</td>\n",
       "      <td>986754117</td>\n",
       "      <td>1930539285</td>\n",
       "      <td>2219277153</td>\n",
       "      <td>...</td>\n",
       "      <td>410526314</td>\n",
       "      <td>400000000</td>\n",
       "      <td>459825329</td>\n",
       "      <td>8.4</td>\n",
       "      <td>78</td>\n",
       "      <td>94</td>\n",
       "      <td>90</td>\n",
       "      <td>181</td>\n",
       "      <td>3.0</td>\n",
       "      <td>Anthony and Joe Russo</td>\n",
       "    </tr>\n",
       "    <tr>\n",
       "      <th>22</th>\n",
       "      <td>Spider-Man: Far From Home</td>\n",
       "      <td>7/2/2019</td>\n",
       "      <td>July</td>\n",
       "      <td>2</td>\n",
       "      <td>2019</td>\n",
       "      <td>Marvel Studios</td>\n",
       "      <td>390532085</td>\n",
       "      <td>448941359</td>\n",
       "      <td>741575437</td>\n",
       "      <td>852487919</td>\n",
       "      <td>...</td>\n",
       "      <td>106425666</td>\n",
       "      <td>160000000</td>\n",
       "      <td>183930131</td>\n",
       "      <td>7.4</td>\n",
       "      <td>69</td>\n",
       "      <td>90</td>\n",
       "      <td>95</td>\n",
       "      <td>129</td>\n",
       "      <td>3.0</td>\n",
       "      <td>Jon Watts</td>\n",
       "    </tr>\n",
       "    <tr>\n",
       "      <th>26</th>\n",
       "      <td>Spider-Man: No Way Home</td>\n",
       "      <td>12/17/2021</td>\n",
       "      <td>December</td>\n",
       "      <td>17</td>\n",
       "      <td>2021</td>\n",
       "      <td>Marvel Studios</td>\n",
       "      <td>814115070</td>\n",
       "      <td>821277378</td>\n",
       "      <td>1093721184</td>\n",
       "      <td>1103343372</td>\n",
       "      <td>...</td>\n",
       "      <td>262427180</td>\n",
       "      <td>200000000</td>\n",
       "      <td>201759532</td>\n",
       "      <td>8.2</td>\n",
       "      <td>71</td>\n",
       "      <td>93</td>\n",
       "      <td>98</td>\n",
       "      <td>148</td>\n",
       "      <td>4.0</td>\n",
       "      <td>Jon Watts</td>\n",
       "    </tr>\n",
       "    <tr>\n",
       "      <th>27</th>\n",
       "      <td>Doctor Strange in the Multiverse of Madness</td>\n",
       "      <td>5/6/2022</td>\n",
       "      <td>May</td>\n",
       "      <td>6</td>\n",
       "      <td>2022</td>\n",
       "      <td>Marvel Studios</td>\n",
       "      <td>411331607</td>\n",
       "      <td>411331607</td>\n",
       "      <td>540893379</td>\n",
       "      <td>540893379</td>\n",
       "      <td>...</td>\n",
       "      <td>187420998</td>\n",
       "      <td>200000000</td>\n",
       "      <td>200000000</td>\n",
       "      <td>6.9</td>\n",
       "      <td>60</td>\n",
       "      <td>73</td>\n",
       "      <td>85</td>\n",
       "      <td>126</td>\n",
       "      <td>4.0</td>\n",
       "      <td>Sam Raimi</td>\n",
       "    </tr>\n",
       "    <tr>\n",
       "      <th>35</th>\n",
       "      <td>Spider-Man 3</td>\n",
       "      <td>5/4/2007</td>\n",
       "      <td>May</td>\n",
       "      <td>4</td>\n",
       "      <td>2007</td>\n",
       "      <td>Sony Pictures</td>\n",
       "      <td>336530303</td>\n",
       "      <td>515067453</td>\n",
       "      <td>558329927</td>\n",
       "      <td>854536934</td>\n",
       "      <td>...</td>\n",
       "      <td>231287341</td>\n",
       "      <td>258000000</td>\n",
       "      <td>394874998</td>\n",
       "      <td>6.3</td>\n",
       "      <td>59</td>\n",
       "      <td>63</td>\n",
       "      <td>51</td>\n",
       "      <td>139</td>\n",
       "      <td>NaN</td>\n",
       "      <td>Sam Raimi</td>\n",
       "    </tr>\n",
       "    <tr>\n",
       "      <th>37</th>\n",
       "      <td>The Amazing Spider-Man 2</td>\n",
       "      <td>5/2/2014</td>\n",
       "      <td>May</td>\n",
       "      <td>2</td>\n",
       "      <td>2014</td>\n",
       "      <td>Sony Pictures</td>\n",
       "      <td>202853933</td>\n",
       "      <td>261450655</td>\n",
       "      <td>506142403</td>\n",
       "      <td>652347533</td>\n",
       "      <td>...</td>\n",
       "      <td>118070472</td>\n",
       "      <td>200000000</td>\n",
       "      <td>257772330</td>\n",
       "      <td>6.6</td>\n",
       "      <td>53</td>\n",
       "      <td>51</td>\n",
       "      <td>64</td>\n",
       "      <td>142</td>\n",
       "      <td>NaN</td>\n",
       "      <td>Marc Webb</td>\n",
       "    </tr>\n",
       "    <tr>\n",
       "      <th>38</th>\n",
       "      <td>Venom</td>\n",
       "      <td>10/5/2018</td>\n",
       "      <td>October</td>\n",
       "      <td>5</td>\n",
       "      <td>2018</td>\n",
       "      <td>Sony Pictures</td>\n",
       "      <td>213511408</td>\n",
       "      <td>246791473</td>\n",
       "      <td>642569645</td>\n",
       "      <td>742727101</td>\n",
       "      <td>...</td>\n",
       "      <td>92765236</td>\n",
       "      <td>116000000</td>\n",
       "      <td>134080943</td>\n",
       "      <td>6.6</td>\n",
       "      <td>35</td>\n",
       "      <td>30</td>\n",
       "      <td>80</td>\n",
       "      <td>112</td>\n",
       "      <td>NaN</td>\n",
       "      <td>Ruben Fleischer</td>\n",
       "    </tr>\n",
       "    <tr>\n",
       "      <th>49</th>\n",
       "      <td>X-Men: Days of Future Past</td>\n",
       "      <td>5/23/2014</td>\n",
       "      <td>May</td>\n",
       "      <td>23</td>\n",
       "      <td>2014</td>\n",
       "      <td>20th Century Fox</td>\n",
       "      <td>233921534</td>\n",
       "      <td>301492496</td>\n",
       "      <td>513941241</td>\n",
       "      <td>662399160</td>\n",
       "      <td>...</td>\n",
       "      <td>117059133</td>\n",
       "      <td>200000000</td>\n",
       "      <td>257772331</td>\n",
       "      <td>7.9</td>\n",
       "      <td>75</td>\n",
       "      <td>90</td>\n",
       "      <td>91</td>\n",
       "      <td>132</td>\n",
       "      <td>NaN</td>\n",
       "      <td>Brian Singer</td>\n",
       "    </tr>\n",
       "  </tbody>\n",
       "</table>\n",
       "<p>17 rows × 23 columns</p>\n",
       "</div>"
      ],
      "text/plain": [
       "                                          Movie Release Date Release Month  \\\n",
       "5                                  The Avengers     5/4/2012           May   \n",
       "6                                    Iron Man 3     5/3/2013           May   \n",
       "10                      Avengers: Age of Ultron     5/1/2015           May   \n",
       "12                   Captain America: Civil War     5/6/2016           May   \n",
       "15                       Spider-Man: Homecoming     7/7/2017          July   \n",
       "16                               Thor: Ragnarok    11/3/2017      November   \n",
       "17                                Black Panther    2/16/2018      February   \n",
       "18                        Avengers Infinity War    4/27/2018         April   \n",
       "20                               Captain Marvel     3/8/2019         March   \n",
       "21                            Avengers: Endgame    4/26/2019         April   \n",
       "22                    Spider-Man: Far From Home     7/2/2019          July   \n",
       "26                      Spider-Man: No Way Home   12/17/2021      December   \n",
       "27  Doctor Strange in the Multiverse of Madness     5/6/2022           May   \n",
       "35                                 Spider-Man 3     5/4/2007           May   \n",
       "37                     The Amazing Spider-Man 2     5/2/2014           May   \n",
       "38                                        Venom    10/5/2018       October   \n",
       "49                   X-Men: Days of Future Past    5/23/2014           May   \n",
       "\n",
       "    Release Day  Release Year         Ownership  Domestic Box Office  \\\n",
       "5             4          2012    Marvel Studios            623357910   \n",
       "6             3          2013    Marvel Studios            408992272   \n",
       "10            1          2015    Marvel Studios            459005868   \n",
       "12            6          2016    Marvel Studios            408084349   \n",
       "15            7          2017    Marvel Studios            334201140   \n",
       "16            3          2017    Marvel Studios            315058289   \n",
       "17           16          2018    Marvel Studios            700059566   \n",
       "18           27          2018    Marvel Studios            678815482   \n",
       "20            8          2019    Marvel Studios            426829839   \n",
       "21           26          2019    Marvel Studios            858373000   \n",
       "22            2          2019    Marvel Studios            390532085   \n",
       "26           17          2021    Marvel Studios            814115070   \n",
       "27            6          2022    Marvel Studios            411331607   \n",
       "35            4          2007     Sony Pictures            336530303   \n",
       "37            2          2014     Sony Pictures            202853933   \n",
       "38            5          2018     Sony Pictures            213511408   \n",
       "49           23          2014  20th Century Fox            233921534   \n",
       "\n",
       "    Inflation Adjusted Domestic  International Box Office  \\\n",
       "5                     824617936                 891742301   \n",
       "6                     529727993                 806400000   \n",
       "10                    573348960                 936311111   \n",
       "12                    496777822                 743815237   \n",
       "15                    392323076                 544070151   \n",
       "16                    369781873                 535424489   \n",
       "17                    809179714                 636434754   \n",
       "18                    784624259                1369544272   \n",
       "20                    490667926                 702746255   \n",
       "21                    986754117                1930539285   \n",
       "22                    448941359                 741575437   \n",
       "26                    821277378                1093721184   \n",
       "27                    411331607                 540893379   \n",
       "35                    515067453                 558329927   \n",
       "37                    261450655                 506142403   \n",
       "38                    246791473                 642569645   \n",
       "49                    301492496                 513941241   \n",
       "\n",
       "    Inflation Adjusted International  ...  Inflation Adjusted Opening Weekend  \\\n",
       "5                         1179654070  ...                           274413265   \n",
       "6                         1044451651  ...                           225552578   \n",
       "10                        1169555858  ...                           238918713   \n",
       "12                         905476807  ...                           218073428   \n",
       "15                         638691045  ...                           137380112   \n",
       "16                         628424255  ...                           144064999   \n",
       "17                         735637533  ...                           233490845   \n",
       "18                        1583018785  ...                           297866285   \n",
       "20                         807851317  ...                           176381435   \n",
       "21                        2219277153  ...                           410526314   \n",
       "22                         852487919  ...                           106425666   \n",
       "26                        1103343372  ...                           262427180   \n",
       "27                         540893379  ...                           187420998   \n",
       "35                         854536934  ...                           231287341   \n",
       "37                         652347533  ...                           118070472   \n",
       "38                         742727101  ...                            92765236   \n",
       "49                         662399160  ...                           117059133   \n",
       "\n",
       "       Budget  Inflation Adjusted Budget  IMDb Score  Meta Score  Tomatometer  \\\n",
       "5   225000000                  297644471         8.0          69           91   \n",
       "6   200000000                  259040588         7.1          62           79   \n",
       "10  365000000                  455925262         7.3          66           76   \n",
       "12  250000000                  304335258         7.8          75           90   \n",
       "15  175000000                  205434782         7.4          73           92   \n",
       "16  180000000                  211264834         7.9          74           93   \n",
       "17  200000000                  231174532         7.3          88           96   \n",
       "18  300000000                  346761799         8.4          68           85   \n",
       "20  175000000                  201173581         6.8          64           79   \n",
       "21  400000000                  459825329         8.4          78           94   \n",
       "22  160000000                  183930131         7.4          69           90   \n",
       "26  200000000                  201759532         8.2          71           93   \n",
       "27  200000000                  200000000         6.9          60           73   \n",
       "35  258000000                  394874998         6.3          59           63   \n",
       "37  200000000                  257772330         6.6          53           51   \n",
       "38  116000000                  134080943         6.6          35           30   \n",
       "49  200000000                  257772331         7.9          75           90   \n",
       "\n",
       "    Rotten Tomato Audience Score  Run Time In Minutes  Phase  \\\n",
       "5                             91                  143    1.0   \n",
       "6                             78                  130    2.0   \n",
       "10                            82                  141    2.0   \n",
       "12                            89                  147    3.0   \n",
       "15                            87                  133    3.0   \n",
       "16                            87                  130    3.0   \n",
       "17                            79                  134    3.0   \n",
       "18                            92                  149    3.0   \n",
       "20                            45                  123    3.0   \n",
       "21                            90                  181    3.0   \n",
       "22                            95                  129    3.0   \n",
       "26                            98                  148    4.0   \n",
       "27                            85                  126    4.0   \n",
       "35                            51                  139    NaN   \n",
       "37                            64                  142    NaN   \n",
       "38                            80                  112    NaN   \n",
       "49                            91                  132    NaN   \n",
       "\n",
       "                   Director  \n",
       "5               Joss Whedon  \n",
       "6               Shane Black  \n",
       "10              Joss Whedon  \n",
       "12    Anthony and Joe Russo  \n",
       "15                Jon Watts  \n",
       "16            Taika Waititi  \n",
       "17             Ryan Coogler  \n",
       "18    Anthony and Joe Russo  \n",
       "20  Anna Boden & Ryan Fleck  \n",
       "21    Anthony and Joe Russo  \n",
       "22                Jon Watts  \n",
       "26                Jon Watts  \n",
       "27                Sam Raimi  \n",
       "35                Sam Raimi  \n",
       "37                Marc Webb  \n",
       "38          Ruben Fleischer  \n",
       "49             Brian Singer  \n",
       "\n",
       "[17 rows x 23 columns]"
      ]
     },
     "execution_count": 112,
     "metadata": {},
     "output_type": "execute_result"
    }
   ],
   "source": [
    "remove_outlier(df,'International Box Office',498430303.75)"
   ]
  },
  {
   "cell_type": "code",
   "execution_count": 115,
   "id": "91b83afd",
   "metadata": {},
   "outputs": [
    {
     "data": {
      "text/html": [
       "<div>\n",
       "<style scoped>\n",
       "    .dataframe tbody tr th:only-of-type {\n",
       "        vertical-align: middle;\n",
       "    }\n",
       "\n",
       "    .dataframe tbody tr th {\n",
       "        vertical-align: top;\n",
       "    }\n",
       "\n",
       "    .dataframe thead th {\n",
       "        text-align: right;\n",
       "    }\n",
       "</style>\n",
       "<table border=\"1\" class=\"dataframe\">\n",
       "  <thead>\n",
       "    <tr style=\"text-align: right;\">\n",
       "      <th></th>\n",
       "      <th>id</th>\n",
       "      <th>date</th>\n",
       "      <th>price</th>\n",
       "      <th>bedrooms</th>\n",
       "      <th>bathrooms</th>\n",
       "      <th>sqft_living</th>\n",
       "      <th>sqft_lot</th>\n",
       "      <th>floors</th>\n",
       "      <th>waterfront</th>\n",
       "      <th>view</th>\n",
       "      <th>...</th>\n",
       "      <th>grade</th>\n",
       "      <th>sqft_above</th>\n",
       "      <th>sqft_basement</th>\n",
       "      <th>yr_built</th>\n",
       "      <th>yr_renovated</th>\n",
       "      <th>zipcode</th>\n",
       "      <th>lat</th>\n",
       "      <th>long</th>\n",
       "      <th>sqft_living15</th>\n",
       "      <th>sqft_lot15</th>\n",
       "    </tr>\n",
       "  </thead>\n",
       "  <tbody>\n",
       "    <tr>\n",
       "      <th>0</th>\n",
       "      <td>7129300520</td>\n",
       "      <td>20141013T000000</td>\n",
       "      <td>221900.0</td>\n",
       "      <td>3</td>\n",
       "      <td>1.00</td>\n",
       "      <td>1180</td>\n",
       "      <td>5650</td>\n",
       "      <td>1.0</td>\n",
       "      <td>0</td>\n",
       "      <td>0</td>\n",
       "      <td>...</td>\n",
       "      <td>7</td>\n",
       "      <td>1180</td>\n",
       "      <td>0</td>\n",
       "      <td>1955</td>\n",
       "      <td>0</td>\n",
       "      <td>98178</td>\n",
       "      <td>47.5112</td>\n",
       "      <td>-122.257</td>\n",
       "      <td>1340</td>\n",
       "      <td>5650</td>\n",
       "    </tr>\n",
       "    <tr>\n",
       "      <th>1</th>\n",
       "      <td>6414100192</td>\n",
       "      <td>20141209T000000</td>\n",
       "      <td>538000.0</td>\n",
       "      <td>3</td>\n",
       "      <td>2.25</td>\n",
       "      <td>2570</td>\n",
       "      <td>7242</td>\n",
       "      <td>2.0</td>\n",
       "      <td>0</td>\n",
       "      <td>0</td>\n",
       "      <td>...</td>\n",
       "      <td>7</td>\n",
       "      <td>2170</td>\n",
       "      <td>400</td>\n",
       "      <td>1951</td>\n",
       "      <td>1991</td>\n",
       "      <td>98125</td>\n",
       "      <td>47.7210</td>\n",
       "      <td>-122.319</td>\n",
       "      <td>1690</td>\n",
       "      <td>7639</td>\n",
       "    </tr>\n",
       "    <tr>\n",
       "      <th>2</th>\n",
       "      <td>5631500400</td>\n",
       "      <td>20150225T000000</td>\n",
       "      <td>180000.0</td>\n",
       "      <td>2</td>\n",
       "      <td>1.00</td>\n",
       "      <td>770</td>\n",
       "      <td>10000</td>\n",
       "      <td>1.0</td>\n",
       "      <td>0</td>\n",
       "      <td>0</td>\n",
       "      <td>...</td>\n",
       "      <td>6</td>\n",
       "      <td>770</td>\n",
       "      <td>0</td>\n",
       "      <td>1933</td>\n",
       "      <td>0</td>\n",
       "      <td>98028</td>\n",
       "      <td>47.7379</td>\n",
       "      <td>-122.233</td>\n",
       "      <td>2720</td>\n",
       "      <td>8062</td>\n",
       "    </tr>\n",
       "  </tbody>\n",
       "</table>\n",
       "<p>3 rows × 21 columns</p>\n",
       "</div>"
      ],
      "text/plain": [
       "           id             date     price  bedrooms  bathrooms  sqft_living  \\\n",
       "0  7129300520  20141013T000000  221900.0         3       1.00         1180   \n",
       "1  6414100192  20141209T000000  538000.0         3       2.25         2570   \n",
       "2  5631500400  20150225T000000  180000.0         2       1.00          770   \n",
       "\n",
       "   sqft_lot  floors  waterfront  view  ...  grade  sqft_above  sqft_basement  \\\n",
       "0      5650     1.0           0     0  ...      7        1180              0   \n",
       "1      7242     2.0           0     0  ...      7        2170            400   \n",
       "2     10000     1.0           0     0  ...      6         770              0   \n",
       "\n",
       "   yr_built  yr_renovated  zipcode      lat     long  sqft_living15  \\\n",
       "0      1955             0    98178  47.5112 -122.257           1340   \n",
       "1      1951          1991    98125  47.7210 -122.319           1690   \n",
       "2      1933             0    98028  47.7379 -122.233           2720   \n",
       "\n",
       "   sqft_lot15  \n",
       "0        5650  \n",
       "1        7639  \n",
       "2        8062  \n",
       "\n",
       "[3 rows x 21 columns]"
      ]
     },
     "execution_count": 115,
     "metadata": {},
     "output_type": "execute_result"
    }
   ],
   "source": [
    "df = pd.read_csv(\"housingData-Real.csv\")\n",
    "df.head(3)"
   ]
  },
  {
   "cell_type": "code",
   "execution_count": 117,
   "id": "8632b341",
   "metadata": {},
   "outputs": [
    {
     "data": {
      "text/plain": [
       "id               0\n",
       "date             0\n",
       "price            0\n",
       "bedrooms         0\n",
       "bathrooms        0\n",
       "sqft_living      0\n",
       "sqft_lot         0\n",
       "floors           0\n",
       "waterfront       0\n",
       "view             0\n",
       "condition        0\n",
       "grade            0\n",
       "sqft_above       0\n",
       "sqft_basement    0\n",
       "yr_built         0\n",
       "yr_renovated     0\n",
       "zipcode          0\n",
       "lat              0\n",
       "long             0\n",
       "sqft_living15    0\n",
       "sqft_lot15       0\n",
       "dtype: int64"
      ]
     },
     "execution_count": 117,
     "metadata": {},
     "output_type": "execute_result"
    }
   ],
   "source": [
    "df.isnull().sum()"
   ]
  }
 ],
 "metadata": {
  "kernelspec": {
   "display_name": "Python 3 (ipykernel)",
   "language": "python",
   "name": "python3"
  },
  "language_info": {
   "codemirror_mode": {
    "name": "ipython",
    "version": 3
   },
   "file_extension": ".py",
   "mimetype": "text/x-python",
   "name": "python",
   "nbconvert_exporter": "python",
   "pygments_lexer": "ipython3",
   "version": "3.11.5"
  }
 },
 "nbformat": 4,
 "nbformat_minor": 5
}
